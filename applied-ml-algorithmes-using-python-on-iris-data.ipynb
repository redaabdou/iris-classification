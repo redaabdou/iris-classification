{
 "cells": [
  {
   "cell_type": "markdown",
   "metadata": {},
   "source": [
    "In this notebook we will try to analyse one of the most famous datasets using seaborn, matplotlip and plotly libraries, and we will then use different ML classification algorithmes to classify the type o species based on their petal and sepal width and lenght. "
   ]
  },
  {
   "cell_type": "markdown",
   "metadata": {},
   "source": [
    "let's load the required libraries"
   ]
  },
  {
   "cell_type": "code",
   "execution_count": 1,
   "metadata": {
    "_cell_guid": "b1076dfc-b9ad-4769-8c92-a6c4dae69d19",
    "_uuid": "8f2839f25d086af736a60e9eeb907d3b93b6e0e5"
   },
   "outputs": [
    {
     "data": {
      "text/html": [
       "        <script type=\"text/javascript\">\n",
       "        window.PlotlyConfig = {MathJaxConfig: 'local'};\n",
       "        if (window.MathJax) {MathJax.Hub.Config({SVG: {font: \"STIX-Web\"}});}\n",
       "        if (typeof require !== 'undefined') {\n",
       "        require.undef(\"plotly\");\n",
       "        requirejs.config({\n",
       "            paths: {\n",
       "                'plotly': ['https://cdn.plot.ly/plotly-latest.min']\n",
       "            }\n",
       "        });\n",
       "        require(['plotly'], function(Plotly) {\n",
       "            window._Plotly = Plotly;\n",
       "        });\n",
       "        }\n",
       "        </script>\n",
       "        "
      ]
     },
     "metadata": {},
     "output_type": "display_data"
    },
    {
     "name": "stderr",
     "output_type": "stream",
     "text": [
      "Using TensorFlow backend.\n"
     ]
    },
    {
     "name": "stdout",
     "output_type": "stream",
     "text": [
      "['Iris.csv', 'database.sqlite']\n"
     ]
    }
   ],
   "source": [
    "# This Python 3 environment comes with many helpful analytics libraries installed\n",
    "# It is defined by the kaggle/python docker image: https://github.com/kaggle/docker-python\n",
    "# For example, here's several helpful packages to load in \n",
    "import numpy as np\n",
    "import random\n",
    "import pandas as pd\n",
    "from pandas.tools import plotting\n",
    "import seaborn as sns\n",
    "import matplotlib.pyplot as plt\n",
    "%matplotlib inline\n",
    "\n",
    "\n",
    "import plotly.offline as py\n",
    "from plotly.offline import init_notebook_mode, iplot\n",
    "import plotly.graph_objs as go\n",
    "from plotly import tools\n",
    "init_notebook_mode(connected=True)  \n",
    "import plotly.figure_factory as ff\n",
    "\n",
    "\n",
    "from sklearn.model_selection import train_test_split\n",
    "from sklearn.linear_model import LogisticRegression\n",
    "from sklearn.svm import SVC\n",
    "from sklearn.naive_bayes import GaussianNB\n",
    "from sklearn.tree import DecisionTreeClassifier\n",
    "from sklearn.ensemble import RandomForestClassifier, ExtraTreesClassifier\n",
    "from sklearn.neighbors import KNeighborsClassifier\n",
    "from lightgbm import LGBMClassifier\n",
    "from sklearn.metrics import  accuracy_score\n",
    "from sklearn.metrics import confusion_matrix\n",
    "from sklearn.preprocessing import StandardScaler, LabelBinarizer\n",
    "\n",
    "import xgboost as xgb\n",
    "import lightgbm as  lgb\n",
    "from xgboost.sklearn import XGBClassifier\n",
    "from catboost import CatBoostClassifier\n",
    "\n",
    "import keras\n",
    "from keras.models import Sequential\n",
    "from keras.layers import Dense\n",
    "\n",
    "import warnings\n",
    "warnings.filterwarnings('ignore')\n",
    "\n",
    "# Input data files are available in the \"../input/\" directory.\n",
    "# For example, running this (by clicking run or pressing Shift+Enter) will list the files in the input directory\n",
    "\n",
    "import os\n",
    "print(os.listdir(\"../input\"))\n",
    "# Any results you write to the current directory are saved as output."
   ]
  },
  {
   "cell_type": "markdown",
   "metadata": {},
   "source": [
    " Let's begin by importing the Iris dataset, and showing the first 5 rows."
   ]
  },
  {
   "cell_type": "code",
   "execution_count": 2,
   "metadata": {
    "_uuid": "fbb3844dea9a72db1f5ea20d4e70ed148cc1905e"
   },
   "outputs": [
    {
     "data": {
      "application/vnd.plotly.v1+json": {
       "config": {
        "linkText": "Export to plot.ly",
        "plotlyServerURL": "https://plot.ly",
        "showLink": false
       },
       "data": [
        {
         "colorscale": [
          [
           0,
           "#00083e"
          ],
          [
           0.5,
           "#ededee"
          ],
          [
           1,
           "#ffffff"
          ]
         ],
         "hoverinfo": "none",
         "opacity": 0.75,
         "showscale": false,
         "type": "heatmap",
         "z": [
          [
           0,
           0,
           0,
           0,
           0,
           0
          ],
          [
           0.5,
           0.5,
           0.5,
           0.5,
           0.5,
           0.5
          ],
          [
           1,
           1,
           1,
           1,
           1,
           1
          ],
          [
           0.5,
           0.5,
           0.5,
           0.5,
           0.5,
           0.5
          ],
          [
           1,
           1,
           1,
           1,
           1,
           1
          ],
          [
           0.5,
           0.5,
           0.5,
           0.5,
           0.5,
           0.5
          ]
         ]
        }
       ],
       "layout": {
        "annotations": [
         {
          "align": "left",
          "font": {
           "color": "#ffffff"
          },
          "showarrow": false,
          "text": "<b>Id</b>",
          "x": -0.45,
          "xanchor": "left",
          "xref": "x",
          "y": 0,
          "yref": "y"
         },
         {
          "align": "left",
          "font": {
           "color": "#ffffff"
          },
          "showarrow": false,
          "text": "<b>SepalLengthCm</b>",
          "x": 0.55,
          "xanchor": "left",
          "xref": "x",
          "y": 0,
          "yref": "y"
         },
         {
          "align": "left",
          "font": {
           "color": "#ffffff"
          },
          "showarrow": false,
          "text": "<b>SepalWidthCm</b>",
          "x": 1.55,
          "xanchor": "left",
          "xref": "x",
          "y": 0,
          "yref": "y"
         },
         {
          "align": "left",
          "font": {
           "color": "#ffffff"
          },
          "showarrow": false,
          "text": "<b>PetalLengthCm</b>",
          "x": 2.55,
          "xanchor": "left",
          "xref": "x",
          "y": 0,
          "yref": "y"
         },
         {
          "align": "left",
          "font": {
           "color": "#ffffff"
          },
          "showarrow": false,
          "text": "<b>PetalWidthCm</b>",
          "x": 3.55,
          "xanchor": "left",
          "xref": "x",
          "y": 0,
          "yref": "y"
         },
         {
          "align": "left",
          "font": {
           "color": "#ffffff"
          },
          "showarrow": false,
          "text": "<b>Species</b>",
          "x": 4.55,
          "xanchor": "left",
          "xref": "x",
          "y": 0,
          "yref": "y"
         },
         {
          "align": "left",
          "font": {
           "color": "#000000"
          },
          "showarrow": false,
          "text": "1",
          "x": -0.45,
          "xanchor": "left",
          "xref": "x",
          "y": 1,
          "yref": "y"
         },
         {
          "align": "left",
          "font": {
           "color": "#000000"
          },
          "showarrow": false,
          "text": "5.1",
          "x": 0.55,
          "xanchor": "left",
          "xref": "x",
          "y": 1,
          "yref": "y"
         },
         {
          "align": "left",
          "font": {
           "color": "#000000"
          },
          "showarrow": false,
          "text": "3.5",
          "x": 1.55,
          "xanchor": "left",
          "xref": "x",
          "y": 1,
          "yref": "y"
         },
         {
          "align": "left",
          "font": {
           "color": "#000000"
          },
          "showarrow": false,
          "text": "1.4",
          "x": 2.55,
          "xanchor": "left",
          "xref": "x",
          "y": 1,
          "yref": "y"
         },
         {
          "align": "left",
          "font": {
           "color": "#000000"
          },
          "showarrow": false,
          "text": "0.2",
          "x": 3.55,
          "xanchor": "left",
          "xref": "x",
          "y": 1,
          "yref": "y"
         },
         {
          "align": "left",
          "font": {
           "color": "#000000"
          },
          "showarrow": false,
          "text": "Iris-setosa",
          "x": 4.55,
          "xanchor": "left",
          "xref": "x",
          "y": 1,
          "yref": "y"
         },
         {
          "align": "left",
          "font": {
           "color": "#000000"
          },
          "showarrow": false,
          "text": "2",
          "x": -0.45,
          "xanchor": "left",
          "xref": "x",
          "y": 2,
          "yref": "y"
         },
         {
          "align": "left",
          "font": {
           "color": "#000000"
          },
          "showarrow": false,
          "text": "4.9",
          "x": 0.55,
          "xanchor": "left",
          "xref": "x",
          "y": 2,
          "yref": "y"
         },
         {
          "align": "left",
          "font": {
           "color": "#000000"
          },
          "showarrow": false,
          "text": "3.0",
          "x": 1.55,
          "xanchor": "left",
          "xref": "x",
          "y": 2,
          "yref": "y"
         },
         {
          "align": "left",
          "font": {
           "color": "#000000"
          },
          "showarrow": false,
          "text": "1.4",
          "x": 2.55,
          "xanchor": "left",
          "xref": "x",
          "y": 2,
          "yref": "y"
         },
         {
          "align": "left",
          "font": {
           "color": "#000000"
          },
          "showarrow": false,
          "text": "0.2",
          "x": 3.55,
          "xanchor": "left",
          "xref": "x",
          "y": 2,
          "yref": "y"
         },
         {
          "align": "left",
          "font": {
           "color": "#000000"
          },
          "showarrow": false,
          "text": "Iris-setosa",
          "x": 4.55,
          "xanchor": "left",
          "xref": "x",
          "y": 2,
          "yref": "y"
         },
         {
          "align": "left",
          "font": {
           "color": "#000000"
          },
          "showarrow": false,
          "text": "3",
          "x": -0.45,
          "xanchor": "left",
          "xref": "x",
          "y": 3,
          "yref": "y"
         },
         {
          "align": "left",
          "font": {
           "color": "#000000"
          },
          "showarrow": false,
          "text": "4.7",
          "x": 0.55,
          "xanchor": "left",
          "xref": "x",
          "y": 3,
          "yref": "y"
         },
         {
          "align": "left",
          "font": {
           "color": "#000000"
          },
          "showarrow": false,
          "text": "3.2",
          "x": 1.55,
          "xanchor": "left",
          "xref": "x",
          "y": 3,
          "yref": "y"
         },
         {
          "align": "left",
          "font": {
           "color": "#000000"
          },
          "showarrow": false,
          "text": "1.3",
          "x": 2.55,
          "xanchor": "left",
          "xref": "x",
          "y": 3,
          "yref": "y"
         },
         {
          "align": "left",
          "font": {
           "color": "#000000"
          },
          "showarrow": false,
          "text": "0.2",
          "x": 3.55,
          "xanchor": "left",
          "xref": "x",
          "y": 3,
          "yref": "y"
         },
         {
          "align": "left",
          "font": {
           "color": "#000000"
          },
          "showarrow": false,
          "text": "Iris-setosa",
          "x": 4.55,
          "xanchor": "left",
          "xref": "x",
          "y": 3,
          "yref": "y"
         },
         {
          "align": "left",
          "font": {
           "color": "#000000"
          },
          "showarrow": false,
          "text": "4",
          "x": -0.45,
          "xanchor": "left",
          "xref": "x",
          "y": 4,
          "yref": "y"
         },
         {
          "align": "left",
          "font": {
           "color": "#000000"
          },
          "showarrow": false,
          "text": "4.6",
          "x": 0.55,
          "xanchor": "left",
          "xref": "x",
          "y": 4,
          "yref": "y"
         },
         {
          "align": "left",
          "font": {
           "color": "#000000"
          },
          "showarrow": false,
          "text": "3.1",
          "x": 1.55,
          "xanchor": "left",
          "xref": "x",
          "y": 4,
          "yref": "y"
         },
         {
          "align": "left",
          "font": {
           "color": "#000000"
          },
          "showarrow": false,
          "text": "1.5",
          "x": 2.55,
          "xanchor": "left",
          "xref": "x",
          "y": 4,
          "yref": "y"
         },
         {
          "align": "left",
          "font": {
           "color": "#000000"
          },
          "showarrow": false,
          "text": "0.2",
          "x": 3.55,
          "xanchor": "left",
          "xref": "x",
          "y": 4,
          "yref": "y"
         },
         {
          "align": "left",
          "font": {
           "color": "#000000"
          },
          "showarrow": false,
          "text": "Iris-setosa",
          "x": 4.55,
          "xanchor": "left",
          "xref": "x",
          "y": 4,
          "yref": "y"
         },
         {
          "align": "left",
          "font": {
           "color": "#000000"
          },
          "showarrow": false,
          "text": "5",
          "x": -0.45,
          "xanchor": "left",
          "xref": "x",
          "y": 5,
          "yref": "y"
         },
         {
          "align": "left",
          "font": {
           "color": "#000000"
          },
          "showarrow": false,
          "text": "5.0",
          "x": 0.55,
          "xanchor": "left",
          "xref": "x",
          "y": 5,
          "yref": "y"
         },
         {
          "align": "left",
          "font": {
           "color": "#000000"
          },
          "showarrow": false,
          "text": "3.6",
          "x": 1.55,
          "xanchor": "left",
          "xref": "x",
          "y": 5,
          "yref": "y"
         },
         {
          "align": "left",
          "font": {
           "color": "#000000"
          },
          "showarrow": false,
          "text": "1.4",
          "x": 2.55,
          "xanchor": "left",
          "xref": "x",
          "y": 5,
          "yref": "y"
         },
         {
          "align": "left",
          "font": {
           "color": "#000000"
          },
          "showarrow": false,
          "text": "0.2",
          "x": 3.55,
          "xanchor": "left",
          "xref": "x",
          "y": 5,
          "yref": "y"
         },
         {
          "align": "left",
          "font": {
           "color": "#000000"
          },
          "showarrow": false,
          "text": "Iris-setosa",
          "x": 4.55,
          "xanchor": "left",
          "xref": "x",
          "y": 5,
          "yref": "y"
         }
        ],
        "height": 230,
        "margin": {
         "b": 0,
         "l": 0,
         "r": 0,
         "t": 0
        },
        "template": {
         "data": {
          "bar": [
           {
            "error_x": {
             "color": "#2a3f5f"
            },
            "error_y": {
             "color": "#2a3f5f"
            },
            "marker": {
             "line": {
              "color": "#E5ECF6",
              "width": 0.5
             }
            },
            "type": "bar"
           }
          ],
          "barpolar": [
           {
            "marker": {
             "line": {
              "color": "#E5ECF6",
              "width": 0.5
             }
            },
            "type": "barpolar"
           }
          ],
          "carpet": [
           {
            "aaxis": {
             "endlinecolor": "#2a3f5f",
             "gridcolor": "white",
             "linecolor": "white",
             "minorgridcolor": "white",
             "startlinecolor": "#2a3f5f"
            },
            "baxis": {
             "endlinecolor": "#2a3f5f",
             "gridcolor": "white",
             "linecolor": "white",
             "minorgridcolor": "white",
             "startlinecolor": "#2a3f5f"
            },
            "type": "carpet"
           }
          ],
          "choropleth": [
           {
            "colorbar": {
             "outlinewidth": 0,
             "ticks": ""
            },
            "type": "choropleth"
           }
          ],
          "contour": [
           {
            "colorbar": {
             "outlinewidth": 0,
             "ticks": ""
            },
            "colorscale": [
             [
              0.0,
              "#0d0887"
             ],
             [
              0.1111111111111111,
              "#46039f"
             ],
             [
              0.2222222222222222,
              "#7201a8"
             ],
             [
              0.3333333333333333,
              "#9c179e"
             ],
             [
              0.4444444444444444,
              "#bd3786"
             ],
             [
              0.5555555555555556,
              "#d8576b"
             ],
             [
              0.6666666666666666,
              "#ed7953"
             ],
             [
              0.7777777777777778,
              "#fb9f3a"
             ],
             [
              0.8888888888888888,
              "#fdca26"
             ],
             [
              1.0,
              "#f0f921"
             ]
            ],
            "type": "contour"
           }
          ],
          "contourcarpet": [
           {
            "colorbar": {
             "outlinewidth": 0,
             "ticks": ""
            },
            "type": "contourcarpet"
           }
          ],
          "heatmap": [
           {
            "colorbar": {
             "outlinewidth": 0,
             "ticks": ""
            },
            "colorscale": [
             [
              0.0,
              "#0d0887"
             ],
             [
              0.1111111111111111,
              "#46039f"
             ],
             [
              0.2222222222222222,
              "#7201a8"
             ],
             [
              0.3333333333333333,
              "#9c179e"
             ],
             [
              0.4444444444444444,
              "#bd3786"
             ],
             [
              0.5555555555555556,
              "#d8576b"
             ],
             [
              0.6666666666666666,
              "#ed7953"
             ],
             [
              0.7777777777777778,
              "#fb9f3a"
             ],
             [
              0.8888888888888888,
              "#fdca26"
             ],
             [
              1.0,
              "#f0f921"
             ]
            ],
            "type": "heatmap"
           }
          ],
          "heatmapgl": [
           {
            "colorbar": {
             "outlinewidth": 0,
             "ticks": ""
            },
            "colorscale": [
             [
              0.0,
              "#0d0887"
             ],
             [
              0.1111111111111111,
              "#46039f"
             ],
             [
              0.2222222222222222,
              "#7201a8"
             ],
             [
              0.3333333333333333,
              "#9c179e"
             ],
             [
              0.4444444444444444,
              "#bd3786"
             ],
             [
              0.5555555555555556,
              "#d8576b"
             ],
             [
              0.6666666666666666,
              "#ed7953"
             ],
             [
              0.7777777777777778,
              "#fb9f3a"
             ],
             [
              0.8888888888888888,
              "#fdca26"
             ],
             [
              1.0,
              "#f0f921"
             ]
            ],
            "type": "heatmapgl"
           }
          ],
          "histogram": [
           {
            "marker": {
             "colorbar": {
              "outlinewidth": 0,
              "ticks": ""
             }
            },
            "type": "histogram"
           }
          ],
          "histogram2d": [
           {
            "colorbar": {
             "outlinewidth": 0,
             "ticks": ""
            },
            "colorscale": [
             [
              0.0,
              "#0d0887"
             ],
             [
              0.1111111111111111,
              "#46039f"
             ],
             [
              0.2222222222222222,
              "#7201a8"
             ],
             [
              0.3333333333333333,
              "#9c179e"
             ],
             [
              0.4444444444444444,
              "#bd3786"
             ],
             [
              0.5555555555555556,
              "#d8576b"
             ],
             [
              0.6666666666666666,
              "#ed7953"
             ],
             [
              0.7777777777777778,
              "#fb9f3a"
             ],
             [
              0.8888888888888888,
              "#fdca26"
             ],
             [
              1.0,
              "#f0f921"
             ]
            ],
            "type": "histogram2d"
           }
          ],
          "histogram2dcontour": [
           {
            "colorbar": {
             "outlinewidth": 0,
             "ticks": ""
            },
            "colorscale": [
             [
              0.0,
              "#0d0887"
             ],
             [
              0.1111111111111111,
              "#46039f"
             ],
             [
              0.2222222222222222,
              "#7201a8"
             ],
             [
              0.3333333333333333,
              "#9c179e"
             ],
             [
              0.4444444444444444,
              "#bd3786"
             ],
             [
              0.5555555555555556,
              "#d8576b"
             ],
             [
              0.6666666666666666,
              "#ed7953"
             ],
             [
              0.7777777777777778,
              "#fb9f3a"
             ],
             [
              0.8888888888888888,
              "#fdca26"
             ],
             [
              1.0,
              "#f0f921"
             ]
            ],
            "type": "histogram2dcontour"
           }
          ],
          "mesh3d": [
           {
            "colorbar": {
             "outlinewidth": 0,
             "ticks": ""
            },
            "type": "mesh3d"
           }
          ],
          "parcoords": [
           {
            "line": {
             "colorbar": {
              "outlinewidth": 0,
              "ticks": ""
             }
            },
            "type": "parcoords"
           }
          ],
          "scatter": [
           {
            "marker": {
             "colorbar": {
              "outlinewidth": 0,
              "ticks": ""
             }
            },
            "type": "scatter"
           }
          ],
          "scatter3d": [
           {
            "line": {
             "colorbar": {
              "outlinewidth": 0,
              "ticks": ""
             }
            },
            "marker": {
             "colorbar": {
              "outlinewidth": 0,
              "ticks": ""
             }
            },
            "type": "scatter3d"
           }
          ],
          "scattercarpet": [
           {
            "marker": {
             "colorbar": {
              "outlinewidth": 0,
              "ticks": ""
             }
            },
            "type": "scattercarpet"
           }
          ],
          "scattergeo": [
           {
            "marker": {
             "colorbar": {
              "outlinewidth": 0,
              "ticks": ""
             }
            },
            "type": "scattergeo"
           }
          ],
          "scattergl": [
           {
            "marker": {
             "colorbar": {
              "outlinewidth": 0,
              "ticks": ""
             }
            },
            "type": "scattergl"
           }
          ],
          "scattermapbox": [
           {
            "marker": {
             "colorbar": {
              "outlinewidth": 0,
              "ticks": ""
             }
            },
            "type": "scattermapbox"
           }
          ],
          "scatterpolar": [
           {
            "marker": {
             "colorbar": {
              "outlinewidth": 0,
              "ticks": ""
             }
            },
            "type": "scatterpolar"
           }
          ],
          "scatterpolargl": [
           {
            "marker": {
             "colorbar": {
              "outlinewidth": 0,
              "ticks": ""
             }
            },
            "type": "scatterpolargl"
           }
          ],
          "scatterternary": [
           {
            "marker": {
             "colorbar": {
              "outlinewidth": 0,
              "ticks": ""
             }
            },
            "type": "scatterternary"
           }
          ],
          "surface": [
           {
            "colorbar": {
             "outlinewidth": 0,
             "ticks": ""
            },
            "colorscale": [
             [
              0.0,
              "#0d0887"
             ],
             [
              0.1111111111111111,
              "#46039f"
             ],
             [
              0.2222222222222222,
              "#7201a8"
             ],
             [
              0.3333333333333333,
              "#9c179e"
             ],
             [
              0.4444444444444444,
              "#bd3786"
             ],
             [
              0.5555555555555556,
              "#d8576b"
             ],
             [
              0.6666666666666666,
              "#ed7953"
             ],
             [
              0.7777777777777778,
              "#fb9f3a"
             ],
             [
              0.8888888888888888,
              "#fdca26"
             ],
             [
              1.0,
              "#f0f921"
             ]
            ],
            "type": "surface"
           }
          ],
          "table": [
           {
            "cells": {
             "fill": {
              "color": "#EBF0F8"
             },
             "line": {
              "color": "white"
             }
            },
            "header": {
             "fill": {
              "color": "#C8D4E3"
             },
             "line": {
              "color": "white"
             }
            },
            "type": "table"
           }
          ]
         },
         "layout": {
          "annotationdefaults": {
           "arrowcolor": "#2a3f5f",
           "arrowhead": 0,
           "arrowwidth": 1
          },
          "colorscale": {
           "diverging": [
            [
             0,
             "#8e0152"
            ],
            [
             0.1,
             "#c51b7d"
            ],
            [
             0.2,
             "#de77ae"
            ],
            [
             0.3,
             "#f1b6da"
            ],
            [
             0.4,
             "#fde0ef"
            ],
            [
             0.5,
             "#f7f7f7"
            ],
            [
             0.6,
             "#e6f5d0"
            ],
            [
             0.7,
             "#b8e186"
            ],
            [
             0.8,
             "#7fbc41"
            ],
            [
             0.9,
             "#4d9221"
            ],
            [
             1,
             "#276419"
            ]
           ],
           "sequential": [
            [
             0.0,
             "#0d0887"
            ],
            [
             0.1111111111111111,
             "#46039f"
            ],
            [
             0.2222222222222222,
             "#7201a8"
            ],
            [
             0.3333333333333333,
             "#9c179e"
            ],
            [
             0.4444444444444444,
             "#bd3786"
            ],
            [
             0.5555555555555556,
             "#d8576b"
            ],
            [
             0.6666666666666666,
             "#ed7953"
            ],
            [
             0.7777777777777778,
             "#fb9f3a"
            ],
            [
             0.8888888888888888,
             "#fdca26"
            ],
            [
             1.0,
             "#f0f921"
            ]
           ],
           "sequentialminus": [
            [
             0.0,
             "#0d0887"
            ],
            [
             0.1111111111111111,
             "#46039f"
            ],
            [
             0.2222222222222222,
             "#7201a8"
            ],
            [
             0.3333333333333333,
             "#9c179e"
            ],
            [
             0.4444444444444444,
             "#bd3786"
            ],
            [
             0.5555555555555556,
             "#d8576b"
            ],
            [
             0.6666666666666666,
             "#ed7953"
            ],
            [
             0.7777777777777778,
             "#fb9f3a"
            ],
            [
             0.8888888888888888,
             "#fdca26"
            ],
            [
             1.0,
             "#f0f921"
            ]
           ]
          },
          "colorway": [
           "#636efa",
           "#EF553B",
           "#00cc96",
           "#ab63fa",
           "#FFA15A",
           "#19d3f3",
           "#FF6692",
           "#B6E880",
           "#FF97FF",
           "#FECB52"
          ],
          "font": {
           "color": "#2a3f5f"
          },
          "geo": {
           "bgcolor": "white",
           "lakecolor": "white",
           "landcolor": "#E5ECF6",
           "showlakes": true,
           "showland": true,
           "subunitcolor": "white"
          },
          "hoverlabel": {
           "align": "left"
          },
          "hovermode": "closest",
          "mapbox": {
           "style": "light"
          },
          "paper_bgcolor": "white",
          "plot_bgcolor": "#E5ECF6",
          "polar": {
           "angularaxis": {
            "gridcolor": "white",
            "linecolor": "white",
            "ticks": ""
           },
           "bgcolor": "#E5ECF6",
           "radialaxis": {
            "gridcolor": "white",
            "linecolor": "white",
            "ticks": ""
           }
          },
          "scene": {
           "xaxis": {
            "backgroundcolor": "#E5ECF6",
            "gridcolor": "white",
            "gridwidth": 2,
            "linecolor": "white",
            "showbackground": true,
            "ticks": "",
            "zerolinecolor": "white"
           },
           "yaxis": {
            "backgroundcolor": "#E5ECF6",
            "gridcolor": "white",
            "gridwidth": 2,
            "linecolor": "white",
            "showbackground": true,
            "ticks": "",
            "zerolinecolor": "white"
           },
           "zaxis": {
            "backgroundcolor": "#E5ECF6",
            "gridcolor": "white",
            "gridwidth": 2,
            "linecolor": "white",
            "showbackground": true,
            "ticks": "",
            "zerolinecolor": "white"
           }
          },
          "shapedefaults": {
           "line": {
            "color": "#2a3f5f"
           }
          },
          "ternary": {
           "aaxis": {
            "gridcolor": "white",
            "linecolor": "white",
            "ticks": ""
           },
           "baxis": {
            "gridcolor": "white",
            "linecolor": "white",
            "ticks": ""
           },
           "bgcolor": "#E5ECF6",
           "caxis": {
            "gridcolor": "white",
            "linecolor": "white",
            "ticks": ""
           }
          },
          "title": {
           "x": 0.05
          },
          "xaxis": {
           "automargin": true,
           "gridcolor": "white",
           "linecolor": "white",
           "ticks": "",
           "zerolinecolor": "white",
           "zerolinewidth": 2
          },
          "yaxis": {
           "automargin": true,
           "gridcolor": "white",
           "linecolor": "white",
           "ticks": "",
           "zerolinecolor": "white",
           "zerolinewidth": 2
          }
         }
        },
        "xaxis": {
         "dtick": 1,
         "gridwidth": 2,
         "showticklabels": false,
         "tick0": -0.5,
         "ticks": "",
         "zeroline": false
        },
        "yaxis": {
         "autorange": "reversed",
         "dtick": 1,
         "gridwidth": 2,
         "showticklabels": false,
         "tick0": 0.5,
         "ticks": "",
         "zeroline": false
        }
       }
      },
      "text/html": [
       "<div>\n",
       "        \n",
       "        \n",
       "            <div id=\"168e7d15-21bd-4a12-8b2a-092b9e5da359\" class=\"plotly-graph-div\" style=\"height:230px; width:100%;\"></div>\n",
       "            <script type=\"text/javascript\">\n",
       "                require([\"plotly\"], function(Plotly) {\n",
       "                    window.PLOTLYENV=window.PLOTLYENV || {};\n",
       "                    \n",
       "                if (document.getElementById(\"168e7d15-21bd-4a12-8b2a-092b9e5da359\")) {\n",
       "                    Plotly.newPlot(\n",
       "                        '168e7d15-21bd-4a12-8b2a-092b9e5da359',\n",
       "                        [{\"colorscale\": [[0, \"#00083e\"], [0.5, \"#ededee\"], [1, \"#ffffff\"]], \"hoverinfo\": \"none\", \"opacity\": 0.75, \"showscale\": false, \"type\": \"heatmap\", \"z\": [[0, 0, 0, 0, 0, 0], [0.5, 0.5, 0.5, 0.5, 0.5, 0.5], [1, 1, 1, 1, 1, 1], [0.5, 0.5, 0.5, 0.5, 0.5, 0.5], [1, 1, 1, 1, 1, 1], [0.5, 0.5, 0.5, 0.5, 0.5, 0.5]]}],\n",
       "                        {\"annotations\": [{\"align\": \"left\", \"font\": {\"color\": \"#ffffff\"}, \"showarrow\": false, \"text\": \"<b>Id</b>\", \"x\": -0.45, \"xanchor\": \"left\", \"xref\": \"x\", \"y\": 0, \"yref\": \"y\"}, {\"align\": \"left\", \"font\": {\"color\": \"#ffffff\"}, \"showarrow\": false, \"text\": \"<b>SepalLengthCm</b>\", \"x\": 0.55, \"xanchor\": \"left\", \"xref\": \"x\", \"y\": 0, \"yref\": \"y\"}, {\"align\": \"left\", \"font\": {\"color\": \"#ffffff\"}, \"showarrow\": false, \"text\": \"<b>SepalWidthCm</b>\", \"x\": 1.55, \"xanchor\": \"left\", \"xref\": \"x\", \"y\": 0, \"yref\": \"y\"}, {\"align\": \"left\", \"font\": {\"color\": \"#ffffff\"}, \"showarrow\": false, \"text\": \"<b>PetalLengthCm</b>\", \"x\": 2.55, \"xanchor\": \"left\", \"xref\": \"x\", \"y\": 0, \"yref\": \"y\"}, {\"align\": \"left\", \"font\": {\"color\": \"#ffffff\"}, \"showarrow\": false, \"text\": \"<b>PetalWidthCm</b>\", \"x\": 3.55, \"xanchor\": \"left\", \"xref\": \"x\", \"y\": 0, \"yref\": \"y\"}, {\"align\": \"left\", \"font\": {\"color\": \"#ffffff\"}, \"showarrow\": false, \"text\": \"<b>Species</b>\", \"x\": 4.55, \"xanchor\": \"left\", \"xref\": \"x\", \"y\": 0, \"yref\": \"y\"}, {\"align\": \"left\", \"font\": {\"color\": \"#000000\"}, \"showarrow\": false, \"text\": \"1\", \"x\": -0.45, \"xanchor\": \"left\", \"xref\": \"x\", \"y\": 1, \"yref\": \"y\"}, {\"align\": \"left\", \"font\": {\"color\": \"#000000\"}, \"showarrow\": false, \"text\": \"5.1\", \"x\": 0.55, \"xanchor\": \"left\", \"xref\": \"x\", \"y\": 1, \"yref\": \"y\"}, {\"align\": \"left\", \"font\": {\"color\": \"#000000\"}, \"showarrow\": false, \"text\": \"3.5\", \"x\": 1.55, \"xanchor\": \"left\", \"xref\": \"x\", \"y\": 1, \"yref\": \"y\"}, {\"align\": \"left\", \"font\": {\"color\": \"#000000\"}, \"showarrow\": false, \"text\": \"1.4\", \"x\": 2.55, \"xanchor\": \"left\", \"xref\": \"x\", \"y\": 1, \"yref\": \"y\"}, {\"align\": \"left\", \"font\": {\"color\": \"#000000\"}, \"showarrow\": false, \"text\": \"0.2\", \"x\": 3.55, \"xanchor\": \"left\", \"xref\": \"x\", \"y\": 1, \"yref\": \"y\"}, {\"align\": \"left\", \"font\": {\"color\": \"#000000\"}, \"showarrow\": false, \"text\": \"Iris-setosa\", \"x\": 4.55, \"xanchor\": \"left\", \"xref\": \"x\", \"y\": 1, \"yref\": \"y\"}, {\"align\": \"left\", \"font\": {\"color\": \"#000000\"}, \"showarrow\": false, \"text\": \"2\", \"x\": -0.45, \"xanchor\": \"left\", \"xref\": \"x\", \"y\": 2, \"yref\": \"y\"}, {\"align\": \"left\", \"font\": {\"color\": \"#000000\"}, \"showarrow\": false, \"text\": \"4.9\", \"x\": 0.55, \"xanchor\": \"left\", \"xref\": \"x\", \"y\": 2, \"yref\": \"y\"}, {\"align\": \"left\", \"font\": {\"color\": \"#000000\"}, \"showarrow\": false, \"text\": \"3.0\", \"x\": 1.55, \"xanchor\": \"left\", \"xref\": \"x\", \"y\": 2, \"yref\": \"y\"}, {\"align\": \"left\", \"font\": {\"color\": \"#000000\"}, \"showarrow\": false, \"text\": \"1.4\", \"x\": 2.55, \"xanchor\": \"left\", \"xref\": \"x\", \"y\": 2, \"yref\": \"y\"}, {\"align\": \"left\", \"font\": {\"color\": \"#000000\"}, \"showarrow\": false, \"text\": \"0.2\", \"x\": 3.55, \"xanchor\": \"left\", \"xref\": \"x\", \"y\": 2, \"yref\": \"y\"}, {\"align\": \"left\", \"font\": {\"color\": \"#000000\"}, \"showarrow\": false, \"text\": \"Iris-setosa\", \"x\": 4.55, \"xanchor\": \"left\", \"xref\": \"x\", \"y\": 2, \"yref\": \"y\"}, {\"align\": \"left\", \"font\": {\"color\": \"#000000\"}, \"showarrow\": false, \"text\": \"3\", \"x\": -0.45, \"xanchor\": \"left\", \"xref\": \"x\", \"y\": 3, \"yref\": \"y\"}, {\"align\": \"left\", \"font\": {\"color\": \"#000000\"}, \"showarrow\": false, \"text\": \"4.7\", \"x\": 0.55, \"xanchor\": \"left\", \"xref\": \"x\", \"y\": 3, \"yref\": \"y\"}, {\"align\": \"left\", \"font\": {\"color\": \"#000000\"}, \"showarrow\": false, \"text\": \"3.2\", \"x\": 1.55, \"xanchor\": \"left\", \"xref\": \"x\", \"y\": 3, \"yref\": \"y\"}, {\"align\": \"left\", \"font\": {\"color\": \"#000000\"}, \"showarrow\": false, \"text\": \"1.3\", \"x\": 2.55, \"xanchor\": \"left\", \"xref\": \"x\", \"y\": 3, \"yref\": \"y\"}, {\"align\": \"left\", \"font\": {\"color\": \"#000000\"}, \"showarrow\": false, \"text\": \"0.2\", \"x\": 3.55, \"xanchor\": \"left\", \"xref\": \"x\", \"y\": 3, \"yref\": \"y\"}, {\"align\": \"left\", \"font\": {\"color\": \"#000000\"}, \"showarrow\": false, \"text\": \"Iris-setosa\", \"x\": 4.55, \"xanchor\": \"left\", \"xref\": \"x\", \"y\": 3, \"yref\": \"y\"}, {\"align\": \"left\", \"font\": {\"color\": \"#000000\"}, \"showarrow\": false, \"text\": \"4\", \"x\": -0.45, \"xanchor\": \"left\", \"xref\": \"x\", \"y\": 4, \"yref\": \"y\"}, {\"align\": \"left\", \"font\": {\"color\": \"#000000\"}, \"showarrow\": false, \"text\": \"4.6\", \"x\": 0.55, \"xanchor\": \"left\", \"xref\": \"x\", \"y\": 4, \"yref\": \"y\"}, {\"align\": \"left\", \"font\": {\"color\": \"#000000\"}, \"showarrow\": false, \"text\": \"3.1\", \"x\": 1.55, \"xanchor\": \"left\", \"xref\": \"x\", \"y\": 4, \"yref\": \"y\"}, {\"align\": \"left\", \"font\": {\"color\": \"#000000\"}, \"showarrow\": false, \"text\": \"1.5\", \"x\": 2.55, \"xanchor\": \"left\", \"xref\": \"x\", \"y\": 4, \"yref\": \"y\"}, {\"align\": \"left\", \"font\": {\"color\": \"#000000\"}, \"showarrow\": false, \"text\": \"0.2\", \"x\": 3.55, \"xanchor\": \"left\", \"xref\": \"x\", \"y\": 4, \"yref\": \"y\"}, {\"align\": \"left\", \"font\": {\"color\": \"#000000\"}, \"showarrow\": false, \"text\": \"Iris-setosa\", \"x\": 4.55, \"xanchor\": \"left\", \"xref\": \"x\", \"y\": 4, \"yref\": \"y\"}, {\"align\": \"left\", \"font\": {\"color\": \"#000000\"}, \"showarrow\": false, \"text\": \"5\", \"x\": -0.45, \"xanchor\": \"left\", \"xref\": \"x\", \"y\": 5, \"yref\": \"y\"}, {\"align\": \"left\", \"font\": {\"color\": \"#000000\"}, \"showarrow\": false, \"text\": \"5.0\", \"x\": 0.55, \"xanchor\": \"left\", \"xref\": \"x\", \"y\": 5, \"yref\": \"y\"}, {\"align\": \"left\", \"font\": {\"color\": \"#000000\"}, \"showarrow\": false, \"text\": \"3.6\", \"x\": 1.55, \"xanchor\": \"left\", \"xref\": \"x\", \"y\": 5, \"yref\": \"y\"}, {\"align\": \"left\", \"font\": {\"color\": \"#000000\"}, \"showarrow\": false, \"text\": \"1.4\", \"x\": 2.55, \"xanchor\": \"left\", \"xref\": \"x\", \"y\": 5, \"yref\": \"y\"}, {\"align\": \"left\", \"font\": {\"color\": \"#000000\"}, \"showarrow\": false, \"text\": \"0.2\", \"x\": 3.55, \"xanchor\": \"left\", \"xref\": \"x\", \"y\": 5, \"yref\": \"y\"}, {\"align\": \"left\", \"font\": {\"color\": \"#000000\"}, \"showarrow\": false, \"text\": \"Iris-setosa\", \"x\": 4.55, \"xanchor\": \"left\", \"xref\": \"x\", \"y\": 5, \"yref\": \"y\"}], \"height\": 230, \"margin\": {\"b\": 0, \"l\": 0, \"r\": 0, \"t\": 0}, \"template\": {\"data\": {\"bar\": [{\"error_x\": {\"color\": \"#2a3f5f\"}, \"error_y\": {\"color\": \"#2a3f5f\"}, \"marker\": {\"line\": {\"color\": \"#E5ECF6\", \"width\": 0.5}}, \"type\": \"bar\"}], \"barpolar\": [{\"marker\": {\"line\": {\"color\": \"#E5ECF6\", \"width\": 0.5}}, \"type\": \"barpolar\"}], \"carpet\": [{\"aaxis\": {\"endlinecolor\": \"#2a3f5f\", \"gridcolor\": \"white\", \"linecolor\": \"white\", \"minorgridcolor\": \"white\", \"startlinecolor\": \"#2a3f5f\"}, \"baxis\": {\"endlinecolor\": \"#2a3f5f\", \"gridcolor\": \"white\", \"linecolor\": \"white\", \"minorgridcolor\": \"white\", \"startlinecolor\": \"#2a3f5f\"}, \"type\": \"carpet\"}], \"choropleth\": [{\"colorbar\": {\"outlinewidth\": 0, \"ticks\": \"\"}, \"type\": \"choropleth\"}], \"contour\": [{\"colorbar\": {\"outlinewidth\": 0, \"ticks\": \"\"}, \"colorscale\": [[0.0, \"#0d0887\"], [0.1111111111111111, \"#46039f\"], [0.2222222222222222, \"#7201a8\"], [0.3333333333333333, \"#9c179e\"], [0.4444444444444444, \"#bd3786\"], [0.5555555555555556, \"#d8576b\"], [0.6666666666666666, \"#ed7953\"], [0.7777777777777778, \"#fb9f3a\"], [0.8888888888888888, \"#fdca26\"], [1.0, \"#f0f921\"]], \"type\": \"contour\"}], \"contourcarpet\": [{\"colorbar\": {\"outlinewidth\": 0, \"ticks\": \"\"}, \"type\": \"contourcarpet\"}], \"heatmap\": [{\"colorbar\": {\"outlinewidth\": 0, \"ticks\": \"\"}, \"colorscale\": [[0.0, \"#0d0887\"], [0.1111111111111111, \"#46039f\"], [0.2222222222222222, \"#7201a8\"], [0.3333333333333333, \"#9c179e\"], [0.4444444444444444, \"#bd3786\"], [0.5555555555555556, \"#d8576b\"], [0.6666666666666666, \"#ed7953\"], [0.7777777777777778, \"#fb9f3a\"], [0.8888888888888888, \"#fdca26\"], [1.0, \"#f0f921\"]], \"type\": \"heatmap\"}], \"heatmapgl\": [{\"colorbar\": {\"outlinewidth\": 0, \"ticks\": \"\"}, \"colorscale\": [[0.0, \"#0d0887\"], [0.1111111111111111, \"#46039f\"], [0.2222222222222222, \"#7201a8\"], [0.3333333333333333, \"#9c179e\"], [0.4444444444444444, \"#bd3786\"], [0.5555555555555556, \"#d8576b\"], [0.6666666666666666, \"#ed7953\"], [0.7777777777777778, \"#fb9f3a\"], [0.8888888888888888, \"#fdca26\"], [1.0, \"#f0f921\"]], \"type\": \"heatmapgl\"}], \"histogram\": [{\"marker\": {\"colorbar\": {\"outlinewidth\": 0, \"ticks\": \"\"}}, \"type\": \"histogram\"}], \"histogram2d\": [{\"colorbar\": {\"outlinewidth\": 0, \"ticks\": \"\"}, \"colorscale\": [[0.0, \"#0d0887\"], [0.1111111111111111, \"#46039f\"], [0.2222222222222222, \"#7201a8\"], [0.3333333333333333, \"#9c179e\"], [0.4444444444444444, \"#bd3786\"], [0.5555555555555556, \"#d8576b\"], [0.6666666666666666, \"#ed7953\"], [0.7777777777777778, \"#fb9f3a\"], [0.8888888888888888, \"#fdca26\"], [1.0, \"#f0f921\"]], \"type\": \"histogram2d\"}], \"histogram2dcontour\": [{\"colorbar\": {\"outlinewidth\": 0, \"ticks\": \"\"}, \"colorscale\": [[0.0, \"#0d0887\"], [0.1111111111111111, \"#46039f\"], [0.2222222222222222, \"#7201a8\"], [0.3333333333333333, \"#9c179e\"], [0.4444444444444444, \"#bd3786\"], [0.5555555555555556, \"#d8576b\"], [0.6666666666666666, \"#ed7953\"], [0.7777777777777778, \"#fb9f3a\"], [0.8888888888888888, \"#fdca26\"], [1.0, \"#f0f921\"]], \"type\": \"histogram2dcontour\"}], \"mesh3d\": [{\"colorbar\": {\"outlinewidth\": 0, \"ticks\": \"\"}, \"type\": \"mesh3d\"}], \"parcoords\": [{\"line\": {\"colorbar\": {\"outlinewidth\": 0, \"ticks\": \"\"}}, \"type\": \"parcoords\"}], \"scatter\": [{\"marker\": {\"colorbar\": {\"outlinewidth\": 0, \"ticks\": \"\"}}, \"type\": \"scatter\"}], \"scatter3d\": [{\"line\": {\"colorbar\": {\"outlinewidth\": 0, \"ticks\": \"\"}}, \"marker\": {\"colorbar\": {\"outlinewidth\": 0, \"ticks\": \"\"}}, \"type\": \"scatter3d\"}], \"scattercarpet\": [{\"marker\": {\"colorbar\": {\"outlinewidth\": 0, \"ticks\": \"\"}}, \"type\": \"scattercarpet\"}], \"scattergeo\": [{\"marker\": {\"colorbar\": {\"outlinewidth\": 0, \"ticks\": \"\"}}, \"type\": \"scattergeo\"}], \"scattergl\": [{\"marker\": {\"colorbar\": {\"outlinewidth\": 0, \"ticks\": \"\"}}, \"type\": \"scattergl\"}], \"scattermapbox\": [{\"marker\": {\"colorbar\": {\"outlinewidth\": 0, \"ticks\": \"\"}}, \"type\": \"scattermapbox\"}], \"scatterpolar\": [{\"marker\": {\"colorbar\": {\"outlinewidth\": 0, \"ticks\": \"\"}}, \"type\": \"scatterpolar\"}], \"scatterpolargl\": [{\"marker\": {\"colorbar\": {\"outlinewidth\": 0, \"ticks\": \"\"}}, \"type\": \"scatterpolargl\"}], \"scatterternary\": [{\"marker\": {\"colorbar\": {\"outlinewidth\": 0, \"ticks\": \"\"}}, \"type\": \"scatterternary\"}], \"surface\": [{\"colorbar\": {\"outlinewidth\": 0, \"ticks\": \"\"}, \"colorscale\": [[0.0, \"#0d0887\"], [0.1111111111111111, \"#46039f\"], [0.2222222222222222, \"#7201a8\"], [0.3333333333333333, \"#9c179e\"], [0.4444444444444444, \"#bd3786\"], [0.5555555555555556, \"#d8576b\"], [0.6666666666666666, \"#ed7953\"], [0.7777777777777778, \"#fb9f3a\"], [0.8888888888888888, \"#fdca26\"], [1.0, \"#f0f921\"]], \"type\": \"surface\"}], \"table\": [{\"cells\": {\"fill\": {\"color\": \"#EBF0F8\"}, \"line\": {\"color\": \"white\"}}, \"header\": {\"fill\": {\"color\": \"#C8D4E3\"}, \"line\": {\"color\": \"white\"}}, \"type\": \"table\"}]}, \"layout\": {\"annotationdefaults\": {\"arrowcolor\": \"#2a3f5f\", \"arrowhead\": 0, \"arrowwidth\": 1}, \"colorscale\": {\"diverging\": [[0, \"#8e0152\"], [0.1, \"#c51b7d\"], [0.2, \"#de77ae\"], [0.3, \"#f1b6da\"], [0.4, \"#fde0ef\"], [0.5, \"#f7f7f7\"], [0.6, \"#e6f5d0\"], [0.7, \"#b8e186\"], [0.8, \"#7fbc41\"], [0.9, \"#4d9221\"], [1, \"#276419\"]], \"sequential\": [[0.0, \"#0d0887\"], [0.1111111111111111, \"#46039f\"], [0.2222222222222222, \"#7201a8\"], [0.3333333333333333, \"#9c179e\"], [0.4444444444444444, \"#bd3786\"], [0.5555555555555556, \"#d8576b\"], [0.6666666666666666, \"#ed7953\"], [0.7777777777777778, \"#fb9f3a\"], [0.8888888888888888, \"#fdca26\"], [1.0, \"#f0f921\"]], \"sequentialminus\": [[0.0, \"#0d0887\"], [0.1111111111111111, \"#46039f\"], [0.2222222222222222, \"#7201a8\"], [0.3333333333333333, \"#9c179e\"], [0.4444444444444444, \"#bd3786\"], [0.5555555555555556, \"#d8576b\"], [0.6666666666666666, \"#ed7953\"], [0.7777777777777778, \"#fb9f3a\"], [0.8888888888888888, \"#fdca26\"], [1.0, \"#f0f921\"]]}, \"colorway\": [\"#636efa\", \"#EF553B\", \"#00cc96\", \"#ab63fa\", \"#FFA15A\", \"#19d3f3\", \"#FF6692\", \"#B6E880\", \"#FF97FF\", \"#FECB52\"], \"font\": {\"color\": \"#2a3f5f\"}, \"geo\": {\"bgcolor\": \"white\", \"lakecolor\": \"white\", \"landcolor\": \"#E5ECF6\", \"showlakes\": true, \"showland\": true, \"subunitcolor\": \"white\"}, \"hoverlabel\": {\"align\": \"left\"}, \"hovermode\": \"closest\", \"mapbox\": {\"style\": \"light\"}, \"paper_bgcolor\": \"white\", \"plot_bgcolor\": \"#E5ECF6\", \"polar\": {\"angularaxis\": {\"gridcolor\": \"white\", \"linecolor\": \"white\", \"ticks\": \"\"}, \"bgcolor\": \"#E5ECF6\", \"radialaxis\": {\"gridcolor\": \"white\", \"linecolor\": \"white\", \"ticks\": \"\"}}, \"scene\": {\"xaxis\": {\"backgroundcolor\": \"#E5ECF6\", \"gridcolor\": \"white\", \"gridwidth\": 2, \"linecolor\": \"white\", \"showbackground\": true, \"ticks\": \"\", \"zerolinecolor\": \"white\"}, \"yaxis\": {\"backgroundcolor\": \"#E5ECF6\", \"gridcolor\": \"white\", \"gridwidth\": 2, \"linecolor\": \"white\", \"showbackground\": true, \"ticks\": \"\", \"zerolinecolor\": \"white\"}, \"zaxis\": {\"backgroundcolor\": \"#E5ECF6\", \"gridcolor\": \"white\", \"gridwidth\": 2, \"linecolor\": \"white\", \"showbackground\": true, \"ticks\": \"\", \"zerolinecolor\": \"white\"}}, \"shapedefaults\": {\"line\": {\"color\": \"#2a3f5f\"}}, \"ternary\": {\"aaxis\": {\"gridcolor\": \"white\", \"linecolor\": \"white\", \"ticks\": \"\"}, \"baxis\": {\"gridcolor\": \"white\", \"linecolor\": \"white\", \"ticks\": \"\"}, \"bgcolor\": \"#E5ECF6\", \"caxis\": {\"gridcolor\": \"white\", \"linecolor\": \"white\", \"ticks\": \"\"}}, \"title\": {\"x\": 0.05}, \"xaxis\": {\"automargin\": true, \"gridcolor\": \"white\", \"linecolor\": \"white\", \"ticks\": \"\", \"zerolinecolor\": \"white\", \"zerolinewidth\": 2}, \"yaxis\": {\"automargin\": true, \"gridcolor\": \"white\", \"linecolor\": \"white\", \"ticks\": \"\", \"zerolinecolor\": \"white\", \"zerolinewidth\": 2}}}, \"xaxis\": {\"dtick\": 1, \"gridwidth\": 2, \"showticklabels\": false, \"tick0\": -0.5, \"ticks\": \"\", \"zeroline\": false}, \"yaxis\": {\"autorange\": \"reversed\", \"dtick\": 1, \"gridwidth\": 2, \"showticklabels\": false, \"tick0\": 0.5, \"ticks\": \"\", \"zeroline\": false}},\n",
       "                        {\"responsive\": true}\n",
       "                    ).then(function(){\n",
       "                            \n",
       "var gd = document.getElementById('168e7d15-21bd-4a12-8b2a-092b9e5da359');\n",
       "var x = new MutationObserver(function (mutations, observer) {{\n",
       "        var display = window.getComputedStyle(gd).display;\n",
       "        if (!display || display === 'none') {{\n",
       "            console.log([gd, 'removed!']);\n",
       "            Plotly.purge(gd);\n",
       "            observer.disconnect();\n",
       "        }}\n",
       "}});\n",
       "\n",
       "// Listen for the removal of the full notebook cells\n",
       "var notebookContainer = gd.closest('#notebook-container');\n",
       "if (notebookContainer) {{\n",
       "    x.observe(notebookContainer, {childList: true});\n",
       "}}\n",
       "\n",
       "// Listen for the clearing of the current output cell\n",
       "var outputEl = gd.closest('.output');\n",
       "if (outputEl) {{\n",
       "    x.observe(outputEl, {childList: true});\n",
       "}}\n",
       "\n",
       "                        })\n",
       "                };\n",
       "                });\n",
       "            </script>\n",
       "        </div>"
      ]
     },
     "metadata": {},
     "output_type": "display_data"
    }
   ],
   "source": [
    "data=pd.read_csv(\"../input/Iris.csv\")\n",
    "table = ff.create_table(data.head())\n",
    "py.iplot(table,filename='jupyter-table1')\n"
   ]
  },
  {
   "cell_type": "markdown",
   "metadata": {},
   "source": [
    "Let's do some Exploratpory data analysis on this data "
   ]
  },
  {
   "cell_type": "code",
   "execution_count": 3,
   "metadata": {},
   "outputs": [
    {
     "name": "stdout",
     "output_type": "stream",
     "text": [
      "the dataset has 150 rows and 6 features\n"
     ]
    }
   ],
   "source": [
    "print(\"the dataset has {} rows and {} features\".format(data.shape[0],data.shape[1]))"
   ]
  },
  {
   "cell_type": "code",
   "execution_count": 4,
   "metadata": {},
   "outputs": [
    {
     "name": "stdout",
     "output_type": "stream",
     "text": [
      "<class 'pandas.core.frame.DataFrame'>\n",
      "RangeIndex: 150 entries, 0 to 149\n",
      "Data columns (total 6 columns):\n",
      "Id               150 non-null int64\n",
      "SepalLengthCm    150 non-null float64\n",
      "SepalWidthCm     150 non-null float64\n",
      "PetalLengthCm    150 non-null float64\n",
      "PetalWidthCm     150 non-null float64\n",
      "Species          150 non-null object\n",
      "dtypes: float64(4), int64(1), object(1)\n",
      "memory usage: 7.1+ KB\n"
     ]
    }
   ],
   "source": [
    "data.info()"
   ]
  },
  {
   "cell_type": "markdown",
   "metadata": {},
   "source": [
    "The data types are correct and we can see that there is no null values in the dataset "
   ]
  },
  {
   "cell_type": "markdown",
   "metadata": {},
   "source": [
    "we will remove the ID column from the data"
   ]
  },
  {
   "cell_type": "code",
   "execution_count": 5,
   "metadata": {},
   "outputs": [],
   "source": [
    "data.drop('Id',axis=1,inplace=True)"
   ]
  },
  {
   "cell_type": "markdown",
   "metadata": {},
   "source": [
    "Let's take a look at the summary statistics"
   ]
  },
  {
   "cell_type": "code",
   "execution_count": 6,
   "metadata": {},
   "outputs": [
    {
     "data": {
      "text/html": [
       "<div>\n",
       "<style scoped>\n",
       "    .dataframe tbody tr th:only-of-type {\n",
       "        vertical-align: middle;\n",
       "    }\n",
       "\n",
       "    .dataframe tbody tr th {\n",
       "        vertical-align: top;\n",
       "    }\n",
       "\n",
       "    .dataframe thead th {\n",
       "        text-align: right;\n",
       "    }\n",
       "</style>\n",
       "<table border=\"1\" class=\"dataframe\">\n",
       "  <thead>\n",
       "    <tr style=\"text-align: right;\">\n",
       "      <th></th>\n",
       "      <th>SepalLengthCm</th>\n",
       "      <th>SepalWidthCm</th>\n",
       "      <th>PetalLengthCm</th>\n",
       "      <th>PetalWidthCm</th>\n",
       "    </tr>\n",
       "  </thead>\n",
       "  <tbody>\n",
       "    <tr>\n",
       "      <th>count</th>\n",
       "      <td>150.000000</td>\n",
       "      <td>150.000000</td>\n",
       "      <td>150.000000</td>\n",
       "      <td>150.000000</td>\n",
       "    </tr>\n",
       "    <tr>\n",
       "      <th>mean</th>\n",
       "      <td>5.843333</td>\n",
       "      <td>3.054000</td>\n",
       "      <td>3.758667</td>\n",
       "      <td>1.198667</td>\n",
       "    </tr>\n",
       "    <tr>\n",
       "      <th>std</th>\n",
       "      <td>0.828066</td>\n",
       "      <td>0.433594</td>\n",
       "      <td>1.764420</td>\n",
       "      <td>0.763161</td>\n",
       "    </tr>\n",
       "    <tr>\n",
       "      <th>min</th>\n",
       "      <td>4.300000</td>\n",
       "      <td>2.000000</td>\n",
       "      <td>1.000000</td>\n",
       "      <td>0.100000</td>\n",
       "    </tr>\n",
       "    <tr>\n",
       "      <th>25%</th>\n",
       "      <td>5.100000</td>\n",
       "      <td>2.800000</td>\n",
       "      <td>1.600000</td>\n",
       "      <td>0.300000</td>\n",
       "    </tr>\n",
       "    <tr>\n",
       "      <th>50%</th>\n",
       "      <td>5.800000</td>\n",
       "      <td>3.000000</td>\n",
       "      <td>4.350000</td>\n",
       "      <td>1.300000</td>\n",
       "    </tr>\n",
       "    <tr>\n",
       "      <th>75%</th>\n",
       "      <td>6.400000</td>\n",
       "      <td>3.300000</td>\n",
       "      <td>5.100000</td>\n",
       "      <td>1.800000</td>\n",
       "    </tr>\n",
       "    <tr>\n",
       "      <th>max</th>\n",
       "      <td>7.900000</td>\n",
       "      <td>4.400000</td>\n",
       "      <td>6.900000</td>\n",
       "      <td>2.500000</td>\n",
       "    </tr>\n",
       "  </tbody>\n",
       "</table>\n",
       "</div>"
      ],
      "text/plain": [
       "       SepalLengthCm  SepalWidthCm  PetalLengthCm  PetalWidthCm\n",
       "count     150.000000    150.000000     150.000000    150.000000\n",
       "mean        5.843333      3.054000       3.758667      1.198667\n",
       "std         0.828066      0.433594       1.764420      0.763161\n",
       "min         4.300000      2.000000       1.000000      0.100000\n",
       "25%         5.100000      2.800000       1.600000      0.300000\n",
       "50%         5.800000      3.000000       4.350000      1.300000\n",
       "75%         6.400000      3.300000       5.100000      1.800000\n",
       "max         7.900000      4.400000       6.900000      2.500000"
      ]
     },
     "execution_count": 6,
     "metadata": {},
     "output_type": "execute_result"
    }
   ],
   "source": [
    "data.describe()\n",
    "#py.iplot(ff.create_table(data.describe()),filename='describe_table')"
   ]
  },
  {
   "cell_type": "code",
   "execution_count": 7,
   "metadata": {},
   "outputs": [
    {
     "name": "stdout",
     "output_type": "stream",
     "text": [
      " we have 3 types of species in this dataset\n",
      "the names of this species are: ['Iris-setosa' 'Iris-versicolor' 'Iris-virginica']\n"
     ]
    }
   ],
   "source": [
    "print(\" we have {} types of species in this dataset\".format(data.Species.nunique()))\n",
    "print(\"the names of this species are:\",data.Species.unique())"
   ]
  },
  {
   "cell_type": "code",
   "execution_count": 8,
   "metadata": {},
   "outputs": [
    {
     "data": {
      "text/plain": [
       "Iris-versicolor    50\n",
       "Iris-setosa        50\n",
       "Iris-virginica     50\n",
       "Name: Species, dtype: int64"
      ]
     },
     "execution_count": 8,
     "metadata": {},
     "output_type": "execute_result"
    }
   ],
   "source": [
    "data.Species.value_counts()"
   ]
  },
  {
   "cell_type": "markdown",
   "metadata": {},
   "source": [
    "So we have equally distributed species all are of 50"
   ]
  },
  {
   "cell_type": "markdown",
   "metadata": {},
   "source": [
    "Let's visualize the data with a scatter plots based on Sepal and Petal width and lenght"
   ]
  },
  {
   "cell_type": "code",
   "execution_count": 9,
   "metadata": {},
   "outputs": [
    {
     "data": {
      "image/png": "[encoded data removed]",
      "text/plain": [
       "<Figure size 720x432 with 1 Axes>"
      ]
     },
     "metadata": {
      "needs_background": "light"
     },
     "output_type": "display_data"
    }
   ],
   "source": [
    "fig = data[data.Species=='Iris-setosa'].plot(kind='scatter',x='SepalLengthCm',y='SepalWidthCm',color='orange', label='Setosa')\n",
    "data[data.Species=='Iris-versicolor'].plot(kind='scatter',x='SepalLengthCm',y='SepalWidthCm',color='blue', label='versicolor',ax=fig)\n",
    "data[data.Species=='Iris-virginica'].plot(kind='scatter',x='SepalLengthCm',y='SepalWidthCm',color='green', label='virginica', ax=fig)\n",
    "fig.set_xlabel(\"Sepal Length\")\n",
    "fig.set_ylabel(\"Sepal Width\")\n",
    "fig.set_title(\"Sepal Length VS Width\")\n",
    "fig=plt.gcf()\n",
    "fig.set_size_inches(10,6)\n",
    "plt.show()"
   ]
  },
  {
   "cell_type": "markdown",
   "metadata": {},
   "source": [
    "we can clearly see that sepal characteristics differentiate setosa but not versicolor and virginica "
   ]
  },
  {
   "cell_type": "code",
   "execution_count": 10,
   "metadata": {},
   "outputs": [
    {
     "data": {
      "image/png": "[encoded data removed]",
      "text/plain": [
       "<Figure size 720x432 with 1 Axes>"
      ]
     },
     "metadata": {
      "needs_background": "light"
     },
     "output_type": "display_data"
    }
   ],
   "source": [
    "fig = data[data.Species=='Iris-setosa'].plot.scatter(x='PetalLengthCm',y='PetalWidthCm',color='orange', label='Setosa')\n",
    "data[data.Species=='Iris-versicolor'].plot.scatter(x='PetalLengthCm',y='PetalWidthCm',color='blue', label='versicolor',ax=fig)\n",
    "data[data.Species=='Iris-virginica'].plot.scatter(x='PetalLengthCm',y='PetalWidthCm',color='green', label='virginica', ax=fig)\n",
    "fig.set_xlabel(\"Petal Length\")\n",
    "fig.set_ylabel(\"Petal Width\")\n",
    "fig.set_title(\" Petal Length VS Width\")\n",
    "fig=plt.gcf()\n",
    "fig.set_size_inches(10,6)\n",
    "plt.show()"
   ]
  },
  {
   "cell_type": "markdown",
   "metadata": {},
   "source": [
    "With Petal characteristics we can easily classify the species but there is a little thin line between the virginica and versicolor"
   ]
  },
  {
   "cell_type": "markdown",
   "metadata": {},
   "source": [
    "Let's check the distribution of each column"
   ]
  },
  {
   "cell_type": "code",
   "execution_count": 11,
   "metadata": {},
   "outputs": [
    {
     "data": {
      "image/png": "[encoded data removed]",
      "text/plain": [
       "<Figure size 1080x432 with 4 Axes>"
      ]
     },
     "metadata": {
      "needs_background": "light"
     },
     "output_type": "display_data"
    }
   ],
   "source": [
    "data.hist(edgecolor='black', linewidth=1.2)\n",
    "fig=plt.gcf()\n",
    "fig.set_size_inches(15,6)\n",
    "plt.show()"
   ]
  },
  {
   "cell_type": "markdown",
   "metadata": {},
   "source": [
    "Let's take a look at the Probability Density"
   ]
  },
  {
   "cell_type": "code",
   "execution_count": 12,
   "metadata": {},
   "outputs": [
    {
     "data": {
      "text/plain": [
       "<matplotlib.axes._subplots.AxesSubplot at 0x7efbc1361e10>"
      ]
     },
     "execution_count": 12,
     "metadata": {},
     "output_type": "execute_result"
    },
    {
     "data": {
      "image/png": "[encoded data removed]",
      "text/plain": [
       "<Figure size 1080x720 with 4 Axes>"
      ]
     },
     "metadata": {
      "needs_background": "light"
     },
     "output_type": "display_data"
    }
   ],
   "source": [
    "plt.figure(figsize=(15,10))\n",
    "plt.subplot(2,2,1)\n",
    "sns.violinplot(x='Species',y='PetalLengthCm',data=data)\n",
    "plt.subplot(2,2,2)\n",
    "sns.violinplot(x='Species',y='PetalWidthCm',data=data)\n",
    "plt.subplot(2,2,3)\n",
    "sns.violinplot(x='Species',y='SepalLengthCm',data=data)\n",
    "plt.subplot(2,2,4)\n",
    "sns.violinplot(x='Species',y='SepalWidthCm',data=data)\n"
   ]
  },
  {
   "cell_type": "markdown",
   "metadata": {},
   "source": [
    "On each side of the gray line is a kernel density estimation to show the distribution shape of the data.\n",
    "the skinnier sections represent a lower probability."
   ]
  },
  {
   "cell_type": "markdown",
   "metadata": {},
   "source": [
    "Andrews curves are a method for visualizing multidimensional data by mapping each observation onto a function."
   ]
  },
  {
   "cell_type": "code",
   "execution_count": 13,
   "metadata": {},
   "outputs": [
    {
     "data": {
      "text/plain": [
       "<matplotlib.axes._subplots.AxesSubplot at 0x7efbc0fbd588>"
      ]
     },
     "execution_count": 13,
     "metadata": {},
     "output_type": "execute_result"
    },
    {
     "data": {
      "image/png": "[encoded data removed]",
      "text/plain": [
       "<Figure size 720x576 with 1 Axes>"
      ]
     },
     "metadata": {
      "needs_background": "light"
     },
     "output_type": "display_data"
    }
   ],
   "source": [
    "plt.figure(figsize=(10,8))\n",
    "plotting.andrews_curves(data,'Species')"
   ]
  },
  {
   "cell_type": "markdown",
   "metadata": {},
   "source": [
    "In the plot above, the each color used represents a class and we can easily note that the lines that represent samples from the same class have similar curves.\n"
   ]
  },
  {
   "cell_type": "markdown",
   "metadata": {},
   "source": [
    "Let's check if we have any correlation between features "
   ]
  },
  {
   "cell_type": "code",
   "execution_count": 14,
   "metadata": {},
   "outputs": [
    {
     "data": {
      "image/png": "[encoded data removed]",
      "text/plain": [
       "<Figure size 504x288 with 2 Axes>"
      ]
     },
     "metadata": {
      "needs_background": "light"
     },
     "output_type": "display_data"
    }
   ],
   "source": [
    "plt.figure(figsize=(7,4)) \n",
    "sns.heatmap(data.corr(),annot=True,fmt=\"f\",cmap=\"YlGnBu\")\n",
    "plt.show()"
   ]
  },
  {
   "cell_type": "markdown",
   "metadata": {},
   "source": [
    "we have a strong correlation between Petal Width and Petal length , and also between Petal characteristics and Sepal Length."
   ]
  },
  {
   "cell_type": "markdown",
   "metadata": {},
   "source": [
    "Let's create a regression plot for both petal and sepal"
   ]
  },
  {
   "cell_type": "code",
   "execution_count": 15,
   "metadata": {},
   "outputs": [
    {
     "data": {
      "text/plain": [
       "<seaborn.axisgrid.FacetGrid at 0x7efbc0fa71d0>"
      ]
     },
     "execution_count": 15,
     "metadata": {},
     "output_type": "execute_result"
    },
    {
     "data": {
      "image/png": "[encoded data removed]",
      "text/plain": [
       "<Figure size 463.5x360 with 1 Axes>"
      ]
     },
     "metadata": {
      "needs_background": "light"
     },
     "output_type": "display_data"
    }
   ],
   "source": [
    "sns.lmplot(x=\"SepalWidthCm\", y=\"SepalLengthCm\",hue=\"Species\",data=data)"
   ]
  },
  {
   "cell_type": "code",
   "execution_count": 16,
   "metadata": {},
   "outputs": [
    {
     "data": {
      "text/plain": [
       "<seaborn.axisgrid.FacetGrid at 0x7efbc11c9e48>"
      ]
     },
     "execution_count": 16,
     "metadata": {},
     "output_type": "execute_result"
    },
    {
     "data": {
      "image/png": "[encoded data removed]",
      "text/plain": [
       "<Figure size 463.5x360 with 1 Axes>"
      ]
     },
     "metadata": {
      "needs_background": "light"
     },
     "output_type": "display_data"
    }
   ],
   "source": [
    "sns.lmplot(x=\"PetalWidthCm\", y=\"PetalLengthCm\",hue=\"Species\",data=data)"
   ]
  },
  {
   "cell_type": "markdown",
   "metadata": {},
   "source": [
    "**Let's now build our classification algorithmes**"
   ]
  },
  {
   "cell_type": "markdown",
   "metadata": {},
   "source": [
    "we will split the dataset into training and testing data"
   ]
  },
  {
   "cell_type": "code",
   "execution_count": 17,
   "metadata": {},
   "outputs": [
    {
     "name": "stdout",
     "output_type": "stream",
     "text": [
      "(105, 4)\n",
      "(45, 4)\n",
      "(105,)\n",
      "(45,)\n"
     ]
    }
   ],
   "source": [
    "X_train, X_test, y_train,y_test = train_test_split(data.iloc[:,:4],data.Species,stratify=data.Species,test_size = 0.3)\n",
    "print(X_train.shape)\n",
    "print(X_test.shape)\n",
    "print(y_train.shape)\n",
    "print(y_test.shape)"
   ]
  },
  {
   "cell_type": "code",
   "execution_count": 18,
   "metadata": {},
   "outputs": [
    {
     "data": {
      "text/html": [
       "<div>\n",
       "<style scoped>\n",
       "    .dataframe tbody tr th:only-of-type {\n",
       "        vertical-align: middle;\n",
       "    }\n",
       "\n",
       "    .dataframe tbody tr th {\n",
       "        vertical-align: top;\n",
       "    }\n",
       "\n",
       "    .dataframe thead th {\n",
       "        text-align: right;\n",
       "    }\n",
       "</style>\n",
       "<table border=\"1\" class=\"dataframe\">\n",
       "  <thead>\n",
       "    <tr style=\"text-align: right;\">\n",
       "      <th></th>\n",
       "      <th>SepalLengthCm</th>\n",
       "      <th>SepalWidthCm</th>\n",
       "      <th>PetalLengthCm</th>\n",
       "      <th>PetalWidthCm</th>\n",
       "    </tr>\n",
       "  </thead>\n",
       "  <tbody>\n",
       "    <tr>\n",
       "      <th>30</th>\n",
       "      <td>4.8</td>\n",
       "      <td>3.1</td>\n",
       "      <td>1.6</td>\n",
       "      <td>0.2</td>\n",
       "    </tr>\n",
       "    <tr>\n",
       "      <th>49</th>\n",
       "      <td>5.0</td>\n",
       "      <td>3.3</td>\n",
       "      <td>1.4</td>\n",
       "      <td>0.2</td>\n",
       "    </tr>\n",
       "    <tr>\n",
       "      <th>9</th>\n",
       "      <td>4.9</td>\n",
       "      <td>3.1</td>\n",
       "      <td>1.5</td>\n",
       "      <td>0.1</td>\n",
       "    </tr>\n",
       "    <tr>\n",
       "      <th>45</th>\n",
       "      <td>4.8</td>\n",
       "      <td>3.0</td>\n",
       "      <td>1.4</td>\n",
       "      <td>0.3</td>\n",
       "    </tr>\n",
       "    <tr>\n",
       "      <th>88</th>\n",
       "      <td>5.6</td>\n",
       "      <td>3.0</td>\n",
       "      <td>4.1</td>\n",
       "      <td>1.3</td>\n",
       "    </tr>\n",
       "  </tbody>\n",
       "</table>\n",
       "</div>"
      ],
      "text/plain": [
       "    SepalLengthCm  SepalWidthCm  PetalLengthCm  PetalWidthCm\n",
       "30            4.8           3.1            1.6           0.2\n",
       "49            5.0           3.3            1.4           0.2\n",
       "9             4.9           3.1            1.5           0.1\n",
       "45            4.8           3.0            1.4           0.3\n",
       "88            5.6           3.0            4.1           1.3"
      ]
     },
     "execution_count": 18,
     "metadata": {},
     "output_type": "execute_result"
    }
   ],
   "source": [
    "X_train.head()"
   ]
  },
  {
   "cell_type": "code",
   "execution_count": 19,
   "metadata": {},
   "outputs": [
    {
     "data": {
      "text/plain": [
       "30        Iris-setosa\n",
       "49        Iris-setosa\n",
       "9         Iris-setosa\n",
       "45        Iris-setosa\n",
       "88    Iris-versicolor\n",
       "Name: Species, dtype: object"
      ]
     },
     "execution_count": 19,
     "metadata": {},
     "output_type": "execute_result"
    }
   ],
   "source": [
    "y_train.head()"
   ]
  },
  {
   "cell_type": "code",
   "execution_count": 20,
   "metadata": {},
   "outputs": [
    {
     "name": "stdout",
     "output_type": "stream",
     "text": [
      "the accuracy of the Support Vector Machine Classifier model is : 0.9777777777777777\n"
     ]
    },
    {
     "data": {
      "text/plain": [
       "array([[15,  0,  0],\n",
       "       [ 0, 14,  0],\n",
       "       [ 0,  1, 15]])"
      ]
     },
     "execution_count": 20,
     "metadata": {},
     "output_type": "execute_result"
    }
   ],
   "source": [
    "SVC=SVC()\n",
    "SVC.fit(X_train,y_train)\n",
    "SVC_prediction=SVC.predict(X_test)\n",
    "print(\"the accuracy of the Support Vector Machine Classifier model is :\",accuracy_score(y_test,SVC_prediction))\n",
    "confusion_matrix(SVC_prediction,y_test)"
   ]
  },
  {
   "cell_type": "code",
   "execution_count": 21,
   "metadata": {},
   "outputs": [
    {
     "name": "stdout",
     "output_type": "stream",
     "text": [
      "the accuracy of the Logistic Regression model is : 0.9333333333333333\n"
     ]
    },
    {
     "data": {
      "text/plain": [
       "array([[15,  0,  0],\n",
       "       [ 0, 12,  0],\n",
       "       [ 0,  3, 15]])"
      ]
     },
     "execution_count": 21,
     "metadata": {},
     "output_type": "execute_result"
    }
   ],
   "source": [
    "LG=LogisticRegression()\n",
    "LG.fit(X_train,y_train)\n",
    "LG_prediction=LG.predict(X_test)\n",
    "print(\"the accuracy of the Logistic Regression model is :\",accuracy_score(LG_prediction,y_test))\n",
    "confusion_matrix(LG_prediction,y_test)"
   ]
  },
  {
   "cell_type": "code",
   "execution_count": 22,
   "metadata": {},
   "outputs": [
    {
     "name": "stdout",
     "output_type": "stream",
     "text": [
      "The accuracy of the Decision Tree Classifier model is 0.9777777777777777\n"
     ]
    },
    {
     "data": {
      "text/plain": [
       "array([[15,  0,  0],\n",
       "       [ 0, 14,  0],\n",
       "       [ 0,  1, 15]])"
      ]
     },
     "execution_count": 22,
     "metadata": {},
     "output_type": "execute_result"
    }
   ],
   "source": [
    "DTC=DecisionTreeClassifier(max_leaf_nodes=3)\n",
    "DTC.fit(X_train,y_train)\n",
    "DTC_prediction=DTC.predict(X_test)\n",
    "print('The accuracy of the Decision Tree Classifier model is',accuracy_score(DTC_prediction,y_test))\n",
    "confusion_matrix(DTC_prediction,y_test)"
   ]
  },
  {
   "cell_type": "code",
   "execution_count": 23,
   "metadata": {},
   "outputs": [
    {
     "name": "stdout",
     "output_type": "stream",
     "text": [
      "The accuracy of the Extra Trees Classifier model is 0.9777777777777777\n"
     ]
    },
    {
     "data": {
      "text/plain": [
       "array([[15,  0,  0],\n",
       "       [ 0, 14,  0],\n",
       "       [ 0,  1, 15]])"
      ]
     },
     "execution_count": 23,
     "metadata": {},
     "output_type": "execute_result"
    }
   ],
   "source": [
    "ETC=ExtraTreesClassifier()\n",
    "ETC.fit(X_train,y_train)\n",
    "ETC_prediction=ETC.predict(X_test)\n",
    "print('The accuracy of the Extra Trees Classifier model is',accuracy_score(ETC_prediction,y_test))\n",
    "confusion_matrix(ETC_prediction,y_test)"
   ]
  },
  {
   "cell_type": "code",
   "execution_count": 24,
   "metadata": {},
   "outputs": [
    {
     "name": "stdout",
     "output_type": "stream",
     "text": [
      "The accuracy of the KNeighborsClassifier model is 0.9777777777777777\n"
     ]
    },
    {
     "data": {
      "text/plain": [
       "array([[15,  0,  0],\n",
       "       [ 0, 14,  0],\n",
       "       [ 0,  1, 15]])"
      ]
     },
     "execution_count": 24,
     "metadata": {},
     "output_type": "execute_result"
    }
   ],
   "source": [
    "KNN=KNeighborsClassifier(n_neighbors=3)\n",
    "KNN.fit(X_train,y_train)\n",
    "KNN_prediction=KNN.predict(X_test)\n",
    "print('The accuracy of the KNeighborsClassifier model is',accuracy_score(KNN_prediction,y_test))\n",
    "confusion_matrix(KNN_prediction,y_test)"
   ]
  },
  {
   "cell_type": "code",
   "execution_count": 25,
   "metadata": {},
   "outputs": [
    {
     "name": "stdout",
     "output_type": "stream",
     "text": [
      "The accuracy of the GaussionNB model is 0.9777777777777777\n"
     ]
    },
    {
     "data": {
      "text/plain": [
       "array([[15,  0,  0],\n",
       "       [ 0, 14,  0],\n",
       "       [ 0,  1, 15]])"
      ]
     },
     "execution_count": 25,
     "metadata": {},
     "output_type": "execute_result"
    }
   ],
   "source": [
    "GNB=GaussianNB()\n",
    "GNB.fit(X_train,y_train)\n",
    "GNB_prediction=GNB.predict(X_test)\n",
    "print('The accuracy of the GaussionNB model is',accuracy_score(GNB_prediction,y_test))\n",
    "confusion_matrix(GNB_prediction,y_test)"
   ]
  },
  {
   "cell_type": "code",
   "execution_count": 26,
   "metadata": {},
   "outputs": [
    {
     "name": "stdout",
     "output_type": "stream",
     "text": [
      "The accuracy of the RandomForestClassifier model is 0.9777777777777777\n"
     ]
    },
    {
     "data": {
      "text/plain": [
       "array([[15,  0,  0],\n",
       "       [ 0, 14,  0],\n",
       "       [ 0,  1, 15]])"
      ]
     },
     "execution_count": 26,
     "metadata": {},
     "output_type": "execute_result"
    }
   ],
   "source": [
    "RFC=RandomForestClassifier()\n",
    "RFC.fit(X_train,y_train)\n",
    "RFC_prediction=RFC.predict(X_test)\n",
    "print('The accuracy of the RandomForestClassifier model is',accuracy_score(RFC_prediction,y_test))\n",
    "confusion_matrix(RFC_prediction,y_test)"
   ]
  },
  {
   "cell_type": "code",
   "execution_count": 27,
   "metadata": {},
   "outputs": [
    {
     "name": "stdout",
     "output_type": "stream",
     "text": [
      "The accuracy of the XGBClassifier model is 0.9777777777777777\n"
     ]
    },
    {
     "data": {
      "text/plain": [
       "array([[15,  0,  0],\n",
       "       [ 0, 14,  0],\n",
       "       [ 0,  1, 15]])"
      ]
     },
     "execution_count": 27,
     "metadata": {},
     "output_type": "execute_result"
    }
   ],
   "source": [
    "XGB=XGBClassifier()\n",
    "XGB.fit(X_train,y_train)\n",
    "XGB_prediction=XGB.predict(X_test)\n",
    "print('The accuracy of the XGBClassifier model is',accuracy_score(XGB_prediction,y_test))\n",
    "confusion_matrix(XGB_prediction,y_test)"
   ]
  },
  {
   "cell_type": "code",
   "execution_count": 28,
   "metadata": {},
   "outputs": [
    {
     "name": "stdout",
     "output_type": "stream",
     "text": [
      "The accuracy of the LGBMClassifier model is 0.9777777777777777\n"
     ]
    },
    {
     "data": {
      "text/plain": [
       "array([[15,  0,  0],\n",
       "       [ 0, 14,  0],\n",
       "       [ 0,  1, 15]])"
      ]
     },
     "execution_count": 28,
     "metadata": {},
     "output_type": "execute_result"
    }
   ],
   "source": [
    "LGB=LGBMClassifier()\n",
    "LGB.fit(X_train,y_train)\n",
    "LGB_prediction=LGB.predict(X_test)\n",
    "print('The accuracy of the LGBMClassifier model is',accuracy_score(LGB_prediction,y_test))\n",
    "confusion_matrix(LGB_prediction,y_test)"
   ]
  },
  {
   "cell_type": "code",
   "execution_count": 29,
   "metadata": {},
   "outputs": [
    {
     "name": "stdout",
     "output_type": "stream",
     "text": [
      "0:\tlearn: 1.0683404\ttotal: 51.8ms\tremaining: 51.7s\n",
      "1:\tlearn: 1.0386301\ttotal: 54.8ms\tremaining: 27.3s\n",
      "2:\tlearn: 1.0119224\ttotal: 57.1ms\tremaining: 19s\n",
      "3:\tlearn: 0.9846588\ttotal: 59.4ms\tremaining: 14.8s\n",
      "4:\tlearn: 0.9549406\ttotal: 61.8ms\tremaining: 12.3s\n",
      "5:\tlearn: 0.9292212\ttotal: 64ms\tremaining: 10.6s\n",
      "6:\tlearn: 0.8980687\ttotal: 64.9ms\tremaining: 9.2s\n",
      "7:\tlearn: 0.8742166\ttotal: 66.8ms\tremaining: 8.29s\n",
      "8:\tlearn: 0.8520552\ttotal: 69.1ms\tremaining: 7.61s\n",
      "9:\tlearn: 0.8301667\ttotal: 71.2ms\tremaining: 7.05s\n",
      "10:\tlearn: 0.8082008\ttotal: 73.1ms\tremaining: 6.57s\n",
      "11:\tlearn: 0.7855317\ttotal: 75.2ms\tremaining: 6.19s\n",
      "12:\tlearn: 0.7646604\ttotal: 77.1ms\tremaining: 5.85s\n",
      "13:\tlearn: 0.7458765\ttotal: 79.1ms\tremaining: 5.57s\n",
      "14:\tlearn: 0.7292512\ttotal: 80.9ms\tremaining: 5.31s\n",
      "15:\tlearn: 0.7113171\ttotal: 82.8ms\tremaining: 5.09s\n",
      "16:\tlearn: 0.6928093\ttotal: 85.5ms\tremaining: 4.94s\n",
      "17:\tlearn: 0.6801563\ttotal: 87.6ms\tremaining: 4.78s\n",
      "18:\tlearn: 0.6647719\ttotal: 90.1ms\tremaining: 4.65s\n",
      "19:\tlearn: 0.6488992\ttotal: 92.3ms\tremaining: 4.52s\n",
      "20:\tlearn: 0.6336450\ttotal: 94.4ms\tremaining: 4.4s\n",
      "21:\tlearn: 0.6203716\ttotal: 96.8ms\tremaining: 4.3s\n",
      "22:\tlearn: 0.6084885\ttotal: 98.8ms\tremaining: 4.2s\n",
      "23:\tlearn: 0.5963628\ttotal: 101ms\tremaining: 4.12s\n",
      "24:\tlearn: 0.5834529\ttotal: 103ms\tremaining: 4.03s\n",
      "25:\tlearn: 0.5721138\ttotal: 106ms\tremaining: 3.96s\n",
      "26:\tlearn: 0.5608991\ttotal: 108ms\tremaining: 3.89s\n",
      "27:\tlearn: 0.5477568\ttotal: 109ms\tremaining: 3.79s\n",
      "28:\tlearn: 0.5364573\ttotal: 111ms\tremaining: 3.73s\n",
      "29:\tlearn: 0.5257503\ttotal: 114ms\tremaining: 3.67s\n",
      "30:\tlearn: 0.5155871\ttotal: 116ms\tremaining: 3.62s\n",
      "31:\tlearn: 0.5056791\ttotal: 118ms\tremaining: 3.56s\n",
      "32:\tlearn: 0.4949297\ttotal: 120ms\tremaining: 3.53s\n",
      "33:\tlearn: 0.4848767\ttotal: 123ms\tremaining: 3.48s\n",
      "34:\tlearn: 0.4755461\ttotal: 125ms\tremaining: 3.44s\n",
      "35:\tlearn: 0.4667050\ttotal: 127ms\tremaining: 3.4s\n",
      "36:\tlearn: 0.4578943\ttotal: 129ms\tremaining: 3.37s\n",
      "37:\tlearn: 0.4503127\ttotal: 132ms\tremaining: 3.33s\n",
      "38:\tlearn: 0.4423900\ttotal: 133ms\tremaining: 3.29s\n",
      "39:\tlearn: 0.4349534\ttotal: 135ms\tremaining: 3.25s\n",
      "40:\tlearn: 0.4271997\ttotal: 137ms\tremaining: 3.21s\n",
      "41:\tlearn: 0.4206117\ttotal: 139ms\tremaining: 3.18s\n",
      "42:\tlearn: 0.4133294\ttotal: 141ms\tremaining: 3.14s\n",
      "43:\tlearn: 0.4044778\ttotal: 142ms\tremaining: 3.09s\n",
      "44:\tlearn: 0.3977943\ttotal: 144ms\tremaining: 3.06s\n",
      "45:\tlearn: 0.3906168\ttotal: 147ms\tremaining: 3.04s\n",
      "46:\tlearn: 0.3836043\ttotal: 148ms\tremaining: 3.01s\n",
      "47:\tlearn: 0.3767416\ttotal: 150ms\tremaining: 2.98s\n",
      "48:\tlearn: 0.3710844\ttotal: 152ms\tremaining: 2.96s\n",
      "49:\tlearn: 0.3643778\ttotal: 155ms\tremaining: 2.94s\n",
      "50:\tlearn: 0.3596209\ttotal: 157ms\tremaining: 2.93s\n",
      "51:\tlearn: 0.3539024\ttotal: 160ms\tremaining: 2.92s\n",
      "52:\tlearn: 0.3475282\ttotal: 163ms\tremaining: 2.91s\n",
      "53:\tlearn: 0.3432683\ttotal: 165ms\tremaining: 2.89s\n",
      "54:\tlearn: 0.3369931\ttotal: 166ms\tremaining: 2.85s\n",
      "55:\tlearn: 0.3309875\ttotal: 168ms\tremaining: 2.83s\n",
      "56:\tlearn: 0.3269580\ttotal: 169ms\tremaining: 2.8s\n",
      "57:\tlearn: 0.3217541\ttotal: 171ms\tremaining: 2.78s\n",
      "58:\tlearn: 0.3167751\ttotal: 173ms\tremaining: 2.76s\n",
      "59:\tlearn: 0.3117071\ttotal: 175ms\tremaining: 2.74s\n",
      "60:\tlearn: 0.3073009\ttotal: 177ms\tremaining: 2.73s\n",
      "61:\tlearn: 0.3025078\ttotal: 179ms\tremaining: 2.7s\n",
      "62:\tlearn: 0.2980339\ttotal: 180ms\tremaining: 2.68s\n",
      "63:\tlearn: 0.2930262\ttotal: 182ms\tremaining: 2.66s\n",
      "64:\tlearn: 0.2890168\ttotal: 184ms\tremaining: 2.65s\n",
      "65:\tlearn: 0.2857518\ttotal: 186ms\tremaining: 2.63s\n",
      "66:\tlearn: 0.2816552\ttotal: 188ms\tremaining: 2.62s\n",
      "67:\tlearn: 0.2786855\ttotal: 190ms\tremaining: 2.6s\n",
      "68:\tlearn: 0.2757072\ttotal: 192ms\tremaining: 2.59s\n",
      "69:\tlearn: 0.2719677\ttotal: 194ms\tremaining: 2.57s\n",
      "70:\tlearn: 0.2681245\ttotal: 196ms\tremaining: 2.57s\n",
      "71:\tlearn: 0.2644095\ttotal: 198ms\tremaining: 2.56s\n",
      "72:\tlearn: 0.2613730\ttotal: 201ms\tremaining: 2.55s\n",
      "73:\tlearn: 0.2575855\ttotal: 203ms\tremaining: 2.54s\n",
      "74:\tlearn: 0.2544507\ttotal: 205ms\tremaining: 2.53s\n",
      "75:\tlearn: 0.2510126\ttotal: 207ms\tremaining: 2.52s\n",
      "76:\tlearn: 0.2482387\ttotal: 210ms\tremaining: 2.52s\n",
      "77:\tlearn: 0.2451589\ttotal: 213ms\tremaining: 2.51s\n",
      "78:\tlearn: 0.2420570\ttotal: 215ms\tremaining: 2.5s\n",
      "79:\tlearn: 0.2390238\ttotal: 217ms\tremaining: 2.49s\n",
      "80:\tlearn: 0.2368925\ttotal: 219ms\tremaining: 2.48s\n",
      "81:\tlearn: 0.2342263\ttotal: 221ms\tremaining: 2.47s\n",
      "82:\tlearn: 0.2316207\ttotal: 223ms\tremaining: 2.46s\n",
      "83:\tlearn: 0.2282322\ttotal: 224ms\tremaining: 2.44s\n",
      "84:\tlearn: 0.2259614\ttotal: 227ms\tremaining: 2.44s\n",
      "85:\tlearn: 0.2235566\ttotal: 230ms\tremaining: 2.44s\n",
      "86:\tlearn: 0.2207832\ttotal: 232ms\tremaining: 2.43s\n",
      "87:\tlearn: 0.2175596\ttotal: 233ms\tremaining: 2.41s\n",
      "88:\tlearn: 0.2150650\ttotal: 235ms\tremaining: 2.41s\n",
      "89:\tlearn: 0.2128918\ttotal: 238ms\tremaining: 2.4s\n",
      "90:\tlearn: 0.2102820\ttotal: 239ms\tremaining: 2.39s\n",
      "91:\tlearn: 0.2075180\ttotal: 240ms\tremaining: 2.37s\n",
      "92:\tlearn: 0.2056464\ttotal: 243ms\tremaining: 2.37s\n",
      "93:\tlearn: 0.2034976\ttotal: 245ms\tremaining: 2.36s\n",
      "94:\tlearn: 0.2017871\ttotal: 247ms\tremaining: 2.36s\n",
      "95:\tlearn: 0.1998261\ttotal: 250ms\tremaining: 2.35s\n",
      "96:\tlearn: 0.1971551\ttotal: 252ms\tremaining: 2.34s\n",
      "97:\tlearn: 0.1951950\ttotal: 254ms\tremaining: 2.34s\n",
      "98:\tlearn: 0.1929856\ttotal: 256ms\tremaining: 2.33s\n",
      "99:\tlearn: 0.1912629\ttotal: 259ms\tremaining: 2.33s\n",
      "100:\tlearn: 0.1894316\ttotal: 261ms\tremaining: 2.32s\n",
      "101:\tlearn: 0.1875440\ttotal: 263ms\tremaining: 2.32s\n",
      "102:\tlearn: 0.1855509\ttotal: 265ms\tremaining: 2.31s\n",
      "103:\tlearn: 0.1837269\ttotal: 268ms\tremaining: 2.31s\n",
      "104:\tlearn: 0.1823926\ttotal: 270ms\tremaining: 2.31s\n",
      "105:\tlearn: 0.1804088\ttotal: 273ms\tremaining: 2.3s\n",
      "106:\tlearn: 0.1787927\ttotal: 275ms\tremaining: 2.3s\n",
      "107:\tlearn: 0.1772472\ttotal: 278ms\tremaining: 2.3s\n",
      "108:\tlearn: 0.1758359\ttotal: 280ms\tremaining: 2.29s\n",
      "109:\tlearn: 0.1742102\ttotal: 283ms\tremaining: 2.29s\n",
      "110:\tlearn: 0.1727702\ttotal: 285ms\tremaining: 2.28s\n",
      "111:\tlearn: 0.1711757\ttotal: 288ms\tremaining: 2.28s\n",
      "112:\tlearn: 0.1698296\ttotal: 290ms\tremaining: 2.27s\n",
      "113:\tlearn: 0.1683264\ttotal: 292ms\tremaining: 2.27s\n",
      "114:\tlearn: 0.1668749\ttotal: 295ms\tremaining: 2.27s\n",
      "115:\tlearn: 0.1652079\ttotal: 297ms\tremaining: 2.26s\n",
      "116:\tlearn: 0.1636684\ttotal: 298ms\tremaining: 2.25s\n",
      "117:\tlearn: 0.1620912\ttotal: 301ms\tremaining: 2.25s\n",
      "118:\tlearn: 0.1612080\ttotal: 303ms\tremaining: 2.24s\n",
      "119:\tlearn: 0.1591553\ttotal: 305ms\tremaining: 2.24s\n",
      "120:\tlearn: 0.1579320\ttotal: 308ms\tremaining: 2.23s\n",
      "121:\tlearn: 0.1570406\ttotal: 310ms\tremaining: 2.23s\n",
      "122:\tlearn: 0.1557397\ttotal: 312ms\tremaining: 2.23s\n",
      "123:\tlearn: 0.1541387\ttotal: 315ms\tremaining: 2.22s\n",
      "124:\tlearn: 0.1530325\ttotal: 317ms\tremaining: 2.22s\n",
      "125:\tlearn: 0.1518094\ttotal: 319ms\tremaining: 2.21s\n",
      "126:\tlearn: 0.1506409\ttotal: 322ms\tremaining: 2.21s\n",
      "127:\tlearn: 0.1495018\ttotal: 323ms\tremaining: 2.2s\n",
      "128:\tlearn: 0.1483743\ttotal: 325ms\tremaining: 2.19s\n",
      "129:\tlearn: 0.1468665\ttotal: 327ms\tremaining: 2.19s\n",
      "130:\tlearn: 0.1459947\ttotal: 330ms\tremaining: 2.19s\n",
      "131:\tlearn: 0.1445590\ttotal: 332ms\tremaining: 2.18s\n",
      "132:\tlearn: 0.1435997\ttotal: 334ms\tremaining: 2.18s\n",
      "133:\tlearn: 0.1419531\ttotal: 337ms\tremaining: 2.18s\n",
      "134:\tlearn: 0.1410738\ttotal: 339ms\tremaining: 2.17s\n",
      "135:\tlearn: 0.1402079\ttotal: 341ms\tremaining: 2.17s\n",
      "136:\tlearn: 0.1390623\ttotal: 343ms\tremaining: 2.16s\n",
      "137:\tlearn: 0.1382522\ttotal: 347ms\tremaining: 2.17s\n",
      "138:\tlearn: 0.1373076\ttotal: 349ms\tremaining: 2.16s\n",
      "139:\tlearn: 0.1361909\ttotal: 351ms\tremaining: 2.16s\n",
      "140:\tlearn: 0.1355402\ttotal: 354ms\tremaining: 2.15s\n",
      "141:\tlearn: 0.1348357\ttotal: 356ms\tremaining: 2.15s\n",
      "142:\tlearn: 0.1340714\ttotal: 358ms\tremaining: 2.15s\n",
      "143:\tlearn: 0.1332110\ttotal: 361ms\tremaining: 2.14s\n",
      "144:\tlearn: 0.1321869\ttotal: 363ms\tremaining: 2.14s\n",
      "145:\tlearn: 0.1311143\ttotal: 365ms\tremaining: 2.14s\n",
      "146:\tlearn: 0.1302703\ttotal: 368ms\tremaining: 2.13s\n",
      "147:\tlearn: 0.1295660\ttotal: 370ms\tremaining: 2.13s\n",
      "148:\tlearn: 0.1287976\ttotal: 372ms\tremaining: 2.12s\n",
      "149:\tlearn: 0.1277396\ttotal: 373ms\tremaining: 2.11s\n",
      "150:\tlearn: 0.1270191\ttotal: 375ms\tremaining: 2.11s\n",
      "151:\tlearn: 0.1262809\ttotal: 378ms\tremaining: 2.11s\n",
      "152:\tlearn: 0.1254382\ttotal: 380ms\tremaining: 2.1s\n",
      "153:\tlearn: 0.1248326\ttotal: 382ms\tremaining: 2.1s\n",
      "154:\tlearn: 0.1240048\ttotal: 386ms\tremaining: 2.1s\n",
      "155:\tlearn: 0.1228604\ttotal: 389ms\tremaining: 2.11s\n",
      "156:\tlearn: 0.1221211\ttotal: 394ms\tremaining: 2.12s\n",
      "157:\tlearn: 0.1215336\ttotal: 398ms\tremaining: 2.12s\n",
      "158:\tlearn: 0.1207470\ttotal: 401ms\tremaining: 2.12s\n",
      "159:\tlearn: 0.1196035\ttotal: 404ms\tremaining: 2.12s\n",
      "160:\tlearn: 0.1189040\ttotal: 407ms\tremaining: 2.12s\n",
      "161:\tlearn: 0.1183311\ttotal: 412ms\tremaining: 2.13s\n",
      "162:\tlearn: 0.1172975\ttotal: 416ms\tremaining: 2.13s\n",
      "163:\tlearn: 0.1167700\ttotal: 418ms\tremaining: 2.13s\n",
      "164:\tlearn: 0.1160310\ttotal: 421ms\tremaining: 2.13s\n",
      "165:\tlearn: 0.1152851\ttotal: 423ms\tremaining: 2.13s\n",
      "166:\tlearn: 0.1144215\ttotal: 425ms\tremaining: 2.12s\n",
      "167:\tlearn: 0.1135928\ttotal: 428ms\tremaining: 2.12s\n",
      "168:\tlearn: 0.1127683\ttotal: 430ms\tremaining: 2.11s\n",
      "169:\tlearn: 0.1118692\ttotal: 432ms\tremaining: 2.11s\n",
      "170:\tlearn: 0.1111467\ttotal: 434ms\tremaining: 2.1s\n",
      "171:\tlearn: 0.1105930\ttotal: 437ms\tremaining: 2.1s\n",
      "172:\tlearn: 0.1099748\ttotal: 438ms\tremaining: 2.09s\n",
      "173:\tlearn: 0.1093242\ttotal: 440ms\tremaining: 2.09s\n",
      "174:\tlearn: 0.1085508\ttotal: 442ms\tremaining: 2.08s\n",
      "175:\tlearn: 0.1080966\ttotal: 444ms\tremaining: 2.08s\n",
      "176:\tlearn: 0.1075764\ttotal: 446ms\tremaining: 2.08s\n",
      "177:\tlearn: 0.1070743\ttotal: 449ms\tremaining: 2.07s\n",
      "178:\tlearn: 0.1063407\ttotal: 451ms\tremaining: 2.07s\n",
      "179:\tlearn: 0.1057206\ttotal: 453ms\tremaining: 2.06s\n",
      "180:\tlearn: 0.1050862\ttotal: 456ms\tremaining: 2.06s\n",
      "181:\tlearn: 0.1044128\ttotal: 458ms\tremaining: 2.06s\n",
      "182:\tlearn: 0.1038424\ttotal: 460ms\tremaining: 2.05s\n",
      "183:\tlearn: 0.1033451\ttotal: 462ms\tremaining: 2.05s\n",
      "184:\tlearn: 0.1028703\ttotal: 465ms\tremaining: 2.05s\n",
      "185:\tlearn: 0.1021577\ttotal: 467ms\tremaining: 2.04s\n",
      "186:\tlearn: 0.1012754\ttotal: 470ms\tremaining: 2.04s\n",
      "187:\tlearn: 0.1007376\ttotal: 472ms\tremaining: 2.04s\n",
      "188:\tlearn: 0.1000116\ttotal: 475ms\tremaining: 2.04s\n",
      "189:\tlearn: 0.0995855\ttotal: 477ms\tremaining: 2.03s\n",
      "190:\tlearn: 0.0990749\ttotal: 479ms\tremaining: 2.03s\n",
      "191:\tlearn: 0.0983207\ttotal: 481ms\tremaining: 2.03s\n",
      "192:\tlearn: 0.0978340\ttotal: 484ms\tremaining: 2.02s\n",
      "193:\tlearn: 0.0973473\ttotal: 486ms\tremaining: 2.02s\n",
      "194:\tlearn: 0.0968553\ttotal: 488ms\tremaining: 2.01s\n",
      "195:\tlearn: 0.0963760\ttotal: 490ms\tremaining: 2.01s\n",
      "196:\tlearn: 0.0955697\ttotal: 493ms\tremaining: 2.01s\n",
      "197:\tlearn: 0.0951115\ttotal: 495ms\tremaining: 2s\n",
      "198:\tlearn: 0.0946383\ttotal: 496ms\tremaining: 2s\n",
      "199:\tlearn: 0.0942997\ttotal: 499ms\tremaining: 1.99s\n",
      "200:\tlearn: 0.0937463\ttotal: 501ms\tremaining: 1.99s\n",
      "201:\tlearn: 0.0933876\ttotal: 502ms\tremaining: 1.98s\n",
      "202:\tlearn: 0.0929745\ttotal: 504ms\tremaining: 1.98s\n",
      "203:\tlearn: 0.0925246\ttotal: 507ms\tremaining: 1.98s\n",
      "204:\tlearn: 0.0919222\ttotal: 509ms\tremaining: 1.97s\n",
      "205:\tlearn: 0.0913390\ttotal: 511ms\tremaining: 1.97s\n",
      "206:\tlearn: 0.0907904\ttotal: 514ms\tremaining: 1.97s\n",
      "207:\tlearn: 0.0903211\ttotal: 515ms\tremaining: 1.96s\n",
      "208:\tlearn: 0.0897488\ttotal: 517ms\tremaining: 1.96s\n",
      "209:\tlearn: 0.0893234\ttotal: 520ms\tremaining: 1.96s\n",
      "210:\tlearn: 0.0888491\ttotal: 522ms\tremaining: 1.95s\n",
      "211:\tlearn: 0.0884972\ttotal: 525ms\tremaining: 1.95s\n",
      "212:\tlearn: 0.0880012\ttotal: 526ms\tremaining: 1.94s\n",
      "213:\tlearn: 0.0875968\ttotal: 527ms\tremaining: 1.94s\n",
      "214:\tlearn: 0.0871004\ttotal: 530ms\tremaining: 1.93s\n",
      "215:\tlearn: 0.0867284\ttotal: 532ms\tremaining: 1.93s\n",
      "216:\tlearn: 0.0864118\ttotal: 535ms\tremaining: 1.93s\n",
      "217:\tlearn: 0.0859260\ttotal: 537ms\tremaining: 1.93s\n",
      "218:\tlearn: 0.0851547\ttotal: 540ms\tremaining: 1.92s\n",
      "219:\tlearn: 0.0844263\ttotal: 542ms\tremaining: 1.92s\n",
      "220:\tlearn: 0.0838548\ttotal: 544ms\tremaining: 1.92s\n",
      "221:\tlearn: 0.0833826\ttotal: 546ms\tremaining: 1.91s\n",
      "222:\tlearn: 0.0830230\ttotal: 549ms\tremaining: 1.91s\n",
      "223:\tlearn: 0.0827109\ttotal: 551ms\tremaining: 1.91s\n",
      "224:\tlearn: 0.0821218\ttotal: 552ms\tremaining: 1.9s\n",
      "225:\tlearn: 0.0818029\ttotal: 555ms\tremaining: 1.9s\n",
      "226:\tlearn: 0.0814804\ttotal: 557ms\tremaining: 1.9s\n",
      "227:\tlearn: 0.0810764\ttotal: 559ms\tremaining: 1.89s\n",
      "228:\tlearn: 0.0807436\ttotal: 560ms\tremaining: 1.89s\n",
      "229:\tlearn: 0.0805475\ttotal: 561ms\tremaining: 1.88s\n",
      "230:\tlearn: 0.0799100\ttotal: 564ms\tremaining: 1.88s\n",
      "231:\tlearn: 0.0795606\ttotal: 566ms\tremaining: 1.87s\n",
      "232:\tlearn: 0.0789724\ttotal: 568ms\tremaining: 1.87s\n",
      "233:\tlearn: 0.0786559\ttotal: 571ms\tremaining: 1.87s\n",
      "234:\tlearn: 0.0780166\ttotal: 573ms\tremaining: 1.86s\n",
      "235:\tlearn: 0.0774829\ttotal: 576ms\tremaining: 1.86s\n",
      "236:\tlearn: 0.0770914\ttotal: 578ms\tremaining: 1.86s\n",
      "237:\tlearn: 0.0766673\ttotal: 581ms\tremaining: 1.86s\n",
      "238:\tlearn: 0.0761227\ttotal: 583ms\tremaining: 1.86s\n",
      "239:\tlearn: 0.0758231\ttotal: 585ms\tremaining: 1.85s\n",
      "240:\tlearn: 0.0754859\ttotal: 586ms\tremaining: 1.85s\n",
      "241:\tlearn: 0.0753038\ttotal: 589ms\tremaining: 1.84s\n",
      "242:\tlearn: 0.0748186\ttotal: 590ms\tremaining: 1.84s\n",
      "243:\tlearn: 0.0745268\ttotal: 592ms\tremaining: 1.83s\n",
      "244:\tlearn: 0.0740993\ttotal: 594ms\tremaining: 1.83s\n",
      "245:\tlearn: 0.0737528\ttotal: 596ms\tremaining: 1.83s\n",
      "246:\tlearn: 0.0734988\ttotal: 599ms\tremaining: 1.82s\n",
      "247:\tlearn: 0.0732259\ttotal: 601ms\tremaining: 1.82s\n",
      "248:\tlearn: 0.0729546\ttotal: 602ms\tremaining: 1.82s\n",
      "249:\tlearn: 0.0727304\ttotal: 604ms\tremaining: 1.81s\n",
      "250:\tlearn: 0.0725462\ttotal: 605ms\tremaining: 1.81s\n",
      "251:\tlearn: 0.0720240\ttotal: 608ms\tremaining: 1.8s\n",
      "252:\tlearn: 0.0714434\ttotal: 610ms\tremaining: 1.8s\n",
      "253:\tlearn: 0.0709144\ttotal: 612ms\tremaining: 1.8s\n",
      "254:\tlearn: 0.0705289\ttotal: 615ms\tremaining: 1.8s\n",
      "255:\tlearn: 0.0699792\ttotal: 618ms\tremaining: 1.79s\n",
      "256:\tlearn: 0.0695354\ttotal: 620ms\tremaining: 1.79s\n",
      "257:\tlearn: 0.0692349\ttotal: 623ms\tremaining: 1.79s\n",
      "258:\tlearn: 0.0688483\ttotal: 625ms\tremaining: 1.79s\n",
      "259:\tlearn: 0.0685409\ttotal: 627ms\tremaining: 1.78s\n",
      "260:\tlearn: 0.0682942\ttotal: 628ms\tremaining: 1.78s\n",
      "261:\tlearn: 0.0681340\ttotal: 630ms\tremaining: 1.77s\n",
      "262:\tlearn: 0.0676989\ttotal: 632ms\tremaining: 1.77s\n",
      "263:\tlearn: 0.0673095\ttotal: 634ms\tremaining: 1.77s\n",
      "264:\tlearn: 0.0671306\ttotal: 637ms\tremaining: 1.76s\n",
      "265:\tlearn: 0.0668449\ttotal: 639ms\tremaining: 1.76s\n",
      "266:\tlearn: 0.0664341\ttotal: 640ms\tremaining: 1.76s\n",
      "267:\tlearn: 0.0660995\ttotal: 642ms\tremaining: 1.75s\n",
      "268:\tlearn: 0.0656088\ttotal: 645ms\tremaining: 1.75s\n",
      "269:\tlearn: 0.0651397\ttotal: 648ms\tremaining: 1.75s\n",
      "270:\tlearn: 0.0649298\ttotal: 650ms\tremaining: 1.75s\n",
      "271:\tlearn: 0.0647395\ttotal: 651ms\tremaining: 1.74s\n",
      "272:\tlearn: 0.0644497\ttotal: 653ms\tremaining: 1.74s\n",
      "273:\tlearn: 0.0641072\ttotal: 656ms\tremaining: 1.74s\n",
      "274:\tlearn: 0.0638708\ttotal: 658ms\tremaining: 1.73s\n",
      "275:\tlearn: 0.0635016\ttotal: 660ms\tremaining: 1.73s\n",
      "276:\tlearn: 0.0632797\ttotal: 662ms\tremaining: 1.73s\n",
      "277:\tlearn: 0.0630399\ttotal: 664ms\tremaining: 1.72s\n",
      "278:\tlearn: 0.0627496\ttotal: 665ms\tremaining: 1.72s\n",
      "279:\tlearn: 0.0625591\ttotal: 668ms\tremaining: 1.72s\n",
      "280:\tlearn: 0.0622040\ttotal: 670ms\tremaining: 1.71s\n",
      "281:\tlearn: 0.0620068\ttotal: 671ms\tremaining: 1.71s\n",
      "282:\tlearn: 0.0618377\ttotal: 674ms\tremaining: 1.71s\n",
      "283:\tlearn: 0.0615955\ttotal: 676ms\tremaining: 1.71s\n",
      "284:\tlearn: 0.0611345\ttotal: 679ms\tremaining: 1.7s\n",
      "285:\tlearn: 0.0606706\ttotal: 681ms\tremaining: 1.7s\n",
      "286:\tlearn: 0.0603406\ttotal: 683ms\tremaining: 1.7s\n",
      "287:\tlearn: 0.0599899\ttotal: 686ms\tremaining: 1.7s\n",
      "288:\tlearn: 0.0597973\ttotal: 688ms\tremaining: 1.69s\n",
      "289:\tlearn: 0.0594463\ttotal: 690ms\tremaining: 1.69s\n",
      "290:\tlearn: 0.0591990\ttotal: 693ms\tremaining: 1.69s\n",
      "291:\tlearn: 0.0589532\ttotal: 695ms\tremaining: 1.69s\n",
      "292:\tlearn: 0.0585508\ttotal: 697ms\tremaining: 1.68s\n",
      "293:\tlearn: 0.0584076\ttotal: 700ms\tremaining: 1.68s\n",
      "294:\tlearn: 0.0580405\ttotal: 702ms\tremaining: 1.68s\n",
      "295:\tlearn: 0.0578114\ttotal: 704ms\tremaining: 1.68s\n",
      "296:\tlearn: 0.0576292\ttotal: 705ms\tremaining: 1.67s\n",
      "297:\tlearn: 0.0574509\ttotal: 708ms\tremaining: 1.67s\n",
      "298:\tlearn: 0.0571647\ttotal: 711ms\tremaining: 1.67s\n",
      "299:\tlearn: 0.0569176\ttotal: 713ms\tremaining: 1.66s\n",
      "300:\tlearn: 0.0568031\ttotal: 715ms\tremaining: 1.66s\n",
      "301:\tlearn: 0.0566432\ttotal: 717ms\tremaining: 1.66s\n",
      "302:\tlearn: 0.0562546\ttotal: 719ms\tremaining: 1.65s\n",
      "303:\tlearn: 0.0560007\ttotal: 721ms\tremaining: 1.65s\n",
      "304:\tlearn: 0.0557608\ttotal: 725ms\tremaining: 1.65s\n",
      "305:\tlearn: 0.0554526\ttotal: 727ms\tremaining: 1.65s\n",
      "306:\tlearn: 0.0551286\ttotal: 729ms\tremaining: 1.64s\n",
      "307:\tlearn: 0.0548788\ttotal: 731ms\tremaining: 1.64s\n",
      "308:\tlearn: 0.0547371\ttotal: 732ms\tremaining: 1.64s\n",
      "309:\tlearn: 0.0544692\ttotal: 734ms\tremaining: 1.63s\n",
      "310:\tlearn: 0.0543785\ttotal: 737ms\tremaining: 1.63s\n",
      "311:\tlearn: 0.0540723\ttotal: 739ms\tremaining: 1.63s\n",
      "312:\tlearn: 0.0539543\ttotal: 742ms\tremaining: 1.63s\n",
      "313:\tlearn: 0.0538124\ttotal: 743ms\tremaining: 1.62s\n",
      "314:\tlearn: 0.0535784\ttotal: 745ms\tremaining: 1.62s\n",
      "315:\tlearn: 0.0532944\ttotal: 748ms\tremaining: 1.62s\n",
      "316:\tlearn: 0.0530064\ttotal: 750ms\tremaining: 1.61s\n",
      "317:\tlearn: 0.0527340\ttotal: 752ms\tremaining: 1.61s\n",
      "318:\tlearn: 0.0526141\ttotal: 754ms\tremaining: 1.61s\n",
      "319:\tlearn: 0.0524554\ttotal: 756ms\tremaining: 1.6s\n",
      "320:\tlearn: 0.0522918\ttotal: 758ms\tremaining: 1.6s\n",
      "321:\tlearn: 0.0520073\ttotal: 760ms\tremaining: 1.6s\n",
      "322:\tlearn: 0.0518210\ttotal: 763ms\tremaining: 1.6s\n",
      "323:\tlearn: 0.0514790\ttotal: 765ms\tremaining: 1.59s\n",
      "324:\tlearn: 0.0513663\ttotal: 766ms\tremaining: 1.59s\n",
      "325:\tlearn: 0.0511941\ttotal: 768ms\tremaining: 1.59s\n",
      "326:\tlearn: 0.0509192\ttotal: 770ms\tremaining: 1.58s\n",
      "327:\tlearn: 0.0507199\ttotal: 773ms\tremaining: 1.58s\n",
      "328:\tlearn: 0.0506765\ttotal: 775ms\tremaining: 1.58s\n",
      "329:\tlearn: 0.0506305\ttotal: 777ms\tremaining: 1.58s\n",
      "330:\tlearn: 0.0504300\ttotal: 779ms\tremaining: 1.57s\n",
      "331:\tlearn: 0.0502565\ttotal: 782ms\tremaining: 1.57s\n",
      "332:\tlearn: 0.0499528\ttotal: 784ms\tremaining: 1.57s\n",
      "333:\tlearn: 0.0496295\ttotal: 786ms\tremaining: 1.57s\n",
      "334:\tlearn: 0.0495235\ttotal: 788ms\tremaining: 1.56s\n",
      "335:\tlearn: 0.0493958\ttotal: 791ms\tremaining: 1.56s\n",
      "336:\tlearn: 0.0492899\ttotal: 793ms\tremaining: 1.56s\n",
      "337:\tlearn: 0.0491687\ttotal: 795ms\tremaining: 1.56s\n",
      "338:\tlearn: 0.0490484\ttotal: 797ms\tremaining: 1.55s\n",
      "339:\tlearn: 0.0489085\ttotal: 800ms\tremaining: 1.55s\n",
      "340:\tlearn: 0.0486910\ttotal: 802ms\tremaining: 1.55s\n",
      "341:\tlearn: 0.0486109\ttotal: 804ms\tremaining: 1.55s\n",
      "342:\tlearn: 0.0483076\ttotal: 806ms\tremaining: 1.54s\n",
      "343:\tlearn: 0.0480783\ttotal: 809ms\tremaining: 1.54s\n",
      "344:\tlearn: 0.0479183\ttotal: 811ms\tremaining: 1.54s\n",
      "345:\tlearn: 0.0476688\ttotal: 814ms\tremaining: 1.54s\n",
      "346:\tlearn: 0.0474509\ttotal: 816ms\tremaining: 1.53s\n",
      "347:\tlearn: 0.0473620\ttotal: 819ms\tremaining: 1.53s\n",
      "348:\tlearn: 0.0470814\ttotal: 821ms\tremaining: 1.53s\n",
      "349:\tlearn: 0.0469628\ttotal: 822ms\tremaining: 1.53s\n",
      "350:\tlearn: 0.0468549\ttotal: 824ms\tremaining: 1.52s\n",
      "351:\tlearn: 0.0465713\ttotal: 826ms\tremaining: 1.52s\n",
      "352:\tlearn: 0.0464586\ttotal: 829ms\tremaining: 1.52s\n",
      "353:\tlearn: 0.0463282\ttotal: 831ms\tremaining: 1.52s\n",
      "354:\tlearn: 0.0462187\ttotal: 832ms\tremaining: 1.51s\n",
      "355:\tlearn: 0.0461163\ttotal: 836ms\tremaining: 1.51s\n",
      "356:\tlearn: 0.0459671\ttotal: 838ms\tremaining: 1.51s\n",
      "357:\tlearn: 0.0458132\ttotal: 841ms\tremaining: 1.51s\n",
      "358:\tlearn: 0.0455381\ttotal: 843ms\tremaining: 1.5s\n",
      "359:\tlearn: 0.0454548\ttotal: 845ms\tremaining: 1.5s\n",
      "360:\tlearn: 0.0453707\ttotal: 848ms\tremaining: 1.5s\n",
      "361:\tlearn: 0.0452088\ttotal: 850ms\tremaining: 1.5s\n",
      "362:\tlearn: 0.0451187\ttotal: 853ms\tremaining: 1.5s\n",
      "363:\tlearn: 0.0450611\ttotal: 855ms\tremaining: 1.49s\n",
      "364:\tlearn: 0.0448189\ttotal: 857ms\tremaining: 1.49s\n",
      "365:\tlearn: 0.0447240\ttotal: 858ms\tremaining: 1.49s\n",
      "366:\tlearn: 0.0446352\ttotal: 859ms\tremaining: 1.48s\n",
      "367:\tlearn: 0.0444683\ttotal: 862ms\tremaining: 1.48s\n",
      "368:\tlearn: 0.0443954\ttotal: 864ms\tremaining: 1.48s\n",
      "369:\tlearn: 0.0443030\ttotal: 867ms\tremaining: 1.48s\n",
      "370:\tlearn: 0.0441369\ttotal: 869ms\tremaining: 1.47s\n",
      "371:\tlearn: 0.0440720\ttotal: 871ms\tremaining: 1.47s\n",
      "372:\tlearn: 0.0439620\ttotal: 872ms\tremaining: 1.47s\n",
      "373:\tlearn: 0.0438602\ttotal: 875ms\tremaining: 1.46s\n",
      "374:\tlearn: 0.0436681\ttotal: 877ms\tremaining: 1.46s\n",
      "375:\tlearn: 0.0434349\ttotal: 879ms\tremaining: 1.46s\n",
      "376:\tlearn: 0.0432361\ttotal: 882ms\tremaining: 1.46s\n",
      "377:\tlearn: 0.0429949\ttotal: 884ms\tremaining: 1.45s\n",
      "378:\tlearn: 0.0428630\ttotal: 886ms\tremaining: 1.45s\n",
      "379:\tlearn: 0.0427794\ttotal: 889ms\tremaining: 1.45s\n",
      "380:\tlearn: 0.0427259\ttotal: 891ms\tremaining: 1.45s\n",
      "381:\tlearn: 0.0425439\ttotal: 894ms\tremaining: 1.45s\n",
      "382:\tlearn: 0.0422863\ttotal: 896ms\tremaining: 1.44s\n",
      "383:\tlearn: 0.0421488\ttotal: 898ms\tremaining: 1.44s\n",
      "384:\tlearn: 0.0419050\ttotal: 901ms\tremaining: 1.44s\n",
      "385:\tlearn: 0.0416950\ttotal: 903ms\tremaining: 1.44s\n",
      "386:\tlearn: 0.0415181\ttotal: 905ms\tremaining: 1.43s\n",
      "387:\tlearn: 0.0413145\ttotal: 908ms\tremaining: 1.43s\n",
      "388:\tlearn: 0.0412262\ttotal: 910ms\tremaining: 1.43s\n",
      "389:\tlearn: 0.0410365\ttotal: 913ms\tremaining: 1.43s\n",
      "390:\tlearn: 0.0409056\ttotal: 915ms\tremaining: 1.43s\n",
      "391:\tlearn: 0.0408012\ttotal: 918ms\tremaining: 1.42s\n",
      "392:\tlearn: 0.0407274\ttotal: 920ms\tremaining: 1.42s\n",
      "393:\tlearn: 0.0405954\ttotal: 922ms\tremaining: 1.42s\n",
      "394:\tlearn: 0.0404382\ttotal: 925ms\tremaining: 1.42s\n",
      "395:\tlearn: 0.0402800\ttotal: 927ms\tremaining: 1.41s\n",
      "396:\tlearn: 0.0401575\ttotal: 930ms\tremaining: 1.41s\n",
      "397:\tlearn: 0.0400980\ttotal: 932ms\tremaining: 1.41s\n",
      "398:\tlearn: 0.0400047\ttotal: 935ms\tremaining: 1.41s\n",
      "399:\tlearn: 0.0398493\ttotal: 937ms\tremaining: 1.41s\n",
      "400:\tlearn: 0.0396658\ttotal: 939ms\tremaining: 1.4s\n",
      "401:\tlearn: 0.0394593\ttotal: 942ms\tremaining: 1.4s\n",
      "402:\tlearn: 0.0393632\ttotal: 944ms\tremaining: 1.4s\n",
      "403:\tlearn: 0.0392208\ttotal: 947ms\tremaining: 1.4s\n",
      "404:\tlearn: 0.0391090\ttotal: 949ms\tremaining: 1.39s\n",
      "405:\tlearn: 0.0390413\ttotal: 952ms\tremaining: 1.39s\n",
      "406:\tlearn: 0.0388928\ttotal: 954ms\tremaining: 1.39s\n",
      "407:\tlearn: 0.0386880\ttotal: 956ms\tremaining: 1.39s\n",
      "408:\tlearn: 0.0385615\ttotal: 959ms\tremaining: 1.39s\n",
      "409:\tlearn: 0.0385042\ttotal: 961ms\tremaining: 1.38s\n",
      "410:\tlearn: 0.0384087\ttotal: 963ms\tremaining: 1.38s\n",
      "411:\tlearn: 0.0382112\ttotal: 966ms\tremaining: 1.38s\n",
      "412:\tlearn: 0.0380913\ttotal: 968ms\tremaining: 1.38s\n",
      "413:\tlearn: 0.0379406\ttotal: 972ms\tremaining: 1.38s\n",
      "414:\tlearn: 0.0378558\ttotal: 973ms\tremaining: 1.37s\n",
      "415:\tlearn: 0.0377980\ttotal: 975ms\tremaining: 1.37s\n",
      "416:\tlearn: 0.0377549\ttotal: 978ms\tremaining: 1.37s\n",
      "417:\tlearn: 0.0376139\ttotal: 980ms\tremaining: 1.36s\n",
      "418:\tlearn: 0.0374620\ttotal: 983ms\tremaining: 1.36s\n",
      "419:\tlearn: 0.0374008\ttotal: 986ms\tremaining: 1.36s\n",
      "420:\tlearn: 0.0372724\ttotal: 989ms\tremaining: 1.36s\n",
      "421:\tlearn: 0.0371897\ttotal: 992ms\tremaining: 1.36s\n",
      "422:\tlearn: 0.0370287\ttotal: 995ms\tremaining: 1.36s\n",
      "423:\tlearn: 0.0369363\ttotal: 998ms\tremaining: 1.35s\n",
      "424:\tlearn: 0.0368018\ttotal: 1s\tremaining: 1.35s\n",
      "425:\tlearn: 0.0367360\ttotal: 1s\tremaining: 1.35s\n",
      "426:\tlearn: 0.0366937\ttotal: 1s\tremaining: 1.35s\n",
      "427:\tlearn: 0.0365529\ttotal: 1s\tremaining: 1.34s\n",
      "428:\tlearn: 0.0363753\ttotal: 1.01s\tremaining: 1.34s\n",
      "429:\tlearn: 0.0363313\ttotal: 1.01s\tremaining: 1.34s\n",
      "430:\tlearn: 0.0362846\ttotal: 1.01s\tremaining: 1.34s\n",
      "431:\tlearn: 0.0361905\ttotal: 1.01s\tremaining: 1.33s\n",
      "432:\tlearn: 0.0361140\ttotal: 1.02s\tremaining: 1.33s\n",
      "433:\tlearn: 0.0360549\ttotal: 1.02s\tremaining: 1.33s\n",
      "434:\tlearn: 0.0359011\ttotal: 1.02s\tremaining: 1.32s\n",
      "435:\tlearn: 0.0356988\ttotal: 1.02s\tremaining: 1.32s\n",
      "436:\tlearn: 0.0355615\ttotal: 1.03s\tremaining: 1.32s\n",
      "437:\tlearn: 0.0355134\ttotal: 1.03s\tremaining: 1.32s\n",
      "438:\tlearn: 0.0353700\ttotal: 1.03s\tremaining: 1.32s\n",
      "439:\tlearn: 0.0351901\ttotal: 1.03s\tremaining: 1.31s\n",
      "440:\tlearn: 0.0351556\ttotal: 1.03s\tremaining: 1.31s\n",
      "441:\tlearn: 0.0350321\ttotal: 1.04s\tremaining: 1.31s\n",
      "442:\tlearn: 0.0348911\ttotal: 1.04s\tremaining: 1.31s\n",
      "443:\tlearn: 0.0347713\ttotal: 1.04s\tremaining: 1.3s\n",
      "444:\tlearn: 0.0347370\ttotal: 1.04s\tremaining: 1.3s\n",
      "445:\tlearn: 0.0346164\ttotal: 1.05s\tremaining: 1.3s\n",
      "446:\tlearn: 0.0345744\ttotal: 1.05s\tremaining: 1.3s\n",
      "447:\tlearn: 0.0343889\ttotal: 1.05s\tremaining: 1.29s\n",
      "448:\tlearn: 0.0343427\ttotal: 1.05s\tremaining: 1.29s\n",
      "449:\tlearn: 0.0341800\ttotal: 1.06s\tremaining: 1.29s\n",
      "450:\tlearn: 0.0341118\ttotal: 1.06s\tremaining: 1.29s\n",
      "451:\tlearn: 0.0339848\ttotal: 1.06s\tremaining: 1.28s\n",
      "452:\tlearn: 0.0339504\ttotal: 1.06s\tremaining: 1.28s\n",
      "453:\tlearn: 0.0338636\ttotal: 1.06s\tremaining: 1.28s\n",
      "454:\tlearn: 0.0337607\ttotal: 1.07s\tremaining: 1.28s\n",
      "455:\tlearn: 0.0335923\ttotal: 1.07s\tremaining: 1.28s\n",
      "456:\tlearn: 0.0334877\ttotal: 1.07s\tremaining: 1.27s\n",
      "457:\tlearn: 0.0333165\ttotal: 1.07s\tremaining: 1.27s\n",
      "458:\tlearn: 0.0332715\ttotal: 1.08s\tremaining: 1.27s\n",
      "459:\tlearn: 0.0332150\ttotal: 1.08s\tremaining: 1.26s\n",
      "460:\tlearn: 0.0331079\ttotal: 1.08s\tremaining: 1.26s\n",
      "461:\tlearn: 0.0330354\ttotal: 1.08s\tremaining: 1.26s\n",
      "462:\tlearn: 0.0329633\ttotal: 1.08s\tremaining: 1.26s\n",
      "463:\tlearn: 0.0329193\ttotal: 1.09s\tremaining: 1.25s\n",
      "464:\tlearn: 0.0328483\ttotal: 1.09s\tremaining: 1.25s\n",
      "465:\tlearn: 0.0328058\ttotal: 1.09s\tremaining: 1.25s\n",
      "466:\tlearn: 0.0327790\ttotal: 1.09s\tremaining: 1.25s\n",
      "467:\tlearn: 0.0326108\ttotal: 1.09s\tremaining: 1.24s\n",
      "468:\tlearn: 0.0324843\ttotal: 1.1s\tremaining: 1.24s\n",
      "469:\tlearn: 0.0323279\ttotal: 1.1s\tremaining: 1.24s\n",
      "470:\tlearn: 0.0322720\ttotal: 1.1s\tremaining: 1.24s\n",
      "471:\tlearn: 0.0321362\ttotal: 1.1s\tremaining: 1.24s\n",
      "472:\tlearn: 0.0320973\ttotal: 1.11s\tremaining: 1.23s\n",
      "473:\tlearn: 0.0320051\ttotal: 1.11s\tremaining: 1.23s\n",
      "474:\tlearn: 0.0318892\ttotal: 1.11s\tremaining: 1.23s\n",
      "475:\tlearn: 0.0318429\ttotal: 1.11s\tremaining: 1.23s\n",
      "476:\tlearn: 0.0317998\ttotal: 1.12s\tremaining: 1.23s\n",
      "477:\tlearn: 0.0316774\ttotal: 1.12s\tremaining: 1.22s\n",
      "478:\tlearn: 0.0316452\ttotal: 1.12s\tremaining: 1.22s\n",
      "479:\tlearn: 0.0316047\ttotal: 1.12s\tremaining: 1.22s\n",
      "480:\tlearn: 0.0315732\ttotal: 1.13s\tremaining: 1.21s\n",
      "481:\tlearn: 0.0315271\ttotal: 1.13s\tremaining: 1.21s\n",
      "482:\tlearn: 0.0314439\ttotal: 1.13s\tremaining: 1.21s\n",
      "483:\tlearn: 0.0314009\ttotal: 1.13s\tremaining: 1.21s\n",
      "484:\tlearn: 0.0313368\ttotal: 1.13s\tremaining: 1.21s\n",
      "485:\tlearn: 0.0311885\ttotal: 1.14s\tremaining: 1.2s\n",
      "486:\tlearn: 0.0311308\ttotal: 1.14s\tremaining: 1.2s\n",
      "487:\tlearn: 0.0310856\ttotal: 1.14s\tremaining: 1.2s\n",
      "488:\tlearn: 0.0310377\ttotal: 1.14s\tremaining: 1.2s\n",
      "489:\tlearn: 0.0308884\ttotal: 1.15s\tremaining: 1.19s\n",
      "490:\tlearn: 0.0308585\ttotal: 1.15s\tremaining: 1.19s\n",
      "491:\tlearn: 0.0307252\ttotal: 1.15s\tremaining: 1.19s\n",
      "492:\tlearn: 0.0305954\ttotal: 1.15s\tremaining: 1.19s\n",
      "493:\tlearn: 0.0305471\ttotal: 1.16s\tremaining: 1.18s\n",
      "494:\tlearn: 0.0305000\ttotal: 1.16s\tremaining: 1.18s\n",
      "495:\tlearn: 0.0303553\ttotal: 1.16s\tremaining: 1.18s\n",
      "496:\tlearn: 0.0303144\ttotal: 1.16s\tremaining: 1.18s\n",
      "497:\tlearn: 0.0302129\ttotal: 1.16s\tremaining: 1.17s\n",
      "498:\tlearn: 0.0301759\ttotal: 1.17s\tremaining: 1.17s\n",
      "499:\tlearn: 0.0300586\ttotal: 1.17s\tremaining: 1.17s\n",
      "500:\tlearn: 0.0299420\ttotal: 1.17s\tremaining: 1.17s\n",
      "501:\tlearn: 0.0298650\ttotal: 1.17s\tremaining: 1.16s\n",
      "502:\tlearn: 0.0298164\ttotal: 1.18s\tremaining: 1.16s\n",
      "503:\tlearn: 0.0297827\ttotal: 1.18s\tremaining: 1.16s\n",
      "504:\tlearn: 0.0297440\ttotal: 1.18s\tremaining: 1.16s\n",
      "505:\tlearn: 0.0297064\ttotal: 1.18s\tremaining: 1.16s\n",
      "506:\tlearn: 0.0296240\ttotal: 1.19s\tremaining: 1.15s\n",
      "507:\tlearn: 0.0295928\ttotal: 1.19s\tremaining: 1.15s\n",
      "508:\tlearn: 0.0294887\ttotal: 1.19s\tremaining: 1.15s\n",
      "509:\tlearn: 0.0294042\ttotal: 1.19s\tremaining: 1.15s\n",
      "510:\tlearn: 0.0292884\ttotal: 1.2s\tremaining: 1.15s\n",
      "511:\tlearn: 0.0292572\ttotal: 1.2s\tremaining: 1.14s\n",
      "512:\tlearn: 0.0292091\ttotal: 1.2s\tremaining: 1.14s\n",
      "513:\tlearn: 0.0291408\ttotal: 1.2s\tremaining: 1.14s\n",
      "514:\tlearn: 0.0291024\ttotal: 1.21s\tremaining: 1.14s\n",
      "515:\tlearn: 0.0290189\ttotal: 1.21s\tremaining: 1.13s\n",
      "516:\tlearn: 0.0288793\ttotal: 1.21s\tremaining: 1.13s\n",
      "517:\tlearn: 0.0288432\ttotal: 1.21s\tremaining: 1.13s\n",
      "518:\tlearn: 0.0287353\ttotal: 1.22s\tremaining: 1.13s\n",
      "519:\tlearn: 0.0286893\ttotal: 1.22s\tremaining: 1.12s\n",
      "520:\tlearn: 0.0286117\ttotal: 1.22s\tremaining: 1.12s\n",
      "521:\tlearn: 0.0285772\ttotal: 1.22s\tremaining: 1.12s\n",
      "522:\tlearn: 0.0284716\ttotal: 1.23s\tremaining: 1.12s\n",
      "523:\tlearn: 0.0284204\ttotal: 1.23s\tremaining: 1.11s\n",
      "524:\tlearn: 0.0283076\ttotal: 1.23s\tremaining: 1.11s\n",
      "525:\tlearn: 0.0281825\ttotal: 1.23s\tremaining: 1.11s\n",
      "526:\tlearn: 0.0281485\ttotal: 1.23s\tremaining: 1.11s\n",
      "527:\tlearn: 0.0281127\ttotal: 1.24s\tremaining: 1.1s\n",
      "528:\tlearn: 0.0280772\ttotal: 1.24s\tremaining: 1.1s\n",
      "529:\tlearn: 0.0280401\ttotal: 1.24s\tremaining: 1.1s\n",
      "530:\tlearn: 0.0279954\ttotal: 1.24s\tremaining: 1.1s\n",
      "531:\tlearn: 0.0278678\ttotal: 1.24s\tremaining: 1.09s\n",
      "532:\tlearn: 0.0277455\ttotal: 1.25s\tremaining: 1.09s\n",
      "533:\tlearn: 0.0276470\ttotal: 1.25s\tremaining: 1.09s\n",
      "534:\tlearn: 0.0275975\ttotal: 1.25s\tremaining: 1.09s\n",
      "535:\tlearn: 0.0275647\ttotal: 1.25s\tremaining: 1.08s\n",
      "536:\tlearn: 0.0274382\ttotal: 1.26s\tremaining: 1.08s\n",
      "537:\tlearn: 0.0273514\ttotal: 1.26s\tremaining: 1.08s\n",
      "538:\tlearn: 0.0272489\ttotal: 1.26s\tremaining: 1.08s\n",
      "539:\tlearn: 0.0271574\ttotal: 1.26s\tremaining: 1.08s\n",
      "540:\tlearn: 0.0271058\ttotal: 1.27s\tremaining: 1.07s\n",
      "541:\tlearn: 0.0270856\ttotal: 1.27s\tremaining: 1.07s\n",
      "542:\tlearn: 0.0269691\ttotal: 1.27s\tremaining: 1.07s\n",
      "543:\tlearn: 0.0269461\ttotal: 1.27s\tremaining: 1.07s\n",
      "544:\tlearn: 0.0269034\ttotal: 1.27s\tremaining: 1.06s\n",
      "545:\tlearn: 0.0268720\ttotal: 1.28s\tremaining: 1.06s\n",
      "546:\tlearn: 0.0268292\ttotal: 1.28s\tremaining: 1.06s\n",
      "547:\tlearn: 0.0267151\ttotal: 1.28s\tremaining: 1.06s\n",
      "548:\tlearn: 0.0266207\ttotal: 1.28s\tremaining: 1.05s\n",
      "549:\tlearn: 0.0265362\ttotal: 1.29s\tremaining: 1.05s\n",
      "550:\tlearn: 0.0264527\ttotal: 1.29s\tremaining: 1.05s\n",
      "551:\tlearn: 0.0263618\ttotal: 1.29s\tremaining: 1.05s\n",
      "552:\tlearn: 0.0263131\ttotal: 1.29s\tremaining: 1.05s\n",
      "553:\tlearn: 0.0261952\ttotal: 1.3s\tremaining: 1.04s\n",
      "554:\tlearn: 0.0261294\ttotal: 1.3s\tremaining: 1.04s\n",
      "555:\tlearn: 0.0260610\ttotal: 1.3s\tremaining: 1.04s\n",
      "556:\tlearn: 0.0259943\ttotal: 1.3s\tremaining: 1.04s\n",
      "557:\tlearn: 0.0259141\ttotal: 1.31s\tremaining: 1.03s\n",
      "558:\tlearn: 0.0258775\ttotal: 1.31s\tremaining: 1.03s\n",
      "559:\tlearn: 0.0257693\ttotal: 1.31s\tremaining: 1.03s\n",
      "560:\tlearn: 0.0256635\ttotal: 1.31s\tremaining: 1.03s\n",
      "561:\tlearn: 0.0256232\ttotal: 1.31s\tremaining: 1.02s\n",
      "562:\tlearn: 0.0256085\ttotal: 1.32s\tremaining: 1.02s\n",
      "563:\tlearn: 0.0255226\ttotal: 1.32s\tremaining: 1.02s\n",
      "564:\tlearn: 0.0254722\ttotal: 1.32s\tremaining: 1.02s\n",
      "565:\tlearn: 0.0253857\ttotal: 1.32s\tremaining: 1.01s\n",
      "566:\tlearn: 0.0253586\ttotal: 1.33s\tremaining: 1.01s\n",
      "567:\tlearn: 0.0253210\ttotal: 1.33s\tremaining: 1.01s\n",
      "568:\tlearn: 0.0252426\ttotal: 1.33s\tremaining: 1.01s\n",
      "569:\tlearn: 0.0252235\ttotal: 1.33s\tremaining: 1s\n",
      "570:\tlearn: 0.0251366\ttotal: 1.33s\tremaining: 1s\n",
      "571:\tlearn: 0.0250786\ttotal: 1.34s\tremaining: 1s\n",
      "572:\tlearn: 0.0249826\ttotal: 1.34s\tremaining: 998ms\n",
      "573:\tlearn: 0.0249080\ttotal: 1.34s\tremaining: 996ms\n",
      "574:\tlearn: 0.0248264\ttotal: 1.34s\tremaining: 994ms\n",
      "575:\tlearn: 0.0247828\ttotal: 1.35s\tremaining: 992ms\n",
      "576:\tlearn: 0.0247271\ttotal: 1.35s\tremaining: 991ms\n",
      "577:\tlearn: 0.0246934\ttotal: 1.35s\tremaining: 990ms\n",
      "578:\tlearn: 0.0245957\ttotal: 1.36s\tremaining: 988ms\n",
      "579:\tlearn: 0.0245374\ttotal: 1.36s\tremaining: 987ms\n",
      "580:\tlearn: 0.0244639\ttotal: 1.36s\tremaining: 985ms\n",
      "581:\tlearn: 0.0243912\ttotal: 1.37s\tremaining: 983ms\n",
      "582:\tlearn: 0.0243633\ttotal: 1.37s\tremaining: 980ms\n",
      "583:\tlearn: 0.0243343\ttotal: 1.37s\tremaining: 978ms\n",
      "584:\tlearn: 0.0242778\ttotal: 1.37s\tremaining: 975ms\n",
      "585:\tlearn: 0.0242221\ttotal: 1.38s\tremaining: 973ms\n",
      "586:\tlearn: 0.0241520\ttotal: 1.38s\tremaining: 971ms\n",
      "587:\tlearn: 0.0241269\ttotal: 1.38s\tremaining: 967ms\n",
      "588:\tlearn: 0.0241001\ttotal: 1.38s\tremaining: 964ms\n",
      "589:\tlearn: 0.0240653\ttotal: 1.38s\tremaining: 961ms\n",
      "590:\tlearn: 0.0240378\ttotal: 1.39s\tremaining: 959ms\n",
      "591:\tlearn: 0.0239808\ttotal: 1.39s\tremaining: 957ms\n",
      "592:\tlearn: 0.0239031\ttotal: 1.39s\tremaining: 954ms\n",
      "593:\tlearn: 0.0238460\ttotal: 1.39s\tremaining: 952ms\n",
      "594:\tlearn: 0.0237995\ttotal: 1.39s\tremaining: 949ms\n",
      "595:\tlearn: 0.0237807\ttotal: 1.4s\tremaining: 946ms\n",
      "596:\tlearn: 0.0237437\ttotal: 1.4s\tremaining: 944ms\n",
      "597:\tlearn: 0.0237240\ttotal: 1.4s\tremaining: 941ms\n",
      "598:\tlearn: 0.0236530\ttotal: 1.4s\tremaining: 939ms\n",
      "599:\tlearn: 0.0235929\ttotal: 1.41s\tremaining: 937ms\n",
      "600:\tlearn: 0.0235480\ttotal: 1.41s\tremaining: 935ms\n",
      "601:\tlearn: 0.0235144\ttotal: 1.41s\tremaining: 932ms\n",
      "602:\tlearn: 0.0234425\ttotal: 1.41s\tremaining: 930ms\n",
      "603:\tlearn: 0.0234035\ttotal: 1.41s\tremaining: 927ms\n",
      "604:\tlearn: 0.0233745\ttotal: 1.42s\tremaining: 925ms\n",
      "605:\tlearn: 0.0233329\ttotal: 1.42s\tremaining: 923ms\n",
      "606:\tlearn: 0.0232656\ttotal: 1.42s\tremaining: 920ms\n",
      "607:\tlearn: 0.0232296\ttotal: 1.42s\tremaining: 918ms\n",
      "608:\tlearn: 0.0231602\ttotal: 1.43s\tremaining: 916ms\n",
      "609:\tlearn: 0.0231070\ttotal: 1.43s\tremaining: 913ms\n",
      "610:\tlearn: 0.0230605\ttotal: 1.43s\tremaining: 911ms\n",
      "611:\tlearn: 0.0230407\ttotal: 1.43s\tremaining: 909ms\n",
      "612:\tlearn: 0.0229710\ttotal: 1.44s\tremaining: 906ms\n",
      "613:\tlearn: 0.0229312\ttotal: 1.44s\tremaining: 904ms\n",
      "614:\tlearn: 0.0229116\ttotal: 1.44s\tremaining: 901ms\n",
      "615:\tlearn: 0.0228316\ttotal: 1.44s\tremaining: 899ms\n",
      "616:\tlearn: 0.0228146\ttotal: 1.44s\tremaining: 897ms\n",
      "617:\tlearn: 0.0227852\ttotal: 1.45s\tremaining: 894ms\n",
      "618:\tlearn: 0.0227279\ttotal: 1.45s\tremaining: 892ms\n",
      "619:\tlearn: 0.0227034\ttotal: 1.45s\tremaining: 890ms\n",
      "620:\tlearn: 0.0226318\ttotal: 1.45s\tremaining: 888ms\n",
      "621:\tlearn: 0.0225865\ttotal: 1.46s\tremaining: 886ms\n",
      "622:\tlearn: 0.0225504\ttotal: 1.46s\tremaining: 883ms\n",
      "623:\tlearn: 0.0225171\ttotal: 1.46s\tremaining: 881ms\n",
      "624:\tlearn: 0.0224938\ttotal: 1.46s\tremaining: 878ms\n",
      "625:\tlearn: 0.0224172\ttotal: 1.47s\tremaining: 876ms\n",
      "626:\tlearn: 0.0223654\ttotal: 1.47s\tremaining: 873ms\n",
      "627:\tlearn: 0.0223443\ttotal: 1.47s\tremaining: 871ms\n",
      "628:\tlearn: 0.0223097\ttotal: 1.47s\tremaining: 869ms\n",
      "629:\tlearn: 0.0222824\ttotal: 1.48s\tremaining: 866ms\n",
      "630:\tlearn: 0.0222000\ttotal: 1.48s\tremaining: 864ms\n",
      "631:\tlearn: 0.0221522\ttotal: 1.48s\tremaining: 862ms\n",
      "632:\tlearn: 0.0220672\ttotal: 1.48s\tremaining: 860ms\n",
      "633:\tlearn: 0.0220522\ttotal: 1.49s\tremaining: 857ms\n",
      "634:\tlearn: 0.0219758\ttotal: 1.49s\tremaining: 855ms\n",
      "635:\tlearn: 0.0219474\ttotal: 1.49s\tremaining: 853ms\n",
      "636:\tlearn: 0.0218974\ttotal: 1.49s\tremaining: 850ms\n",
      "637:\tlearn: 0.0218758\ttotal: 1.49s\tremaining: 847ms\n",
      "638:\tlearn: 0.0218588\ttotal: 1.5s\tremaining: 845ms\n",
      "639:\tlearn: 0.0218002\ttotal: 1.5s\tremaining: 842ms\n",
      "640:\tlearn: 0.0217460\ttotal: 1.5s\tremaining: 840ms\n",
      "641:\tlearn: 0.0217283\ttotal: 1.5s\tremaining: 838ms\n",
      "642:\tlearn: 0.0216738\ttotal: 1.5s\tremaining: 836ms\n",
      "643:\tlearn: 0.0216313\ttotal: 1.51s\tremaining: 834ms\n",
      "644:\tlearn: 0.0216117\ttotal: 1.51s\tremaining: 831ms\n",
      "645:\tlearn: 0.0215860\ttotal: 1.51s\tremaining: 829ms\n",
      "646:\tlearn: 0.0215366\ttotal: 1.51s\tremaining: 827ms\n",
      "647:\tlearn: 0.0215186\ttotal: 1.52s\tremaining: 824ms\n",
      "648:\tlearn: 0.0214590\ttotal: 1.52s\tremaining: 822ms\n",
      "649:\tlearn: 0.0213906\ttotal: 1.52s\tremaining: 820ms\n",
      "650:\tlearn: 0.0213667\ttotal: 1.52s\tremaining: 817ms\n",
      "651:\tlearn: 0.0213093\ttotal: 1.53s\tremaining: 815ms\n",
      "652:\tlearn: 0.0212419\ttotal: 1.53s\tremaining: 813ms\n",
      "653:\tlearn: 0.0212124\ttotal: 1.53s\tremaining: 810ms\n",
      "654:\tlearn: 0.0211623\ttotal: 1.53s\tremaining: 808ms\n",
      "655:\tlearn: 0.0211474\ttotal: 1.54s\tremaining: 806ms\n",
      "656:\tlearn: 0.0210899\ttotal: 1.54s\tremaining: 804ms\n",
      "657:\tlearn: 0.0210713\ttotal: 1.54s\tremaining: 801ms\n",
      "658:\tlearn: 0.0210297\ttotal: 1.54s\tremaining: 799ms\n",
      "659:\tlearn: 0.0210110\ttotal: 1.55s\tremaining: 797ms\n",
      "660:\tlearn: 0.0209654\ttotal: 1.55s\tremaining: 795ms\n",
      "661:\tlearn: 0.0209168\ttotal: 1.55s\tremaining: 792ms\n",
      "662:\tlearn: 0.0208946\ttotal: 1.55s\tremaining: 790ms\n",
      "663:\tlearn: 0.0208688\ttotal: 1.56s\tremaining: 787ms\n",
      "664:\tlearn: 0.0207928\ttotal: 1.56s\tremaining: 785ms\n",
      "665:\tlearn: 0.0207414\ttotal: 1.56s\tremaining: 783ms\n",
      "666:\tlearn: 0.0206944\ttotal: 1.56s\tremaining: 781ms\n",
      "667:\tlearn: 0.0206402\ttotal: 1.57s\tremaining: 778ms\n",
      "668:\tlearn: 0.0206193\ttotal: 1.57s\tremaining: 776ms\n",
      "669:\tlearn: 0.0205636\ttotal: 1.57s\tremaining: 774ms\n",
      "670:\tlearn: 0.0205390\ttotal: 1.57s\tremaining: 772ms\n",
      "671:\tlearn: 0.0204933\ttotal: 1.58s\tremaining: 770ms\n",
      "672:\tlearn: 0.0204713\ttotal: 1.58s\tremaining: 768ms\n",
      "673:\tlearn: 0.0204104\ttotal: 1.58s\tremaining: 766ms\n",
      "674:\tlearn: 0.0203914\ttotal: 1.58s\tremaining: 763ms\n",
      "675:\tlearn: 0.0203457\ttotal: 1.59s\tremaining: 761ms\n",
      "676:\tlearn: 0.0203155\ttotal: 1.59s\tremaining: 759ms\n",
      "677:\tlearn: 0.0202517\ttotal: 1.59s\tremaining: 756ms\n",
      "678:\tlearn: 0.0202333\ttotal: 1.59s\tremaining: 754ms\n",
      "679:\tlearn: 0.0202061\ttotal: 1.6s\tremaining: 752ms\n",
      "680:\tlearn: 0.0201647\ttotal: 1.6s\tremaining: 750ms\n",
      "681:\tlearn: 0.0201344\ttotal: 1.6s\tremaining: 747ms\n",
      "682:\tlearn: 0.0200823\ttotal: 1.6s\tremaining: 745ms\n",
      "683:\tlearn: 0.0200090\ttotal: 1.61s\tremaining: 743ms\n",
      "684:\tlearn: 0.0199895\ttotal: 1.61s\tremaining: 740ms\n",
      "685:\tlearn: 0.0199692\ttotal: 1.61s\tremaining: 737ms\n",
      "686:\tlearn: 0.0199482\ttotal: 1.61s\tremaining: 735ms\n",
      "687:\tlearn: 0.0199265\ttotal: 1.62s\tremaining: 733ms\n",
      "688:\tlearn: 0.0199015\ttotal: 1.62s\tremaining: 730ms\n",
      "689:\tlearn: 0.0198557\ttotal: 1.62s\tremaining: 728ms\n",
      "690:\tlearn: 0.0198038\ttotal: 1.62s\tremaining: 726ms\n",
      "691:\tlearn: 0.0197607\ttotal: 1.63s\tremaining: 724ms\n",
      "692:\tlearn: 0.0196910\ttotal: 1.63s\tremaining: 721ms\n",
      "693:\tlearn: 0.0196303\ttotal: 1.63s\tremaining: 719ms\n",
      "694:\tlearn: 0.0195762\ttotal: 1.63s\tremaining: 717ms\n",
      "695:\tlearn: 0.0195557\ttotal: 1.63s\tremaining: 714ms\n",
      "696:\tlearn: 0.0195148\ttotal: 1.64s\tremaining: 712ms\n",
      "697:\tlearn: 0.0194721\ttotal: 1.64s\tremaining: 709ms\n",
      "698:\tlearn: 0.0194533\ttotal: 1.64s\tremaining: 707ms\n",
      "699:\tlearn: 0.0194394\ttotal: 1.64s\tremaining: 705ms\n",
      "700:\tlearn: 0.0194275\ttotal: 1.65s\tremaining: 702ms\n",
      "701:\tlearn: 0.0193832\ttotal: 1.65s\tremaining: 700ms\n",
      "702:\tlearn: 0.0193266\ttotal: 1.65s\tremaining: 698ms\n",
      "703:\tlearn: 0.0192701\ttotal: 1.65s\tremaining: 696ms\n",
      "704:\tlearn: 0.0192213\ttotal: 1.66s\tremaining: 693ms\n",
      "705:\tlearn: 0.0191932\ttotal: 1.66s\tremaining: 691ms\n",
      "706:\tlearn: 0.0191828\ttotal: 1.66s\tremaining: 689ms\n",
      "707:\tlearn: 0.0191220\ttotal: 1.66s\tremaining: 686ms\n",
      "708:\tlearn: 0.0191022\ttotal: 1.67s\tremaining: 683ms\n",
      "709:\tlearn: 0.0190583\ttotal: 1.67s\tremaining: 681ms\n",
      "710:\tlearn: 0.0190255\ttotal: 1.67s\tremaining: 679ms\n",
      "711:\tlearn: 0.0190015\ttotal: 1.67s\tremaining: 677ms\n",
      "712:\tlearn: 0.0189352\ttotal: 1.68s\tremaining: 674ms\n",
      "713:\tlearn: 0.0189198\ttotal: 1.68s\tremaining: 672ms\n",
      "714:\tlearn: 0.0188934\ttotal: 1.68s\tremaining: 670ms\n",
      "715:\tlearn: 0.0188830\ttotal: 1.68s\tremaining: 668ms\n",
      "716:\tlearn: 0.0188490\ttotal: 1.69s\tremaining: 665ms\n",
      "717:\tlearn: 0.0188267\ttotal: 1.69s\tremaining: 663ms\n",
      "718:\tlearn: 0.0187799\ttotal: 1.69s\tremaining: 661ms\n",
      "719:\tlearn: 0.0187184\ttotal: 1.69s\tremaining: 658ms\n",
      "720:\tlearn: 0.0186631\ttotal: 1.7s\tremaining: 656ms\n",
      "721:\tlearn: 0.0186483\ttotal: 1.7s\tremaining: 654ms\n",
      "722:\tlearn: 0.0186301\ttotal: 1.7s\tremaining: 651ms\n",
      "723:\tlearn: 0.0185984\ttotal: 1.7s\tremaining: 649ms\n",
      "724:\tlearn: 0.0185797\ttotal: 1.7s\tremaining: 646ms\n",
      "725:\tlearn: 0.0185684\ttotal: 1.71s\tremaining: 644ms\n",
      "726:\tlearn: 0.0185558\ttotal: 1.71s\tremaining: 641ms\n",
      "727:\tlearn: 0.0185268\ttotal: 1.71s\tremaining: 639ms\n",
      "728:\tlearn: 0.0184840\ttotal: 1.71s\tremaining: 637ms\n",
      "729:\tlearn: 0.0184637\ttotal: 1.71s\tremaining: 634ms\n",
      "730:\tlearn: 0.0184286\ttotal: 1.72s\tremaining: 632ms\n",
      "731:\tlearn: 0.0183751\ttotal: 1.72s\tremaining: 630ms\n",
      "732:\tlearn: 0.0183436\ttotal: 1.72s\tremaining: 627ms\n",
      "733:\tlearn: 0.0183084\ttotal: 1.72s\tremaining: 625ms\n",
      "734:\tlearn: 0.0182811\ttotal: 1.73s\tremaining: 622ms\n",
      "735:\tlearn: 0.0182653\ttotal: 1.73s\tremaining: 620ms\n",
      "736:\tlearn: 0.0182344\ttotal: 1.73s\tremaining: 618ms\n",
      "737:\tlearn: 0.0182136\ttotal: 1.73s\tremaining: 615ms\n",
      "738:\tlearn: 0.0181743\ttotal: 1.74s\tremaining: 613ms\n",
      "739:\tlearn: 0.0181587\ttotal: 1.74s\tremaining: 611ms\n",
      "740:\tlearn: 0.0181337\ttotal: 1.74s\tremaining: 608ms\n",
      "741:\tlearn: 0.0180742\ttotal: 1.74s\tremaining: 606ms\n",
      "742:\tlearn: 0.0180544\ttotal: 1.74s\tremaining: 603ms\n",
      "743:\tlearn: 0.0180339\ttotal: 1.75s\tremaining: 601ms\n",
      "744:\tlearn: 0.0180113\ttotal: 1.75s\tremaining: 598ms\n",
      "745:\tlearn: 0.0179925\ttotal: 1.75s\tremaining: 596ms\n",
      "746:\tlearn: 0.0179728\ttotal: 1.75s\tremaining: 594ms\n",
      "747:\tlearn: 0.0179329\ttotal: 1.75s\tremaining: 591ms\n",
      "748:\tlearn: 0.0178953\ttotal: 1.76s\tremaining: 589ms\n",
      "749:\tlearn: 0.0178745\ttotal: 1.76s\tremaining: 587ms\n",
      "750:\tlearn: 0.0178202\ttotal: 1.76s\tremaining: 584ms\n",
      "751:\tlearn: 0.0177924\ttotal: 1.76s\tremaining: 582ms\n",
      "752:\tlearn: 0.0177569\ttotal: 1.77s\tremaining: 580ms\n",
      "753:\tlearn: 0.0177241\ttotal: 1.77s\tremaining: 577ms\n",
      "754:\tlearn: 0.0176703\ttotal: 1.77s\tremaining: 575ms\n",
      "755:\tlearn: 0.0176292\ttotal: 1.77s\tremaining: 573ms\n",
      "756:\tlearn: 0.0175875\ttotal: 1.78s\tremaining: 570ms\n",
      "757:\tlearn: 0.0175567\ttotal: 1.78s\tremaining: 568ms\n",
      "758:\tlearn: 0.0175300\ttotal: 1.78s\tremaining: 565ms\n",
      "759:\tlearn: 0.0174989\ttotal: 1.78s\tremaining: 563ms\n",
      "760:\tlearn: 0.0174697\ttotal: 1.78s\tremaining: 561ms\n",
      "761:\tlearn: 0.0174357\ttotal: 1.79s\tremaining: 558ms\n",
      "762:\tlearn: 0.0173913\ttotal: 1.79s\tremaining: 556ms\n",
      "763:\tlearn: 0.0173698\ttotal: 1.79s\tremaining: 554ms\n",
      "764:\tlearn: 0.0173581\ttotal: 1.79s\tremaining: 551ms\n",
      "765:\tlearn: 0.0173205\ttotal: 1.8s\tremaining: 549ms\n",
      "766:\tlearn: 0.0172965\ttotal: 1.8s\tremaining: 547ms\n",
      "767:\tlearn: 0.0172566\ttotal: 1.8s\tremaining: 544ms\n",
      "768:\tlearn: 0.0172385\ttotal: 1.8s\tremaining: 542ms\n",
      "769:\tlearn: 0.0172277\ttotal: 1.81s\tremaining: 540ms\n",
      "770:\tlearn: 0.0172144\ttotal: 1.81s\tremaining: 537ms\n",
      "771:\tlearn: 0.0171892\ttotal: 1.81s\tremaining: 535ms\n",
      "772:\tlearn: 0.0171516\ttotal: 1.81s\tremaining: 533ms\n",
      "773:\tlearn: 0.0171363\ttotal: 1.81s\tremaining: 530ms\n",
      "774:\tlearn: 0.0171021\ttotal: 1.82s\tremaining: 528ms\n",
      "775:\tlearn: 0.0170560\ttotal: 1.82s\tremaining: 525ms\n",
      "776:\tlearn: 0.0170213\ttotal: 1.82s\tremaining: 523ms\n",
      "777:\tlearn: 0.0170075\ttotal: 1.82s\tremaining: 521ms\n",
      "778:\tlearn: 0.0169953\ttotal: 1.83s\tremaining: 518ms\n",
      "779:\tlearn: 0.0169663\ttotal: 1.83s\tremaining: 516ms\n",
      "780:\tlearn: 0.0169551\ttotal: 1.83s\tremaining: 513ms\n",
      "781:\tlearn: 0.0169270\ttotal: 1.83s\tremaining: 511ms\n",
      "782:\tlearn: 0.0169071\ttotal: 1.83s\tremaining: 508ms\n",
      "783:\tlearn: 0.0168840\ttotal: 1.84s\tremaining: 506ms\n",
      "784:\tlearn: 0.0168452\ttotal: 1.84s\tremaining: 504ms\n",
      "785:\tlearn: 0.0168274\ttotal: 1.84s\tremaining: 501ms\n",
      "786:\tlearn: 0.0168072\ttotal: 1.84s\tremaining: 499ms\n",
      "787:\tlearn: 0.0167803\ttotal: 1.84s\tremaining: 497ms\n",
      "788:\tlearn: 0.0167320\ttotal: 1.85s\tremaining: 494ms\n",
      "789:\tlearn: 0.0166890\ttotal: 1.85s\tremaining: 492ms\n",
      "790:\tlearn: 0.0166477\ttotal: 1.85s\tremaining: 490ms\n",
      "791:\tlearn: 0.0166178\ttotal: 1.85s\tremaining: 487ms\n",
      "792:\tlearn: 0.0166070\ttotal: 1.86s\tremaining: 485ms\n",
      "793:\tlearn: 0.0165751\ttotal: 1.86s\tremaining: 483ms\n",
      "794:\tlearn: 0.0165550\ttotal: 1.86s\tremaining: 481ms\n",
      "795:\tlearn: 0.0165260\ttotal: 1.86s\tremaining: 478ms\n",
      "796:\tlearn: 0.0164955\ttotal: 1.87s\tremaining: 476ms\n",
      "797:\tlearn: 0.0164601\ttotal: 1.87s\tremaining: 473ms\n",
      "798:\tlearn: 0.0164295\ttotal: 1.87s\tremaining: 471ms\n",
      "799:\tlearn: 0.0163843\ttotal: 1.87s\tremaining: 469ms\n",
      "800:\tlearn: 0.0163424\ttotal: 1.88s\tremaining: 466ms\n",
      "801:\tlearn: 0.0163153\ttotal: 1.88s\tremaining: 464ms\n",
      "802:\tlearn: 0.0162933\ttotal: 1.88s\tremaining: 462ms\n",
      "803:\tlearn: 0.0162762\ttotal: 1.88s\tremaining: 459ms\n",
      "804:\tlearn: 0.0162389\ttotal: 1.89s\tremaining: 457ms\n",
      "805:\tlearn: 0.0162140\ttotal: 1.89s\tremaining: 455ms\n",
      "806:\tlearn: 0.0161824\ttotal: 1.89s\tremaining: 452ms\n",
      "807:\tlearn: 0.0161417\ttotal: 1.89s\tremaining: 450ms\n",
      "808:\tlearn: 0.0161290\ttotal: 1.9s\tremaining: 448ms\n",
      "809:\tlearn: 0.0160841\ttotal: 1.9s\tremaining: 445ms\n",
      "810:\tlearn: 0.0160751\ttotal: 1.9s\tremaining: 443ms\n",
      "811:\tlearn: 0.0160370\ttotal: 1.9s\tremaining: 441ms\n",
      "812:\tlearn: 0.0159982\ttotal: 1.91s\tremaining: 438ms\n",
      "813:\tlearn: 0.0159709\ttotal: 1.91s\tremaining: 436ms\n",
      "814:\tlearn: 0.0159507\ttotal: 1.91s\tremaining: 433ms\n",
      "815:\tlearn: 0.0159377\ttotal: 1.91s\tremaining: 431ms\n",
      "816:\tlearn: 0.0159125\ttotal: 1.91s\tremaining: 429ms\n",
      "817:\tlearn: 0.0158997\ttotal: 1.91s\tremaining: 426ms\n",
      "818:\tlearn: 0.0158557\ttotal: 1.92s\tremaining: 424ms\n",
      "819:\tlearn: 0.0158275\ttotal: 1.92s\tremaining: 421ms\n",
      "820:\tlearn: 0.0157883\ttotal: 1.92s\tremaining: 419ms\n",
      "821:\tlearn: 0.0157743\ttotal: 1.92s\tremaining: 417ms\n",
      "822:\tlearn: 0.0157470\ttotal: 1.93s\tremaining: 414ms\n",
      "823:\tlearn: 0.0157176\ttotal: 1.93s\tremaining: 412ms\n",
      "824:\tlearn: 0.0156897\ttotal: 1.93s\tremaining: 410ms\n",
      "825:\tlearn: 0.0156659\ttotal: 1.93s\tremaining: 407ms\n",
      "826:\tlearn: 0.0156222\ttotal: 1.94s\tremaining: 405ms\n",
      "827:\tlearn: 0.0156094\ttotal: 1.94s\tremaining: 403ms\n",
      "828:\tlearn: 0.0155884\ttotal: 1.94s\tremaining: 400ms\n",
      "829:\tlearn: 0.0155486\ttotal: 1.94s\tremaining: 398ms\n",
      "830:\tlearn: 0.0155333\ttotal: 1.95s\tremaining: 396ms\n",
      "831:\tlearn: 0.0155125\ttotal: 1.95s\tremaining: 393ms\n",
      "832:\tlearn: 0.0154968\ttotal: 1.95s\tremaining: 391ms\n",
      "833:\tlearn: 0.0154639\ttotal: 1.95s\tremaining: 388ms\n",
      "834:\tlearn: 0.0154225\ttotal: 1.95s\tremaining: 386ms\n",
      "835:\tlearn: 0.0153971\ttotal: 1.96s\tremaining: 384ms\n",
      "836:\tlearn: 0.0153860\ttotal: 1.96s\tremaining: 381ms\n",
      "837:\tlearn: 0.0153577\ttotal: 1.96s\tremaining: 379ms\n",
      "838:\tlearn: 0.0153312\ttotal: 1.96s\tremaining: 377ms\n",
      "839:\tlearn: 0.0153179\ttotal: 1.96s\tremaining: 374ms\n",
      "840:\tlearn: 0.0153050\ttotal: 1.97s\tremaining: 372ms\n",
      "841:\tlearn: 0.0152779\ttotal: 1.97s\tremaining: 369ms\n",
      "842:\tlearn: 0.0152475\ttotal: 1.97s\tremaining: 367ms\n",
      "843:\tlearn: 0.0152332\ttotal: 1.97s\tremaining: 365ms\n",
      "844:\tlearn: 0.0152137\ttotal: 1.98s\tremaining: 363ms\n",
      "845:\tlearn: 0.0152029\ttotal: 1.98s\tremaining: 360ms\n",
      "846:\tlearn: 0.0151893\ttotal: 1.98s\tremaining: 358ms\n",
      "847:\tlearn: 0.0151724\ttotal: 1.98s\tremaining: 356ms\n",
      "848:\tlearn: 0.0151575\ttotal: 1.99s\tremaining: 353ms\n",
      "849:\tlearn: 0.0151390\ttotal: 1.99s\tremaining: 351ms\n",
      "850:\tlearn: 0.0151275\ttotal: 1.99s\tremaining: 349ms\n",
      "851:\tlearn: 0.0151165\ttotal: 1.99s\tremaining: 346ms\n",
      "852:\tlearn: 0.0151055\ttotal: 1.99s\tremaining: 344ms\n",
      "853:\tlearn: 0.0150815\ttotal: 2s\tremaining: 341ms\n",
      "854:\tlearn: 0.0150739\ttotal: 2s\tremaining: 339ms\n",
      "855:\tlearn: 0.0150456\ttotal: 2s\tremaining: 337ms\n",
      "856:\tlearn: 0.0150294\ttotal: 2s\tremaining: 334ms\n",
      "857:\tlearn: 0.0150158\ttotal: 2.01s\tremaining: 332ms\n",
      "858:\tlearn: 0.0150005\ttotal: 2.01s\tremaining: 330ms\n",
      "859:\tlearn: 0.0149743\ttotal: 2.01s\tremaining: 327ms\n",
      "860:\tlearn: 0.0149385\ttotal: 2.01s\tremaining: 325ms\n",
      "861:\tlearn: 0.0149304\ttotal: 2.02s\tremaining: 323ms\n",
      "862:\tlearn: 0.0149133\ttotal: 2.02s\tremaining: 320ms\n",
      "863:\tlearn: 0.0148823\ttotal: 2.02s\tremaining: 318ms\n",
      "864:\tlearn: 0.0148517\ttotal: 2.02s\tremaining: 316ms\n",
      "865:\tlearn: 0.0148391\ttotal: 2.02s\tremaining: 313ms\n",
      "866:\tlearn: 0.0148044\ttotal: 2.03s\tremaining: 311ms\n",
      "867:\tlearn: 0.0147781\ttotal: 2.03s\tremaining: 309ms\n",
      "868:\tlearn: 0.0147630\ttotal: 2.03s\tremaining: 306ms\n",
      "869:\tlearn: 0.0147426\ttotal: 2.03s\tremaining: 304ms\n",
      "870:\tlearn: 0.0147266\ttotal: 2.04s\tremaining: 302ms\n",
      "871:\tlearn: 0.0147091\ttotal: 2.04s\tremaining: 299ms\n",
      "872:\tlearn: 0.0147001\ttotal: 2.04s\tremaining: 297ms\n",
      "873:\tlearn: 0.0146592\ttotal: 2.04s\tremaining: 294ms\n",
      "874:\tlearn: 0.0146461\ttotal: 2.04s\tremaining: 292ms\n",
      "875:\tlearn: 0.0146328\ttotal: 2.05s\tremaining: 290ms\n",
      "876:\tlearn: 0.0146128\ttotal: 2.05s\tremaining: 288ms\n",
      "877:\tlearn: 0.0145760\ttotal: 2.05s\tremaining: 285ms\n",
      "878:\tlearn: 0.0145633\ttotal: 2.05s\tremaining: 283ms\n",
      "879:\tlearn: 0.0145509\ttotal: 2.05s\tremaining: 280ms\n",
      "880:\tlearn: 0.0145361\ttotal: 2.06s\tremaining: 278ms\n",
      "881:\tlearn: 0.0145244\ttotal: 2.06s\tremaining: 275ms\n",
      "882:\tlearn: 0.0145128\ttotal: 2.06s\tremaining: 273ms\n",
      "883:\tlearn: 0.0144980\ttotal: 2.06s\tremaining: 271ms\n",
      "884:\tlearn: 0.0144573\ttotal: 2.06s\tremaining: 268ms\n",
      "885:\tlearn: 0.0144334\ttotal: 2.07s\tremaining: 266ms\n",
      "886:\tlearn: 0.0144099\ttotal: 2.07s\tremaining: 264ms\n",
      "887:\tlearn: 0.0143745\ttotal: 2.07s\tremaining: 261ms\n",
      "888:\tlearn: 0.0143486\ttotal: 2.07s\tremaining: 259ms\n",
      "889:\tlearn: 0.0143342\ttotal: 2.08s\tremaining: 257ms\n",
      "890:\tlearn: 0.0143119\ttotal: 2.08s\tremaining: 254ms\n",
      "891:\tlearn: 0.0142900\ttotal: 2.08s\tremaining: 252ms\n",
      "892:\tlearn: 0.0142580\ttotal: 2.08s\tremaining: 250ms\n",
      "893:\tlearn: 0.0142417\ttotal: 2.08s\tremaining: 247ms\n",
      "894:\tlearn: 0.0142373\ttotal: 2.09s\tremaining: 245ms\n",
      "895:\tlearn: 0.0142320\ttotal: 2.09s\tremaining: 242ms\n",
      "896:\tlearn: 0.0142245\ttotal: 2.09s\tremaining: 240ms\n",
      "897:\tlearn: 0.0142169\ttotal: 2.09s\tremaining: 238ms\n",
      "898:\tlearn: 0.0141864\ttotal: 2.1s\tremaining: 236ms\n",
      "899:\tlearn: 0.0141744\ttotal: 2.1s\tremaining: 233ms\n",
      "900:\tlearn: 0.0141633\ttotal: 2.1s\tremaining: 231ms\n",
      "901:\tlearn: 0.0141282\ttotal: 2.1s\tremaining: 229ms\n",
      "902:\tlearn: 0.0141018\ttotal: 2.1s\tremaining: 226ms\n",
      "903:\tlearn: 0.0140893\ttotal: 2.11s\tremaining: 224ms\n",
      "904:\tlearn: 0.0140669\ttotal: 2.11s\tremaining: 221ms\n",
      "905:\tlearn: 0.0140419\ttotal: 2.11s\tremaining: 219ms\n",
      "906:\tlearn: 0.0140151\ttotal: 2.11s\tremaining: 217ms\n",
      "907:\tlearn: 0.0140058\ttotal: 2.12s\tremaining: 214ms\n",
      "908:\tlearn: 0.0139938\ttotal: 2.12s\tremaining: 212ms\n",
      "909:\tlearn: 0.0139819\ttotal: 2.12s\tremaining: 210ms\n",
      "910:\tlearn: 0.0139670\ttotal: 2.12s\tremaining: 207ms\n",
      "911:\tlearn: 0.0139441\ttotal: 2.13s\tremaining: 205ms\n",
      "912:\tlearn: 0.0139096\ttotal: 2.13s\tremaining: 203ms\n",
      "913:\tlearn: 0.0138784\ttotal: 2.13s\tremaining: 200ms\n",
      "914:\tlearn: 0.0138654\ttotal: 2.13s\tremaining: 198ms\n",
      "915:\tlearn: 0.0138565\ttotal: 2.13s\tremaining: 196ms\n",
      "916:\tlearn: 0.0138312\ttotal: 2.14s\tremaining: 193ms\n",
      "917:\tlearn: 0.0138019\ttotal: 2.14s\tremaining: 191ms\n",
      "918:\tlearn: 0.0137803\ttotal: 2.14s\tremaining: 189ms\n",
      "919:\tlearn: 0.0137671\ttotal: 2.14s\tremaining: 186ms\n",
      "920:\tlearn: 0.0137492\ttotal: 2.15s\tremaining: 184ms\n",
      "921:\tlearn: 0.0137371\ttotal: 2.15s\tremaining: 182ms\n",
      "922:\tlearn: 0.0137026\ttotal: 2.15s\tremaining: 179ms\n",
      "923:\tlearn: 0.0136732\ttotal: 2.15s\tremaining: 177ms\n",
      "924:\tlearn: 0.0136556\ttotal: 2.16s\tremaining: 175ms\n",
      "925:\tlearn: 0.0136298\ttotal: 2.16s\tremaining: 172ms\n",
      "926:\tlearn: 0.0136187\ttotal: 2.16s\tremaining: 170ms\n",
      "927:\tlearn: 0.0136061\ttotal: 2.16s\tremaining: 168ms\n",
      "928:\tlearn: 0.0135925\ttotal: 2.17s\tremaining: 166ms\n",
      "929:\tlearn: 0.0135736\ttotal: 2.17s\tremaining: 163ms\n",
      "930:\tlearn: 0.0135377\ttotal: 2.17s\tremaining: 161ms\n",
      "931:\tlearn: 0.0135127\ttotal: 2.17s\tremaining: 159ms\n",
      "932:\tlearn: 0.0135032\ttotal: 2.18s\tremaining: 156ms\n",
      "933:\tlearn: 0.0134981\ttotal: 2.18s\tremaining: 154ms\n",
      "934:\tlearn: 0.0134885\ttotal: 2.18s\tremaining: 152ms\n",
      "935:\tlearn: 0.0134771\ttotal: 2.18s\tremaining: 149ms\n",
      "936:\tlearn: 0.0134438\ttotal: 2.18s\tremaining: 147ms\n",
      "937:\tlearn: 0.0134295\ttotal: 2.19s\tremaining: 145ms\n",
      "938:\tlearn: 0.0134217\ttotal: 2.19s\tremaining: 142ms\n",
      "939:\tlearn: 0.0134155\ttotal: 2.19s\tremaining: 140ms\n",
      "940:\tlearn: 0.0133945\ttotal: 2.19s\tremaining: 138ms\n",
      "941:\tlearn: 0.0133653\ttotal: 2.2s\tremaining: 135ms\n",
      "942:\tlearn: 0.0133536\ttotal: 2.2s\tremaining: 133ms\n",
      "943:\tlearn: 0.0133329\ttotal: 2.2s\tremaining: 131ms\n",
      "944:\tlearn: 0.0133053\ttotal: 2.2s\tremaining: 128ms\n",
      "945:\tlearn: 0.0132934\ttotal: 2.21s\tremaining: 126ms\n",
      "946:\tlearn: 0.0132794\ttotal: 2.21s\tremaining: 124ms\n",
      "947:\tlearn: 0.0132537\ttotal: 2.21s\tremaining: 121ms\n",
      "948:\tlearn: 0.0132215\ttotal: 2.21s\tremaining: 119ms\n",
      "949:\tlearn: 0.0131990\ttotal: 2.21s\tremaining: 117ms\n",
      "950:\tlearn: 0.0131818\ttotal: 2.22s\tremaining: 114ms\n",
      "951:\tlearn: 0.0131719\ttotal: 2.22s\tremaining: 112ms\n",
      "952:\tlearn: 0.0131457\ttotal: 2.22s\tremaining: 110ms\n",
      "953:\tlearn: 0.0131377\ttotal: 2.22s\tremaining: 107ms\n",
      "954:\tlearn: 0.0131144\ttotal: 2.23s\tremaining: 105ms\n",
      "955:\tlearn: 0.0130951\ttotal: 2.23s\tremaining: 103ms\n",
      "956:\tlearn: 0.0130768\ttotal: 2.23s\tremaining: 100ms\n",
      "957:\tlearn: 0.0130611\ttotal: 2.23s\tremaining: 97.9ms\n",
      "958:\tlearn: 0.0130482\ttotal: 2.23s\tremaining: 95.5ms\n",
      "959:\tlearn: 0.0130353\ttotal: 2.24s\tremaining: 93.2ms\n",
      "960:\tlearn: 0.0130198\ttotal: 2.24s\tremaining: 90.9ms\n",
      "961:\tlearn: 0.0130143\ttotal: 2.24s\tremaining: 88.6ms\n",
      "962:\tlearn: 0.0129998\ttotal: 2.25s\tremaining: 86.3ms\n",
      "963:\tlearn: 0.0129778\ttotal: 2.25s\tremaining: 84ms\n",
      "964:\tlearn: 0.0129649\ttotal: 2.25s\tremaining: 81.6ms\n",
      "965:\tlearn: 0.0129463\ttotal: 2.25s\tremaining: 79.3ms\n",
      "966:\tlearn: 0.0129164\ttotal: 2.25s\tremaining: 77ms\n",
      "967:\tlearn: 0.0129077\ttotal: 2.26s\tremaining: 74.6ms\n",
      "968:\tlearn: 0.0128919\ttotal: 2.26s\tremaining: 72.3ms\n",
      "969:\tlearn: 0.0128805\ttotal: 2.26s\tremaining: 70ms\n",
      "970:\tlearn: 0.0128733\ttotal: 2.26s\tremaining: 67.6ms\n",
      "971:\tlearn: 0.0128485\ttotal: 2.27s\tremaining: 65.3ms\n",
      "972:\tlearn: 0.0128234\ttotal: 2.27s\tremaining: 63ms\n",
      "973:\tlearn: 0.0127934\ttotal: 2.27s\tremaining: 60.6ms\n",
      "974:\tlearn: 0.0127788\ttotal: 2.27s\tremaining: 58.3ms\n",
      "975:\tlearn: 0.0127612\ttotal: 2.27s\tremaining: 56ms\n",
      "976:\tlearn: 0.0127339\ttotal: 2.28s\tremaining: 53.6ms\n",
      "977:\tlearn: 0.0127077\ttotal: 2.28s\tremaining: 51.3ms\n",
      "978:\tlearn: 0.0126966\ttotal: 2.28s\tremaining: 49ms\n",
      "979:\tlearn: 0.0126750\ttotal: 2.28s\tremaining: 46.6ms\n",
      "980:\tlearn: 0.0126673\ttotal: 2.29s\tremaining: 44.3ms\n",
      "981:\tlearn: 0.0126411\ttotal: 2.29s\tremaining: 42ms\n",
      "982:\tlearn: 0.0126190\ttotal: 2.29s\tremaining: 39.6ms\n",
      "983:\tlearn: 0.0126106\ttotal: 2.29s\tremaining: 37.3ms\n",
      "984:\tlearn: 0.0126034\ttotal: 2.29s\tremaining: 35ms\n",
      "985:\tlearn: 0.0125774\ttotal: 2.3s\tremaining: 32.6ms\n",
      "986:\tlearn: 0.0125680\ttotal: 2.3s\tremaining: 30.3ms\n",
      "987:\tlearn: 0.0125625\ttotal: 2.3s\tremaining: 28ms\n",
      "988:\tlearn: 0.0125333\ttotal: 2.31s\tremaining: 25.7ms\n",
      "989:\tlearn: 0.0125220\ttotal: 2.31s\tremaining: 23.3ms\n",
      "990:\tlearn: 0.0124963\ttotal: 2.31s\tremaining: 21ms\n",
      "991:\tlearn: 0.0124828\ttotal: 2.32s\tremaining: 18.7ms\n",
      "992:\tlearn: 0.0124615\ttotal: 2.32s\tremaining: 16.4ms\n",
      "993:\tlearn: 0.0124399\ttotal: 2.33s\tremaining: 14ms\n",
      "994:\tlearn: 0.0124138\ttotal: 2.33s\tremaining: 11.7ms\n",
      "995:\tlearn: 0.0124055\ttotal: 2.33s\tremaining: 9.36ms\n",
      "996:\tlearn: 0.0123840\ttotal: 2.33s\tremaining: 7.02ms\n",
      "997:\tlearn: 0.0123664\ttotal: 2.34s\tremaining: 4.68ms\n",
      "998:\tlearn: 0.0123626\ttotal: 2.34s\tremaining: 2.34ms\n",
      "999:\tlearn: 0.0123531\ttotal: 2.34s\tremaining: 0us\n",
      "The accuracy of the CatBoostClassifier model is 0.9777777777777777\n"
     ]
    },
    {
     "data": {
      "text/plain": [
       "array([[15,  0,  0],\n",
       "       [ 0, 14,  0],\n",
       "       [ 0,  1, 15]])"
      ]
     },
     "execution_count": 29,
     "metadata": {},
     "output_type": "execute_result"
    }
   ],
   "source": [
    "CBC=CatBoostClassifier()\n",
    "CBC.fit(X_train,y_train)\n",
    "CBC_prediction=CBC.predict(X_test)\n",
    "print('The accuracy of the CatBoostClassifier model is',accuracy_score(CBC_prediction,y_test))\n",
    "confusion_matrix(CBC_prediction,y_test)"
   ]
  },
  {
   "cell_type": "markdown",
   "metadata": {},
   "source": [
    "Let's try to build a Deep Learning Model with Keras"
   ]
  },
  {
   "cell_type": "code",
   "execution_count": 30,
   "metadata": {},
   "outputs": [],
   "source": [
    "from sklearn.preprocessing import StandardScaler, LabelBinarizer\n",
    "X = data[['SepalLengthCm', 'SepalWidthCm', 'PetalLengthCm', 'PetalWidthCm']]\n",
    "y = data['Species']\n",
    "\n",
    "X = StandardScaler().fit_transform(X)\n",
    "y = LabelBinarizer().fit_transform(y)"
   ]
  },
  {
   "cell_type": "code",
   "execution_count": 31,
   "metadata": {},
   "outputs": [],
   "source": [
    "x_train, x_test, y_train, y_test = train_test_split(X, y, test_size = 0.3, random_state = 101)"
   ]
  },
  {
   "cell_type": "code",
   "execution_count": 32,
   "metadata": {},
   "outputs": [],
   "source": [
    "model = Sequential()\n",
    "model.add(Dense( 4, input_dim=4, activation = 'relu'))\n",
    "model.add(Dense( units = 10, activation= 'relu'))\n",
    "model.add(Dense( units = 3, activation= 'softmax'))\n",
    "model.compile(loss = 'binary_crossentropy', optimizer = 'adam', metrics = ['accuracy'])"
   ]
  },
  {
   "cell_type": "code",
   "execution_count": 33,
   "metadata": {},
   "outputs": [
    {
     "name": "stdout",
     "output_type": "stream",
     "text": [
      "Train on 105 samples, validate on 45 samples\n",
      "Epoch 1/150\n",
      "105/105 [==============================] - 0s 4ms/step - loss: 0.7218 - acc: 0.5746 - val_loss: 0.6946 - val_acc: 0.6000\n",
      "Epoch 2/150\n",
      "105/105 [==============================] - 0s 93us/step - loss: 0.7091 - acc: 0.5810 - val_loss: 0.6851 - val_acc: 0.6074\n",
      "Epoch 3/150\n",
      "105/105 [==============================] - 0s 94us/step - loss: 0.6975 - acc: 0.5873 - val_loss: 0.6761 - val_acc: 0.6148\n",
      "Epoch 4/150\n",
      "105/105 [==============================] - 0s 85us/step - loss: 0.6858 - acc: 0.5905 - val_loss: 0.6673 - val_acc: 0.6148\n",
      "Epoch 5/150\n",
      "105/105 [==============================] - 0s 79us/step - loss: 0.6742 - acc: 0.5905 - val_loss: 0.6591 - val_acc: 0.6296\n",
      "Epoch 6/150\n",
      "105/105 [==============================] - 0s 77us/step - loss: 0.6642 - acc: 0.5905 - val_loss: 0.6513 - val_acc: 0.6370\n",
      "Epoch 7/150\n",
      "105/105 [==============================] - 0s 78us/step - loss: 0.6546 - acc: 0.6032 - val_loss: 0.6437 - val_acc: 0.6444\n",
      "Epoch 8/150\n",
      "105/105 [==============================] - 0s 79us/step - loss: 0.6449 - acc: 0.6063 - val_loss: 0.6365 - val_acc: 0.6519\n",
      "Epoch 9/150\n",
      "105/105 [==============================] - 0s 98us/step - loss: 0.6356 - acc: 0.6190 - val_loss: 0.6296 - val_acc: 0.6593\n",
      "Epoch 10/150\n",
      "105/105 [==============================] - 0s 75us/step - loss: 0.6266 - acc: 0.6317 - val_loss: 0.6229 - val_acc: 0.6667\n",
      "Epoch 11/150\n",
      "105/105 [==============================] - 0s 79us/step - loss: 0.6178 - acc: 0.6349 - val_loss: 0.6165 - val_acc: 0.6667\n",
      "Epoch 12/150\n",
      "105/105 [==============================] - 0s 77us/step - loss: 0.6094 - acc: 0.6444 - val_loss: 0.6102 - val_acc: 0.6667\n",
      "Epoch 13/150\n",
      "105/105 [==============================] - 0s 85us/step - loss: 0.6011 - acc: 0.6508 - val_loss: 0.6041 - val_acc: 0.6741\n",
      "Epoch 14/150\n",
      "105/105 [==============================] - 0s 76us/step - loss: 0.5928 - acc: 0.6603 - val_loss: 0.5982 - val_acc: 0.6741\n",
      "Epoch 15/150\n",
      "105/105 [==============================] - 0s 82us/step - loss: 0.5849 - acc: 0.6667 - val_loss: 0.5924 - val_acc: 0.6815\n",
      "Epoch 16/150\n",
      "105/105 [==============================] - 0s 75us/step - loss: 0.5769 - acc: 0.6762 - val_loss: 0.5868 - val_acc: 0.6889\n",
      "Epoch 17/150\n",
      "105/105 [==============================] - 0s 72us/step - loss: 0.5692 - acc: 0.6794 - val_loss: 0.5812 - val_acc: 0.6889\n",
      "Epoch 18/150\n",
      "105/105 [==============================] - 0s 75us/step - loss: 0.5614 - acc: 0.6825 - val_loss: 0.5754 - val_acc: 0.6889\n",
      "Epoch 19/150\n",
      "105/105 [==============================] - 0s 75us/step - loss: 0.5539 - acc: 0.6921 - val_loss: 0.5697 - val_acc: 0.6889\n",
      "Epoch 20/150\n",
      "105/105 [==============================] - 0s 73us/step - loss: 0.5460 - acc: 0.7048 - val_loss: 0.5640 - val_acc: 0.6963\n",
      "Epoch 21/150\n",
      "105/105 [==============================] - 0s 73us/step - loss: 0.5381 - acc: 0.7206 - val_loss: 0.5584 - val_acc: 0.6963\n",
      "Epoch 22/150\n",
      "105/105 [==============================] - 0s 77us/step - loss: 0.5304 - acc: 0.7270 - val_loss: 0.5528 - val_acc: 0.7111\n",
      "Epoch 23/150\n",
      "105/105 [==============================] - 0s 81us/step - loss: 0.5225 - acc: 0.7333 - val_loss: 0.5470 - val_acc: 0.7185\n",
      "Epoch 24/150\n",
      "105/105 [==============================] - 0s 78us/step - loss: 0.5147 - acc: 0.7492 - val_loss: 0.5413 - val_acc: 0.7333\n",
      "Epoch 25/150\n",
      "105/105 [==============================] - 0s 75us/step - loss: 0.5070 - acc: 0.7587 - val_loss: 0.5353 - val_acc: 0.7333\n",
      "Epoch 26/150\n",
      "105/105 [==============================] - 0s 97us/step - loss: 0.4991 - acc: 0.7810 - val_loss: 0.5294 - val_acc: 0.7259\n",
      "Epoch 27/150\n",
      "105/105 [==============================] - 0s 74us/step - loss: 0.4912 - acc: 0.8000 - val_loss: 0.5235 - val_acc: 0.7333\n",
      "Epoch 28/150\n",
      "105/105 [==============================] - 0s 76us/step - loss: 0.4832 - acc: 0.8127 - val_loss: 0.5174 - val_acc: 0.7333\n",
      "Epoch 29/150\n",
      "105/105 [==============================] - 0s 76us/step - loss: 0.4752 - acc: 0.8190 - val_loss: 0.5112 - val_acc: 0.7481\n",
      "Epoch 30/150\n",
      "105/105 [==============================] - 0s 73us/step - loss: 0.4672 - acc: 0.8222 - val_loss: 0.5052 - val_acc: 0.7704\n",
      "Epoch 31/150\n",
      "105/105 [==============================] - 0s 73us/step - loss: 0.4594 - acc: 0.8317 - val_loss: 0.4992 - val_acc: 0.7778\n",
      "Epoch 32/150\n",
      "105/105 [==============================] - 0s 70us/step - loss: 0.4516 - acc: 0.8349 - val_loss: 0.4932 - val_acc: 0.7778\n",
      "Epoch 33/150\n",
      "105/105 [==============================] - 0s 73us/step - loss: 0.4438 - acc: 0.8444 - val_loss: 0.4872 - val_acc: 0.7852\n",
      "Epoch 34/150\n",
      "105/105 [==============================] - 0s 73us/step - loss: 0.4362 - acc: 0.8540 - val_loss: 0.4811 - val_acc: 0.7852\n",
      "Epoch 35/150\n",
      "105/105 [==============================] - 0s 76us/step - loss: 0.4286 - acc: 0.8571 - val_loss: 0.4751 - val_acc: 0.7852\n",
      "Epoch 36/150\n",
      "105/105 [==============================] - 0s 83us/step - loss: 0.4212 - acc: 0.8540 - val_loss: 0.4691 - val_acc: 0.7852\n",
      "Epoch 37/150\n",
      "105/105 [==============================] - 0s 78us/step - loss: 0.4140 - acc: 0.8571 - val_loss: 0.4634 - val_acc: 0.7852\n",
      "Epoch 38/150\n",
      "105/105 [==============================] - 0s 74us/step - loss: 0.4066 - acc: 0.8571 - val_loss: 0.4579 - val_acc: 0.7852\n",
      "Epoch 39/150\n",
      "105/105 [==============================] - 0s 76us/step - loss: 0.3996 - acc: 0.8540 - val_loss: 0.4526 - val_acc: 0.7852\n",
      "Epoch 40/150\n",
      "105/105 [==============================] - 0s 76us/step - loss: 0.3928 - acc: 0.8508 - val_loss: 0.4471 - val_acc: 0.7852\n",
      "Epoch 41/150\n",
      "105/105 [==============================] - 0s 81us/step - loss: 0.3863 - acc: 0.8540 - val_loss: 0.4417 - val_acc: 0.7852\n",
      "Epoch 42/150\n",
      "105/105 [==============================] - 0s 76us/step - loss: 0.3799 - acc: 0.8540 - val_loss: 0.4364 - val_acc: 0.7852\n",
      "Epoch 43/150\n",
      "105/105 [==============================] - 0s 71us/step - loss: 0.3737 - acc: 0.8508 - val_loss: 0.4313 - val_acc: 0.7852\n",
      "Epoch 44/150\n",
      "105/105 [==============================] - 0s 78us/step - loss: 0.3677 - acc: 0.8508 - val_loss: 0.4262 - val_acc: 0.7852\n",
      "Epoch 45/150\n",
      "105/105 [==============================] - 0s 69us/step - loss: 0.3622 - acc: 0.8508 - val_loss: 0.4213 - val_acc: 0.7852\n",
      "Epoch 46/150\n",
      "105/105 [==============================] - 0s 72us/step - loss: 0.3568 - acc: 0.8508 - val_loss: 0.4165 - val_acc: 0.7852\n",
      "Epoch 47/150\n",
      "105/105 [==============================] - 0s 72us/step - loss: 0.3516 - acc: 0.8508 - val_loss: 0.4119 - val_acc: 0.7852\n",
      "Epoch 48/150\n",
      "105/105 [==============================] - 0s 71us/step - loss: 0.3466 - acc: 0.8508 - val_loss: 0.4076 - val_acc: 0.7926\n",
      "Epoch 49/150\n",
      "105/105 [==============================] - 0s 75us/step - loss: 0.3416 - acc: 0.8508 - val_loss: 0.4036 - val_acc: 0.7926\n",
      "Epoch 50/150\n",
      "105/105 [==============================] - 0s 76us/step - loss: 0.3370 - acc: 0.8508 - val_loss: 0.3997 - val_acc: 0.8000\n",
      "Epoch 51/150\n",
      "105/105 [==============================] - 0s 79us/step - loss: 0.3326 - acc: 0.8508 - val_loss: 0.3962 - val_acc: 0.8074\n",
      "Epoch 52/150\n",
      "105/105 [==============================] - 0s 77us/step - loss: 0.3281 - acc: 0.8508 - val_loss: 0.3927 - val_acc: 0.8074\n",
      "Epoch 53/150\n",
      "105/105 [==============================] - 0s 74us/step - loss: 0.3240 - acc: 0.8508 - val_loss: 0.3893 - val_acc: 0.8000\n",
      "Epoch 54/150\n",
      "105/105 [==============================] - 0s 78us/step - loss: 0.3200 - acc: 0.8540 - val_loss: 0.3860 - val_acc: 0.8074\n",
      "Epoch 55/150\n",
      "105/105 [==============================] - 0s 74us/step - loss: 0.3160 - acc: 0.8571 - val_loss: 0.3828 - val_acc: 0.8074\n",
      "Epoch 56/150\n",
      "105/105 [==============================] - 0s 71us/step - loss: 0.3123 - acc: 0.8571 - val_loss: 0.3796 - val_acc: 0.8074\n",
      "Epoch 57/150\n",
      "105/105 [==============================] - 0s 79us/step - loss: 0.3087 - acc: 0.8571 - val_loss: 0.3766 - val_acc: 0.8074\n",
      "Epoch 58/150\n",
      "105/105 [==============================] - 0s 78us/step - loss: 0.3052 - acc: 0.8571 - val_loss: 0.3737 - val_acc: 0.8074\n",
      "Epoch 59/150\n",
      "105/105 [==============================] - 0s 75us/step - loss: 0.3019 - acc: 0.8603 - val_loss: 0.3711 - val_acc: 0.8074\n",
      "Epoch 60/150\n",
      "105/105 [==============================] - 0s 75us/step - loss: 0.2989 - acc: 0.8571 - val_loss: 0.3685 - val_acc: 0.8074\n",
      "Epoch 61/150\n",
      "105/105 [==============================] - 0s 80us/step - loss: 0.2958 - acc: 0.8571 - val_loss: 0.3659 - val_acc: 0.8074\n",
      "Epoch 62/150\n",
      "105/105 [==============================] - 0s 73us/step - loss: 0.2928 - acc: 0.8540 - val_loss: 0.3635 - val_acc: 0.8074\n",
      "Epoch 63/150\n",
      "105/105 [==============================] - 0s 75us/step - loss: 0.2900 - acc: 0.8540 - val_loss: 0.3610 - val_acc: 0.8074\n",
      "Epoch 64/150\n",
      "105/105 [==============================] - 0s 69us/step - loss: 0.2874 - acc: 0.8540 - val_loss: 0.3584 - val_acc: 0.8074\n",
      "Epoch 65/150\n",
      "105/105 [==============================] - 0s 73us/step - loss: 0.2847 - acc: 0.8540 - val_loss: 0.3558 - val_acc: 0.8074\n",
      "Epoch 66/150\n",
      "105/105 [==============================] - 0s 76us/step - loss: 0.2821 - acc: 0.8508 - val_loss: 0.3534 - val_acc: 0.8074\n",
      "Epoch 67/150\n",
      "105/105 [==============================] - 0s 75us/step - loss: 0.2797 - acc: 0.8508 - val_loss: 0.3512 - val_acc: 0.8148\n",
      "Epoch 68/150\n",
      "105/105 [==============================] - 0s 78us/step - loss: 0.2773 - acc: 0.8508 - val_loss: 0.3491 - val_acc: 0.8148\n",
      "Epoch 69/150\n",
      "105/105 [==============================] - 0s 71us/step - loss: 0.2751 - acc: 0.8508 - val_loss: 0.3467 - val_acc: 0.8148\n",
      "Epoch 70/150\n",
      "105/105 [==============================] - 0s 71us/step - loss: 0.2728 - acc: 0.8508 - val_loss: 0.3439 - val_acc: 0.8148\n",
      "Epoch 71/150\n",
      "105/105 [==============================] - 0s 76us/step - loss: 0.2704 - acc: 0.8508 - val_loss: 0.3410 - val_acc: 0.8148\n",
      "Epoch 72/150\n",
      "105/105 [==============================] - 0s 75us/step - loss: 0.2682 - acc: 0.8540 - val_loss: 0.3381 - val_acc: 0.8148\n",
      "Epoch 73/150\n",
      "105/105 [==============================] - 0s 75us/step - loss: 0.2663 - acc: 0.8540 - val_loss: 0.3353 - val_acc: 0.8148\n",
      "Epoch 74/150\n",
      "105/105 [==============================] - 0s 82us/step - loss: 0.2641 - acc: 0.8603 - val_loss: 0.3328 - val_acc: 0.8148\n",
      "Epoch 75/150\n",
      "105/105 [==============================] - 0s 74us/step - loss: 0.2621 - acc: 0.8603 - val_loss: 0.3307 - val_acc: 0.8222\n",
      "Epoch 76/150\n",
      "105/105 [==============================] - 0s 75us/step - loss: 0.2602 - acc: 0.8698 - val_loss: 0.3284 - val_acc: 0.8222\n",
      "Epoch 77/150\n",
      "105/105 [==============================] - 0s 73us/step - loss: 0.2582 - acc: 0.8698 - val_loss: 0.3265 - val_acc: 0.8222\n",
      "Epoch 78/150\n",
      "105/105 [==============================] - 0s 74us/step - loss: 0.2563 - acc: 0.8698 - val_loss: 0.3245 - val_acc: 0.8296\n",
      "Epoch 79/150\n",
      "105/105 [==============================] - 0s 71us/step - loss: 0.2544 - acc: 0.8698 - val_loss: 0.3226 - val_acc: 0.8370\n",
      "Epoch 80/150\n",
      "105/105 [==============================] - 0s 74us/step - loss: 0.2527 - acc: 0.8730 - val_loss: 0.3206 - val_acc: 0.8444\n",
      "Epoch 81/150\n",
      "105/105 [==============================] - 0s 69us/step - loss: 0.2509 - acc: 0.8762 - val_loss: 0.3188 - val_acc: 0.8667\n",
      "Epoch 82/150\n",
      "105/105 [==============================] - 0s 73us/step - loss: 0.2492 - acc: 0.8794 - val_loss: 0.3168 - val_acc: 0.8815\n",
      "Epoch 83/150\n",
      "105/105 [==============================] - 0s 69us/step - loss: 0.2475 - acc: 0.8825 - val_loss: 0.3150 - val_acc: 0.8815\n",
      "Epoch 84/150\n",
      "105/105 [==============================] - 0s 70us/step - loss: 0.2458 - acc: 0.8825 - val_loss: 0.3129 - val_acc: 0.8815\n",
      "Epoch 85/150\n",
      "105/105 [==============================] - 0s 75us/step - loss: 0.2441 - acc: 0.8857 - val_loss: 0.3109 - val_acc: 0.8815\n",
      "Epoch 86/150\n",
      "105/105 [==============================] - 0s 79us/step - loss: 0.2425 - acc: 0.8857 - val_loss: 0.3089 - val_acc: 0.8815\n",
      "Epoch 87/150\n",
      "105/105 [==============================] - 0s 74us/step - loss: 0.2409 - acc: 0.8889 - val_loss: 0.3070 - val_acc: 0.8889\n",
      "Epoch 88/150\n",
      "105/105 [==============================] - 0s 72us/step - loss: 0.2394 - acc: 0.8921 - val_loss: 0.3054 - val_acc: 0.8889\n",
      "Epoch 89/150\n",
      "105/105 [==============================] - 0s 71us/step - loss: 0.2379 - acc: 0.8889 - val_loss: 0.3040 - val_acc: 0.8963\n",
      "Epoch 90/150\n",
      "105/105 [==============================] - 0s 78us/step - loss: 0.2365 - acc: 0.8889 - val_loss: 0.3026 - val_acc: 0.8963\n",
      "Epoch 91/150\n",
      "105/105 [==============================] - 0s 72us/step - loss: 0.2352 - acc: 0.8857 - val_loss: 0.3009 - val_acc: 0.8963\n",
      "Epoch 92/150\n",
      "105/105 [==============================] - 0s 71us/step - loss: 0.2338 - acc: 0.8921 - val_loss: 0.2989 - val_acc: 0.9037\n",
      "Epoch 93/150\n",
      "105/105 [==============================] - 0s 73us/step - loss: 0.2325 - acc: 0.8921 - val_loss: 0.2967 - val_acc: 0.9037\n",
      "Epoch 94/150\n",
      "105/105 [==============================] - 0s 77us/step - loss: 0.2312 - acc: 0.8952 - val_loss: 0.2949 - val_acc: 0.9037\n",
      "Epoch 95/150\n",
      "105/105 [==============================] - 0s 78us/step - loss: 0.2297 - acc: 0.8952 - val_loss: 0.2933 - val_acc: 0.9111\n",
      "Epoch 96/150\n",
      "105/105 [==============================] - 0s 76us/step - loss: 0.2284 - acc: 0.8952 - val_loss: 0.2918 - val_acc: 0.9111\n",
      "Epoch 97/150\n",
      "105/105 [==============================] - 0s 111us/step - loss: 0.2271 - acc: 0.8952 - val_loss: 0.2902 - val_acc: 0.9111\n",
      "Epoch 98/150\n",
      "105/105 [==============================] - 0s 114us/step - loss: 0.2258 - acc: 0.8952 - val_loss: 0.2884 - val_acc: 0.9111\n",
      "Epoch 99/150\n",
      "105/105 [==============================] - 0s 84us/step - loss: 0.2245 - acc: 0.8952 - val_loss: 0.2866 - val_acc: 0.9111\n",
      "Epoch 100/150\n",
      "105/105 [==============================] - 0s 77us/step - loss: 0.2233 - acc: 0.8952 - val_loss: 0.2848 - val_acc: 0.9111\n",
      "Epoch 101/150\n",
      "105/105 [==============================] - 0s 74us/step - loss: 0.2220 - acc: 0.8952 - val_loss: 0.2829 - val_acc: 0.9185\n",
      "Epoch 102/150\n",
      "105/105 [==============================] - 0s 86us/step - loss: 0.2208 - acc: 0.8952 - val_loss: 0.2815 - val_acc: 0.9185\n",
      "Epoch 103/150\n",
      "105/105 [==============================] - 0s 82us/step - loss: 0.2195 - acc: 0.8952 - val_loss: 0.2804 - val_acc: 0.9185\n",
      "Epoch 104/150\n",
      "105/105 [==============================] - 0s 75us/step - loss: 0.2184 - acc: 0.8952 - val_loss: 0.2794 - val_acc: 0.9259\n",
      "Epoch 105/150\n",
      "105/105 [==============================] - 0s 79us/step - loss: 0.2173 - acc: 0.8952 - val_loss: 0.2782 - val_acc: 0.9259\n",
      "Epoch 106/150\n",
      "105/105 [==============================] - 0s 78us/step - loss: 0.2161 - acc: 0.8984 - val_loss: 0.2767 - val_acc: 0.9259\n",
      "Epoch 107/150\n",
      "105/105 [==============================] - 0s 76us/step - loss: 0.2149 - acc: 0.8984 - val_loss: 0.2752 - val_acc: 0.9259\n",
      "Epoch 108/150\n",
      "105/105 [==============================] - 0s 69us/step - loss: 0.2138 - acc: 0.8984 - val_loss: 0.2736 - val_acc: 0.9259\n",
      "Epoch 109/150\n",
      "105/105 [==============================] - 0s 75us/step - loss: 0.2126 - acc: 0.8952 - val_loss: 0.2719 - val_acc: 0.9333\n",
      "Epoch 110/150\n",
      "105/105 [==============================] - 0s 80us/step - loss: 0.2115 - acc: 0.8984 - val_loss: 0.2699 - val_acc: 0.9259\n",
      "Epoch 111/150\n",
      "105/105 [==============================] - 0s 102us/step - loss: 0.2103 - acc: 0.9016 - val_loss: 0.2678 - val_acc: 0.9259\n",
      "Epoch 112/150\n",
      "105/105 [==============================] - 0s 94us/step - loss: 0.2092 - acc: 0.9016 - val_loss: 0.2659 - val_acc: 0.9259\n",
      "Epoch 113/150\n",
      "105/105 [==============================] - 0s 88us/step - loss: 0.2080 - acc: 0.9016 - val_loss: 0.2642 - val_acc: 0.9259\n",
      "Epoch 114/150\n",
      "105/105 [==============================] - 0s 90us/step - loss: 0.2069 - acc: 0.9016 - val_loss: 0.2624 - val_acc: 0.9259\n",
      "Epoch 115/150\n",
      "105/105 [==============================] - 0s 76us/step - loss: 0.2057 - acc: 0.9016 - val_loss: 0.2609 - val_acc: 0.9333\n",
      "Epoch 116/150\n",
      "105/105 [==============================] - 0s 84us/step - loss: 0.2047 - acc: 0.9048 - val_loss: 0.2592 - val_acc: 0.9333\n",
      "Epoch 117/150\n",
      "105/105 [==============================] - 0s 82us/step - loss: 0.2035 - acc: 0.9048 - val_loss: 0.2577 - val_acc: 0.9333\n",
      "Epoch 118/150\n",
      "105/105 [==============================] - 0s 95us/step - loss: 0.2024 - acc: 0.9048 - val_loss: 0.2558 - val_acc: 0.9333\n",
      "Epoch 119/150\n",
      "105/105 [==============================] - 0s 87us/step - loss: 0.2013 - acc: 0.9079 - val_loss: 0.2537 - val_acc: 0.9333\n",
      "Epoch 120/150\n",
      "105/105 [==============================] - 0s 85us/step - loss: 0.2003 - acc: 0.9079 - val_loss: 0.2521 - val_acc: 0.9333\n",
      "Epoch 121/150\n",
      "105/105 [==============================] - 0s 78us/step - loss: 0.1992 - acc: 0.9079 - val_loss: 0.2506 - val_acc: 0.9333\n",
      "Epoch 122/150\n",
      "105/105 [==============================] - 0s 85us/step - loss: 0.1980 - acc: 0.9079 - val_loss: 0.2490 - val_acc: 0.9333\n",
      "Epoch 123/150\n",
      "105/105 [==============================] - 0s 78us/step - loss: 0.1971 - acc: 0.9079 - val_loss: 0.2471 - val_acc: 0.9333\n",
      "Epoch 124/150\n",
      "105/105 [==============================] - 0s 78us/step - loss: 0.1960 - acc: 0.9143 - val_loss: 0.2457 - val_acc: 0.9333\n",
      "Epoch 125/150\n",
      "105/105 [==============================] - 0s 76us/step - loss: 0.1950 - acc: 0.9143 - val_loss: 0.2447 - val_acc: 0.9333\n",
      "Epoch 126/150\n",
      "105/105 [==============================] - 0s 73us/step - loss: 0.1939 - acc: 0.9079 - val_loss: 0.2433 - val_acc: 0.9333\n",
      "Epoch 127/150\n",
      "105/105 [==============================] - 0s 73us/step - loss: 0.1929 - acc: 0.9111 - val_loss: 0.2422 - val_acc: 0.9333\n",
      "Epoch 128/150\n",
      "105/105 [==============================] - 0s 74us/step - loss: 0.1919 - acc: 0.9111 - val_loss: 0.2408 - val_acc: 0.9333\n",
      "Epoch 129/150\n",
      "105/105 [==============================] - 0s 76us/step - loss: 0.1909 - acc: 0.9143 - val_loss: 0.2391 - val_acc: 0.9333\n",
      "Epoch 130/150\n",
      "105/105 [==============================] - 0s 78us/step - loss: 0.1899 - acc: 0.9143 - val_loss: 0.2373 - val_acc: 0.9333\n",
      "Epoch 131/150\n",
      "105/105 [==============================] - 0s 78us/step - loss: 0.1888 - acc: 0.9175 - val_loss: 0.2352 - val_acc: 0.9333\n",
      "Epoch 132/150\n",
      "105/105 [==============================] - 0s 77us/step - loss: 0.1878 - acc: 0.9175 - val_loss: 0.2334 - val_acc: 0.9333\n",
      "Epoch 133/150\n",
      "105/105 [==============================] - 0s 73us/step - loss: 0.1868 - acc: 0.9175 - val_loss: 0.2312 - val_acc: 0.9259\n",
      "Epoch 134/150\n",
      "105/105 [==============================] - 0s 76us/step - loss: 0.1858 - acc: 0.9175 - val_loss: 0.2292 - val_acc: 0.9259\n",
      "Epoch 135/150\n",
      "105/105 [==============================] - 0s 77us/step - loss: 0.1848 - acc: 0.9175 - val_loss: 0.2273 - val_acc: 0.9259\n",
      "Epoch 136/150\n",
      "105/105 [==============================] - 0s 80us/step - loss: 0.1837 - acc: 0.9175 - val_loss: 0.2256 - val_acc: 0.9259\n",
      "Epoch 137/150\n",
      "105/105 [==============================] - 0s 78us/step - loss: 0.1827 - acc: 0.9175 - val_loss: 0.2237 - val_acc: 0.9259\n",
      "Epoch 138/150\n",
      "105/105 [==============================] - 0s 74us/step - loss: 0.1819 - acc: 0.9175 - val_loss: 0.2220 - val_acc: 0.9259\n",
      "Epoch 139/150\n",
      "105/105 [==============================] - 0s 76us/step - loss: 0.1808 - acc: 0.9175 - val_loss: 0.2208 - val_acc: 0.9259\n",
      "Epoch 140/150\n",
      "105/105 [==============================] - 0s 92us/step - loss: 0.1799 - acc: 0.9175 - val_loss: 0.2194 - val_acc: 0.9259\n",
      "Epoch 141/150\n",
      "105/105 [==============================] - 0s 76us/step - loss: 0.1787 - acc: 0.9175 - val_loss: 0.2186 - val_acc: 0.9259\n",
      "Epoch 142/150\n",
      "105/105 [==============================] - 0s 81us/step - loss: 0.1775 - acc: 0.9175 - val_loss: 0.2173 - val_acc: 0.9259\n",
      "Epoch 143/150\n",
      "105/105 [==============================] - 0s 82us/step - loss: 0.1764 - acc: 0.9175 - val_loss: 0.2158 - val_acc: 0.9259\n",
      "Epoch 144/150\n",
      "105/105 [==============================] - 0s 79us/step - loss: 0.1753 - acc: 0.9238 - val_loss: 0.2143 - val_acc: 0.9259\n",
      "Epoch 145/150\n",
      "105/105 [==============================] - 0s 99us/step - loss: 0.1740 - acc: 0.9238 - val_loss: 0.2121 - val_acc: 0.9259\n",
      "Epoch 146/150\n",
      "105/105 [==============================] - 0s 77us/step - loss: 0.1724 - acc: 0.9302 - val_loss: 0.2100 - val_acc: 0.9259\n",
      "Epoch 147/150\n",
      "105/105 [==============================] - 0s 79us/step - loss: 0.1714 - acc: 0.9333 - val_loss: 0.2081 - val_acc: 0.9259\n",
      "Epoch 148/150\n",
      "105/105 [==============================] - 0s 79us/step - loss: 0.1696 - acc: 0.9365 - val_loss: 0.2070 - val_acc: 0.9259\n",
      "Epoch 149/150\n",
      "105/105 [==============================] - 0s 75us/step - loss: 0.1685 - acc: 0.9333 - val_loss: 0.2059 - val_acc: 0.9259\n",
      "Epoch 150/150\n",
      "105/105 [==============================] - 0s 80us/step - loss: 0.1672 - acc: 0.9365 - val_loss: 0.2050 - val_acc: 0.9259\n"
     ]
    }
   ],
   "source": [
    "model_training = model.fit(x_train, y_train, epochs = 150, validation_data = (x_test, y_test))\n"
   ]
  }
 ],
 "metadata": {
  "kernelspec": {
   "display_name": "Python 3",
   "language": "python",
   "name": "python3"
  },
  "language_info": {
   "codemirror_mode": {
    "name": "ipython",
    "version": 3
   },
   "file_extension": ".py",
   "mimetype": "text/x-python",
   "name": "python",
   "nbconvert_exporter": "python",
   "pygments_lexer": "ipython3",
   "version": "3.6.6"
  }
 },
 "nbformat": 4,
 "nbformat_minor": 1
}
